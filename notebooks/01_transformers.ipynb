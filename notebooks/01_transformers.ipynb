{
 "cells": [
  {
   "cell_type": "code",
   "execution_count": 32,
   "id": "2f53d243-ca4d-44fe-8ab8-a9b9d17e41c7",
   "metadata": {},
   "outputs": [],
   "source": [
    "import numpy as np\n",
    "from transformers import pipeline"
   ]
  },
  {
   "cell_type": "markdown",
   "id": "dcebef20-80dc-4b34-929b-e2cc645b315c",
   "metadata": {},
   "source": [
    "# Sentiment classification"
   ]
  },
  {
   "cell_type": "code",
   "execution_count": 2,
   "id": "69b6fff3-e2f3-4167-8457-09e2dc05b863",
   "metadata": {},
   "outputs": [
    {
     "name": "stderr",
     "output_type": "stream",
     "text": [
      "No model was supplied, defaulted to distilbert-base-uncased-finetuned-sst-2-english and revision af0f99b (https://huggingface.co/distilbert-base-uncased-finetuned-sst-2-english).\n",
      "Using a pipeline without specifying a model name and revision in production is not recommended.\n"
     ]
    }
   ],
   "source": [
    "sent_cls = pipeline(\"sentiment-analysis\")"
   ]
  },
  {
   "cell_type": "code",
   "execution_count": 22,
   "id": "b1bf2653-0f88-4383-bd37-2eee68af0073",
   "metadata": {},
   "outputs": [],
   "source": [
    "sent_text1 = \"I've been waiting for a HuggingFace course my whole life.\"\n",
    "sent_text2 = \"I've been waiting for a HuggingFace course for several years.\"\n",
    "sent_text3 = \"I've been waiting for a HuggingFace course for several years, and I'm glad it's finally here.\"\n",
    "sent_text4 = \"I've been waiting for a HuggingFace course, and now there is one.\"\n",
    "sent_text5 = \"I've taken a HuggingFace course.\""
   ]
  },
  {
   "cell_type": "markdown",
   "id": "25a828b1-078c-41e6-86df-1ea2cd8a3e93",
   "metadata": {},
   "source": [
    "## One-at-a-time"
   ]
  },
  {
   "cell_type": "code",
   "execution_count": 23,
   "id": "a0571c2b-1618-4cf9-83b6-b2863f617259",
   "metadata": {},
   "outputs": [
    {
     "name": "stdout",
     "output_type": "stream",
     "text": [
      "[{'label': 'POSITIVE', 'score': 0.9598049521446228}]\n",
      "[{'label': 'NEGATIVE', 'score': 0.989154040813446}]\n",
      "[{'label': 'POSITIVE', 'score': 0.9995457530021667}]\n",
      "[{'label': 'NEGATIVE', 'score': 0.8055378198623657}]\n",
      "[{'label': 'POSITIVE', 'score': 0.7428491711616516}]\n"
     ]
    }
   ],
   "source": [
    "res1 = sent_cls(sent_text1)\n",
    "res2 = sent_cls(sent_text2)\n",
    "res3 = sent_cls(sent_text3)\n",
    "res4 = sent_cls(sent_text4)\n",
    "res5 = sent_cls(sent_text5)\n",
    "print(res1)\n",
    "print(res2)\n",
    "print(res3)\n",
    "print(res4)\n",
    "print(res5)"
   ]
  },
  {
   "cell_type": "markdown",
   "id": "7ad37bac-57be-43e3-97d2-2281913d6e27",
   "metadata": {},
   "source": [
    "## As a list"
   ]
  },
  {
   "cell_type": "code",
   "execution_count": 24,
   "id": "346d22e0-9e99-43de-ada1-6978ba33885f",
   "metadata": {},
   "outputs": [],
   "source": [
    "res_ls = sent_cls([sent_text1, sent_text2, sent_text3, sent_text4, sent_text5])"
   ]
  },
  {
   "cell_type": "code",
   "execution_count": 25,
   "id": "f7d10d1b-d9cb-4fcc-9e73-32c19242c77a",
   "metadata": {},
   "outputs": [
    {
     "name": "stdout",
     "output_type": "stream",
     "text": [
      "{'label': 'POSITIVE', 'score': 0.9598049521446228}\n",
      "{'label': 'NEGATIVE', 'score': 0.989154040813446}\n",
      "{'label': 'POSITIVE', 'score': 0.9995457530021667}\n",
      "{'label': 'NEGATIVE', 'score': 0.8055378198623657}\n",
      "{'label': 'POSITIVE', 'score': 0.7428491711616516}\n"
     ]
    }
   ],
   "source": [
    "print(*res_ls, sep='\\n')"
   ]
  },
  {
   "cell_type": "markdown",
   "id": "94e7bdc9-082a-4394-8ad2-296b4b4562c7",
   "metadata": {},
   "source": [
    "# Zero-shot classification"
   ]
  },
  {
   "cell_type": "code",
   "execution_count": 44,
   "id": "bcc025a3-2ed8-4c99-aae9-67937850b86d",
   "metadata": {},
   "outputs": [
    {
     "name": "stderr",
     "output_type": "stream",
     "text": [
      "No model was supplied, defaulted to facebook/bart-large-mnli and revision c626438 (https://huggingface.co/facebook/bart-large-mnli).\n",
      "Using a pipeline without specifying a model name and revision in production is not recommended.\n"
     ]
    },
    {
     "data": {
      "application/vnd.jupyter.widget-view+json": {
       "model_id": "cbf456fecc594da5b84a22a2d133aab2",
       "version_major": 2,
       "version_minor": 0
      },
      "text/plain": [
       "Downloading (…)lve/main/config.json:   0%|          | 0.00/1.15k [00:00<?, ?B/s]"
      ]
     },
     "metadata": {},
     "output_type": "display_data"
    },
    {
     "data": {
      "application/vnd.jupyter.widget-view+json": {
       "model_id": "39b55532031a4864ba5b382e13b6f57e",
       "version_major": 2,
       "version_minor": 0
      },
      "text/plain": [
       "Downloading model.safetensors:   0%|          | 0.00/1.63G [00:00<?, ?B/s]"
      ]
     },
     "metadata": {},
     "output_type": "display_data"
    },
    {
     "data": {
      "application/vnd.jupyter.widget-view+json": {
       "model_id": "82010389038b4ecf8293ff2c6e82d8f6",
       "version_major": 2,
       "version_minor": 0
      },
      "text/plain": [
       "Downloading (…)okenizer_config.json:   0%|          | 0.00/26.0 [00:00<?, ?B/s]"
      ]
     },
     "metadata": {},
     "output_type": "display_data"
    },
    {
     "data": {
      "application/vnd.jupyter.widget-view+json": {
       "model_id": "9677564f9ce5449ba86aa3cf0985361a",
       "version_major": 2,
       "version_minor": 0
      },
      "text/plain": [
       "Downloading (…)olve/main/vocab.json:   0%|          | 0.00/899k [00:00<?, ?B/s]"
      ]
     },
     "metadata": {},
     "output_type": "display_data"
    },
    {
     "data": {
      "application/vnd.jupyter.widget-view+json": {
       "model_id": "e465f174d2cb424a8be0910f0b96eb97",
       "version_major": 2,
       "version_minor": 0
      },
      "text/plain": [
       "Downloading (…)olve/main/merges.txt:   0%|          | 0.00/456k [00:00<?, ?B/s]"
      ]
     },
     "metadata": {},
     "output_type": "display_data"
    },
    {
     "data": {
      "application/vnd.jupyter.widget-view+json": {
       "model_id": "e8fba1dd6050469ebed2227d1be280a6",
       "version_major": 2,
       "version_minor": 0
      },
      "text/plain": [
       "Downloading (…)/main/tokenizer.json:   0%|          | 0.00/1.36M [00:00<?, ?B/s]"
      ]
     },
     "metadata": {},
     "output_type": "display_data"
    }
   ],
   "source": [
    "zeroshot_cls = pipeline(\"zero-shot-classification\")"
   ]
  },
  {
   "cell_type": "code",
   "execution_count": 100,
   "id": "b472a42a-b627-4d3d-adf6-000bbfe5bc84",
   "metadata": {},
   "outputs": [],
   "source": [
    "cls_text1 = \"This course covers content on the Transformers in HuggingFace.\"\n",
    "cls_text2 = \"The BA 3.21 course covers management of mergers and acquisitions. It includes detailed analysis of recent business events, for example, the merger of Arizona Tea with Pepsi Cola in 2015, as reported on by the Harvard Business Review and Bloomberg.\"\n",
    "cls_text3 = \"The song, I Love to Dance, was released by Run Around, a popular South African electronic duo.\"\n",
    "label_options = [\"education\", \"politics\", \"business\", \"south african electronic dance music\"]"
   ]
  },
  {
   "cell_type": "code",
   "execution_count": 101,
   "id": "4cf88178-63c4-4f5f-b4e8-6398f6eb8f1e",
   "metadata": {},
   "outputs": [],
   "source": [
    "res1 = zeroshot_cls(cls_text1, candidate_labels=label_options)\n",
    "res2 = zeroshot_cls(cls_text2, candidate_labels=label_options)\n",
    "res3 = zeroshot_cls(cls_text3, candidate_labels=label_options)"
   ]
  },
  {
   "cell_type": "code",
   "execution_count": 102,
   "id": "e8df0b93-4144-482c-ad3e-6a6ec5c7265c",
   "metadata": {},
   "outputs": [
    {
     "name": "stdout",
     "output_type": "stream",
     "text": [
      "{'sequence': 'This course covers content on the Transformers in HuggingFace.', 'labels': ['education', 'business', 'south african electronic dance music', 'politics'], 'scores': [0.8080251216888428, 0.09419836103916168, 0.05079915374517441, 0.046977367252111435]}\n",
      "{'sequence': 'The BA 3.21 course covers management of mergers and acquisitions. It includes detailed analysis of recent business events, for example, the merger of Arizona Tea with Pepsi Cola in 2015, as reported on by the Harvard Business Review and Bloomberg.', 'labels': ['business', 'education', 'politics', 'south african electronic dance music'], 'scores': [0.9588165283203125, 0.01732027344405651, 0.013051297515630722, 0.010811956599354744]}\n",
      "{'sequence': 'The song, I Love to Dance, was released by Run Around, a popular South African electronic duo.', 'labels': ['south african electronic dance music', 'business', 'education', 'politics'], 'scores': [0.9960295557975769, 0.0017729271203279495, 0.0012527249054983258, 0.000944807194173336]}\n"
     ]
    }
   ],
   "source": [
    "print(res1)\n",
    "print(res2)\n",
    "print(res3)"
   ]
  },
  {
   "cell_type": "markdown",
   "id": "a2f67acb-989e-471e-a7c3-f110be9d9e34",
   "metadata": {},
   "source": [
    "# Text generation"
   ]
  },
  {
   "cell_type": "code",
   "execution_count": 112,
   "id": "f2c46968-3aaa-4c8b-8971-5070e3402ac1",
   "metadata": {},
   "outputs": [
    {
     "name": "stderr",
     "output_type": "stream",
     "text": [
      "No model was supplied, defaulted to gpt2 and revision 6c0e608 (https://huggingface.co/gpt2).\n",
      "Using a pipeline without specifying a model name and revision in production is not recommended.\n"
     ]
    }
   ],
   "source": [
    "text_gen1 = pipeline(\"text-generation\")"
   ]
  },
  {
   "cell_type": "code",
   "execution_count": 113,
   "id": "fcc57395-aeeb-492a-ad7e-79e779492e09",
   "metadata": {},
   "outputs": [],
   "source": [
    "gen_text1 = \"In this course, we will teach you how to\""
   ]
  },
  {
   "cell_type": "code",
   "execution_count": 118,
   "id": "ff31fdc3-8c6c-4284-8ee8-2ede0e921e75",
   "metadata": {},
   "outputs": [
    {
     "name": "stderr",
     "output_type": "stream",
     "text": [
      "Setting `pad_token_id` to `eos_token_id`:50256 for open-end generation.\n"
     ]
    }
   ],
   "source": [
    "res1 = text_gen1(gen_text1, max_new_tokens=50, num_return_sequences=3)"
   ]
  },
  {
   "cell_type": "code",
   "execution_count": 119,
   "id": "b2e33307-eda6-487c-8f2b-60daa5d9f3a0",
   "metadata": {},
   "outputs": [
    {
     "name": "stdout",
     "output_type": "stream",
     "text": [
      "{'generated_text': 'In this course, we will teach you how to write JavaScript functions with jQuery and ES6. This course will expand on our previous ES6 course, which covers how to write JavaScript functions, such as JavaScript with jQuery and ES6.\\n\\nThis is a 3 part series.\\n\\nYou will'}\n",
      "{'generated_text': 'In this course, we will teach you how to perform successful jobs on video on the web, and show you how to use the tools and APIs behind it to create the best results for all of you.\\n\\nLearn: How to Create A Job With A Video Platform and an App\\n\\n\\nThis'}\n",
      "{'generated_text': 'In this course, we will teach you how to manage your own social media strategies.\\n\\nWhat if I toldSSL to send an email that was a fake?\\n\\nSending an email with a fake message will cause your Social Media accounts to disappear and will prevent your social media accounts from being'}\n"
     ]
    }
   ],
   "source": [
    "print(*res1, sep='\\n')"
   ]
  },
  {
   "cell_type": "markdown",
   "id": "27ddb2d6-5df7-42b4-baae-9100011948f3",
   "metadata": {},
   "source": [
    "## Specific model"
   ]
  },
  {
   "cell_type": "code",
   "execution_count": 116,
   "id": "0f4bb27b-d07d-4281-8f2a-2d9374dcc97c",
   "metadata": {},
   "outputs": [
    {
     "data": {
      "application/vnd.jupyter.widget-view+json": {
       "model_id": "fef2f21d78c8441e9da490861f089877",
       "version_major": 2,
       "version_minor": 0
      },
      "text/plain": [
       "Downloading (…)lve/main/config.json:   0%|          | 0.00/762 [00:00<?, ?B/s]"
      ]
     },
     "metadata": {},
     "output_type": "display_data"
    },
    {
     "data": {
      "application/vnd.jupyter.widget-view+json": {
       "model_id": "ba0bc7e566ac47449c4a860b45b3819d",
       "version_major": 2,
       "version_minor": 0
      },
      "text/plain": [
       "Downloading model.safetensors:   0%|          | 0.00/353M [00:00<?, ?B/s]"
      ]
     },
     "metadata": {},
     "output_type": "display_data"
    },
    {
     "data": {
      "application/vnd.jupyter.widget-view+json": {
       "model_id": "f991cad5f24c4afc9f3e7f51e408a352",
       "version_major": 2,
       "version_minor": 0
      },
      "text/plain": [
       "Downloading (…)neration_config.json:   0%|          | 0.00/124 [00:00<?, ?B/s]"
      ]
     },
     "metadata": {},
     "output_type": "display_data"
    },
    {
     "data": {
      "application/vnd.jupyter.widget-view+json": {
       "model_id": "8a847b41c3c94634a3146afb855772a1",
       "version_major": 2,
       "version_minor": 0
      },
      "text/plain": [
       "Downloading (…)olve/main/vocab.json:   0%|          | 0.00/1.04M [00:00<?, ?B/s]"
      ]
     },
     "metadata": {},
     "output_type": "display_data"
    },
    {
     "data": {
      "application/vnd.jupyter.widget-view+json": {
       "model_id": "2ee8065a59f044358e4540e75b57121b",
       "version_major": 2,
       "version_minor": 0
      },
      "text/plain": [
       "Downloading (…)olve/main/merges.txt:   0%|          | 0.00/456k [00:00<?, ?B/s]"
      ]
     },
     "metadata": {},
     "output_type": "display_data"
    },
    {
     "data": {
      "application/vnd.jupyter.widget-view+json": {
       "model_id": "0deaf5ffdcb24404a21f3c2299206f03",
       "version_major": 2,
       "version_minor": 0
      },
      "text/plain": [
       "Downloading (…)/main/tokenizer.json:   0%|          | 0.00/1.36M [00:00<?, ?B/s]"
      ]
     },
     "metadata": {},
     "output_type": "display_data"
    }
   ],
   "source": [
    "text_gen2 = pipeline(\"text-generation\", model=\"distilgpt2\")"
   ]
  },
  {
   "cell_type": "code",
   "execution_count": 121,
   "id": "8d10e423-839c-4546-91f2-1ce88ff265ee",
   "metadata": {},
   "outputs": [
    {
     "name": "stderr",
     "output_type": "stream",
     "text": [
      "Setting `pad_token_id` to `eos_token_id`:50256 for open-end generation.\n"
     ]
    }
   ],
   "source": [
    "res1 = text_gen2(gen_text1, max_new_tokens=50, num_return_sequences=3)"
   ]
  },
  {
   "cell_type": "code",
   "execution_count": 122,
   "id": "aa8e7e04-9501-4424-a449-49d32a2537ba",
   "metadata": {},
   "outputs": [
    {
     "name": "stdout",
     "output_type": "stream",
     "text": [
      "{'generated_text': 'In this course, we will teach you how to properly test and understand the fundamentals of human psychology — the key to understanding the mind, how to recognize the emotional, psychological, emotional, and psychological responses to everyday life. Learn how to use it to improve your results over time, and learn how to'}\n",
      "{'generated_text': 'In this course, we will teach you how to use a language that integrates both traditional and high level languages.\\n\\n\\n\\n\\nTo read more related material on this course, click here: In the next section, I look at some of the most important points from this course:\\n1. Introduction'}\n",
      "{'generated_text': 'In this course, we will teach you how to build a powerful system in its entirety that lets you build powerful hardware. All the benefits of making hardware work for you can be found in our Beginners tutorial to build a powerful system that lets you build amazing hardware.'}\n"
     ]
    }
   ],
   "source": [
    "print(*res1, sep='\\n')"
   ]
  },
  {
   "cell_type": "markdown",
   "id": "9414182a-9a10-43c0-873d-ed6dc4c1b589",
   "metadata": {},
   "source": [
    "# Mask filling"
   ]
  },
  {
   "cell_type": "code",
   "execution_count": 137,
   "id": "08388dad-618f-4fed-8763-fea72dcff198",
   "metadata": {},
   "outputs": [
    {
     "name": "stderr",
     "output_type": "stream",
     "text": [
      "Some weights of the model checkpoint at distilroberta-base were not used when initializing RobertaForMaskedLM: ['roberta.pooler.dense.weight', 'roberta.pooler.dense.bias']\n",
      "- This IS expected if you are initializing RobertaForMaskedLM from the checkpoint of a model trained on another task or with another architecture (e.g. initializing a BertForSequenceClassification model from a BertForPreTraining model).\n",
      "- This IS NOT expected if you are initializing RobertaForMaskedLM from the checkpoint of a model that you expect to be exactly identical (initializing a BertForSequenceClassification model from a BertForSequenceClassification model).\n"
     ]
    }
   ],
   "source": [
    "fill_mask = pipeline(\"fill-mask\", model=\"distilroberta-base\")"
   ]
  },
  {
   "cell_type": "code",
   "execution_count": 138,
   "id": "03926d56-5bd5-480c-a8e0-6e1522490422",
   "metadata": {},
   "outputs": [],
   "source": [
    "mask_text1 = \"This course will teach you all about <mask> models.\"\n",
    "mask_text2 = \"This course about NLP will teach you all about <mask> models.\""
   ]
  },
  {
   "cell_type": "code",
   "execution_count": 139,
   "id": "93824e24-ce16-412e-a4fd-f1244d3fffbf",
   "metadata": {},
   "outputs": [],
   "source": [
    "res1 = fill_mask(mask_text1, top_k=3)\n",
    "res2 = fill_mask(mask_text2, top_k=3)"
   ]
  },
  {
   "cell_type": "code",
   "execution_count": 140,
   "id": "3972aed7-debe-423c-aea6-8bf1dcbf0a33",
   "metadata": {},
   "outputs": [
    {
     "name": "stdout",
     "output_type": "stream",
     "text": [
      "{'score': 0.1961979866027832, 'token': 30412, 'token_str': ' mathematical', 'sequence': 'This course will teach you all about mathematical models.'}\n",
      "{'score': 0.04052741825580597, 'token': 38163, 'token_str': ' computational', 'sequence': 'This course will teach you all about computational models.'}\n",
      "{'score': 0.03301801159977913, 'token': 27930, 'token_str': ' predictive', 'sequence': 'This course will teach you all about predictive models.'}\n",
      "{'score': 0.16762425005435944, 'token': 30412, 'token_str': ' mathematical', 'sequence': 'This course about NLP will teach you all about mathematical models.'}\n",
      "{'score': 0.06418145447969437, 'token': 38163, 'token_str': ' computational', 'sequence': 'This course about NLP will teach you all about computational models.'}\n",
      "{'score': 0.03192176669836044, 'token': 26739, 'token_str': ' neural', 'sequence': 'This course about NLP will teach you all about neural models.'}\n"
     ]
    }
   ],
   "source": [
    "print(*res1, sep='\\n')\n",
    "print(*res2, sep='\\n')"
   ]
  },
  {
   "cell_type": "markdown",
   "id": "b066cb65-9ca7-43d5-9006-eb04ee79f9f1",
   "metadata": {},
   "source": [
    "# Named entity recognition"
   ]
  },
  {
   "cell_type": "code",
   "execution_count": 142,
   "id": "03e0578e-5575-40aa-a357-ba01e36784e9",
   "metadata": {},
   "outputs": [
    {
     "name": "stderr",
     "output_type": "stream",
     "text": [
      "Some weights of the model checkpoint at dbmdz/bert-large-cased-finetuned-conll03-english were not used when initializing BertForTokenClassification: ['bert.pooler.dense.weight', 'bert.pooler.dense.bias']\n",
      "- This IS expected if you are initializing BertForTokenClassification from the checkpoint of a model trained on another task or with another architecture (e.g. initializing a BertForSequenceClassification model from a BertForPreTraining model).\n",
      "- This IS NOT expected if you are initializing BertForTokenClassification from the checkpoint of a model that you expect to be exactly identical (initializing a BertForSequenceClassification model from a BertForSequenceClassification model).\n"
     ]
    }
   ],
   "source": [
    "ner = pipeline(\"ner\", model=\"dbmdz/bert-large-cased-finetuned-conll03-english\", grouped_entities=True)"
   ]
  },
  {
   "cell_type": "code",
   "execution_count": 156,
   "id": "c64d0991-7a93-4b5e-92e4-674322a6fe5a",
   "metadata": {},
   "outputs": [],
   "source": [
    "ner_text1 = \"My name is Sylvain and I work at Hugging Face in Brooklyn.\"\n",
    "ner_text2 = \"My name is Sylvain and I work as a data scientist at Hugging Face in Brooklyn, NYC.\"\n",
    "ner_text3 = \"My name is John Doe and I work as a data scientist at Hugging Face in Brooklyn, NYC.\""
   ]
  },
  {
   "cell_type": "code",
   "execution_count": 157,
   "id": "36934309-fb35-4888-a173-243881c18bfb",
   "metadata": {},
   "outputs": [],
   "source": [
    "res1 = ner(ner_text1)\n",
    "res2 = ner(ner_text2)\n",
    "res3 = ner(ner_text3)"
   ]
  },
  {
   "cell_type": "code",
   "execution_count": 158,
   "id": "48113106-77a9-46f3-ae93-3bb46d736150",
   "metadata": {},
   "outputs": [
    {
     "name": "stdout",
     "output_type": "stream",
     "text": [
      "{'entity_group': 'PER', 'score': 0.9981694, 'word': 'Sylvain', 'start': 11, 'end': 18}\n",
      "{'entity_group': 'ORG', 'score': 0.9796019, 'word': 'Hugging Face', 'start': 33, 'end': 45}\n",
      "{'entity_group': 'LOC', 'score': 0.9932106, 'word': 'Brooklyn', 'start': 49, 'end': 57}\n",
      "{'entity_group': 'PER', 'score': 0.9986529, 'word': 'Sylvain', 'start': 11, 'end': 18}\n",
      "{'entity_group': 'ORG', 'score': 0.9939623, 'word': 'Hugging Face', 'start': 53, 'end': 65}\n",
      "{'entity_group': 'LOC', 'score': 0.99679935, 'word': 'Brooklyn', 'start': 69, 'end': 77}\n",
      "{'entity_group': 'LOC', 'score': 0.99340254, 'word': 'NYC', 'start': 79, 'end': 82}\n",
      "{'entity_group': 'PER', 'score': 0.9975205, 'word': 'John Doe', 'start': 11, 'end': 19}\n",
      "{'entity_group': 'ORG', 'score': 0.9932844, 'word': 'Hugging Face', 'start': 54, 'end': 66}\n",
      "{'entity_group': 'LOC', 'score': 0.9967991, 'word': 'Brooklyn', 'start': 70, 'end': 78}\n",
      "{'entity_group': 'LOC', 'score': 0.9914799, 'word': 'NYC', 'start': 80, 'end': 83}\n"
     ]
    }
   ],
   "source": [
    "print(*res1, sep='\\n')\n",
    "print(*res2, sep='\\n')\n",
    "print(*res3, sep='\\n')"
   ]
  },
  {
   "cell_type": "markdown",
   "id": "530fb0c5-1d9f-4f17-8507-cb92fd9a4883",
   "metadata": {},
   "source": [
    "## Part-of-speech tagging"
   ]
  },
  {
   "cell_type": "code",
   "execution_count": 161,
   "id": "2d0e581d-7825-44de-a617-634aff127b91",
   "metadata": {},
   "outputs": [
    {
     "name": "stderr",
     "output_type": "stream",
     "text": [
      "Some weights of the model checkpoint at vblagoje/bert-english-uncased-finetuned-pos were not used when initializing BertForTokenClassification: ['bert.pooler.dense.bias', 'bert.pooler.dense.weight']\n",
      "- This IS expected if you are initializing BertForTokenClassification from the checkpoint of a model trained on another task or with another architecture (e.g. initializing a BertForSequenceClassification model from a BertForPreTraining model).\n",
      "- This IS NOT expected if you are initializing BertForTokenClassification from the checkpoint of a model that you expect to be exactly identical (initializing a BertForSequenceClassification model from a BertForSequenceClassification model).\n"
     ]
    }
   ],
   "source": [
    "pos_tag = pipeline(\"token-classification\", model=\"vblagoje/bert-english-uncased-finetuned-pos\", grouped_entities=True)"
   ]
  },
  {
   "cell_type": "code",
   "execution_count": 162,
   "id": "25776f79-f3be-4926-9dcc-d5afd3e6419e",
   "metadata": {},
   "outputs": [],
   "source": [
    "res1 = pos_tag(ner_text1)"
   ]
  },
  {
   "cell_type": "code",
   "execution_count": 165,
   "id": "edb60044-c8ed-4071-a975-58aeb2672bbe",
   "metadata": {},
   "outputs": [
    {
     "name": "stdout",
     "output_type": "stream",
     "text": [
      "{'entity_group': 'PRON', 'score': 0.9994592, 'word': 'my', 'start': 0, 'end': 2}\n",
      "{'entity_group': 'NOUN', 'score': 0.99601364, 'word': 'name', 'start': 3, 'end': 7}\n",
      "{'entity_group': 'AUX', 'score': 0.9953696, 'word': 'is', 'start': 8, 'end': 10}\n",
      "{'entity_group': 'PROPN', 'score': 0.9981525, 'word': 'sylvain', 'start': 11, 'end': 18}\n",
      "{'entity_group': 'CCONJ', 'score': 0.99918765, 'word': 'and', 'start': 19, 'end': 22}\n",
      "{'entity_group': 'PRON', 'score': 0.9994679, 'word': 'i', 'start': 23, 'end': 24}\n",
      "{'entity_group': 'VERB', 'score': 0.99923587, 'word': 'work', 'start': 25, 'end': 29}\n",
      "{'entity_group': 'ADP', 'score': 0.9063106, 'word': 'at', 'start': 30, 'end': 32}\n",
      "{'entity_group': 'PROPN', 'score': 0.7190516, 'word': 'hugging face', 'start': 33, 'end': 45}\n",
      "{'entity_group': 'ADP', 'score': 0.9993789, 'word': 'in', 'start': 46, 'end': 48}\n",
      "{'entity_group': 'PROPN', 'score': 0.9989513, 'word': 'brooklyn', 'start': 49, 'end': 57}\n",
      "{'entity_group': 'PUNCT', 'score': 0.99963903, 'word': '.', 'start': 57, 'end': 58}\n"
     ]
    }
   ],
   "source": [
    "print(*res1, sep='\\n')"
   ]
  },
  {
   "cell_type": "markdown",
   "id": "7361621f-415d-4452-a8fc-e40733c30930",
   "metadata": {},
   "source": [
    "# Question answering"
   ]
  },
  {
   "cell_type": "code",
   "execution_count": 167,
   "id": "17d79afc-d478-45e9-97d1-7e9a6fd351a3",
   "metadata": {},
   "outputs": [],
   "source": [
    "qa = pipeline(\"question-answering\", model=\"distilbert-base-cased-distilled-squad\")"
   ]
  },
  {
   "cell_type": "code",
   "execution_count": 177,
   "id": "06ae764b-f002-40d7-b469-9407de2ffd7d",
   "metadata": {},
   "outputs": [],
   "source": [
    "context1 = \"My name is Sylvain and I work at Hugging Face in Brooklyn\"\n",
    "question1 = \"Where do I work?\""
   ]
  },
  {
   "cell_type": "code",
   "execution_count": 179,
   "id": "7eb2e77b-afc4-4604-b3f0-2fd4d1d46739",
   "metadata": {},
   "outputs": [],
   "source": [
    "res1 = qa(context=context1, question=question1)"
   ]
  },
  {
   "cell_type": "code",
   "execution_count": 180,
   "id": "80fc9f90-25af-42e9-8215-69a85be25ad4",
   "metadata": {},
   "outputs": [
    {
     "name": "stdout",
     "output_type": "stream",
     "text": [
      "{'score': 0.6949767470359802, 'start': 33, 'end': 45, 'answer': 'Hugging Face'}\n"
     ]
    }
   ],
   "source": [
    "print(res1)"
   ]
  },
  {
   "cell_type": "markdown",
   "id": "58dfbbf4-b2fb-45a6-b352-b26992194177",
   "metadata": {},
   "source": [
    "# Summarization"
   ]
  },
  {
   "cell_type": "code",
   "execution_count": 188,
   "id": "35bb4a90-b224-405a-94af-481cee7a0e68",
   "metadata": {},
   "outputs": [],
   "source": [
    "summarizer = pipeline(\"summarization\", model=\"sshleifer/distilbart-cnn-12-6\")"
   ]
  },
  {
   "cell_type": "code",
   "execution_count": 189,
   "id": "a31143a4-ca7f-4824-b5f8-ef35f0ea424e",
   "metadata": {},
   "outputs": [],
   "source": [
    "text_inp1 = \"\"\"\n",
    "    America has changed dramatically during recent years. Not only has the number of \n",
    "    graduates in traditional engineering disciplines such as mechanical, civil, \n",
    "    electrical, chemical, and aeronautical engineering declined, but in most of \n",
    "    the premier American universities engineering curricula now concentrate on \n",
    "    and encourage largely the study of engineering science. As a result, there \n",
    "    are declining offerings in engineering subjects dealing with infrastructure, \n",
    "    the environment, and related issues, and greater concentration on high \n",
    "    technology subjects, largely supporting increasingly complex scientific \n",
    "    developments. While the latter is important, it should not be at the expense \n",
    "    of more traditional engineering.\n",
    "\n",
    "    Rapidly developing economies such as China and India, as well as other \n",
    "    industrial countries in Europe and Asia, continue to encourage and advance \n",
    "    the teaching of engineering. Both China and India, respectively, graduate \n",
    "    six and eight times as many traditional engineers as does the United States. \n",
    "    Other industrial countries at minimum maintain their output, while America \n",
    "    suffers an increasingly serious decline in the number of engineering graduates \n",
    "    and a lack of well-educated engineers.\n",
    "\"\"\""
   ]
  },
  {
   "cell_type": "code",
   "execution_count": 197,
   "id": "b03a4a27-e5ec-4f4c-911e-82c838880601",
   "metadata": {},
   "outputs": [],
   "source": [
    "res1 = summarizer(text_inp1, min_length=40, max_length=80)"
   ]
  },
  {
   "cell_type": "code",
   "execution_count": 198,
   "id": "ee508f7c-0dac-4fa6-998f-12386a080598",
   "metadata": {},
   "outputs": [
    {
     "name": "stdout",
     "output_type": "stream",
     "text": [
      "[{'summary_text': ' America has changed dramatically during recent years . The number of engineering graduates in the U.S. has declined in traditional engineering disciplines such as mechanical, civil, electrical, chemical, and aeronautical engineering . Rapidly developing economies such as China and India continue to encourage and advance the teaching of engineering .'}]\n"
     ]
    }
   ],
   "source": [
    "print(res1)"
   ]
  },
  {
   "cell_type": "markdown",
   "id": "adce64ce-d1a8-4b41-9b25-804260e8ba42",
   "metadata": {},
   "source": [
    "# Translation"
   ]
  },
  {
   "cell_type": "code",
   "execution_count": 203,
   "id": "6fae39f7-3350-4518-8651-224bb28916cb",
   "metadata": {},
   "outputs": [],
   "source": [
    "translator1 = pipeline(\"translation\", model=\"Helsinki-NLP/opus-mt-fr-en\")"
   ]
  },
  {
   "cell_type": "code",
   "execution_count": 204,
   "id": "a5f4f782-88b7-4007-be1b-17fe1bc745f5",
   "metadata": {},
   "outputs": [],
   "source": [
    "source_text1 = \"Ce cours est produit par Hugging Face.\""
   ]
  },
  {
   "cell_type": "code",
   "execution_count": 205,
   "id": "12bc070b-e8f9-46bb-a319-a84736ca68fc",
   "metadata": {},
   "outputs": [],
   "source": [
    "res1 = translator1(source_text1)"
   ]
  },
  {
   "cell_type": "code",
   "execution_count": 206,
   "id": "0ca25102-a12d-4d04-8eca-7fecb96b7d39",
   "metadata": {},
   "outputs": [
    {
     "name": "stdout",
     "output_type": "stream",
     "text": [
      "[{'translation_text': 'This course is produced by Hugging Face.'}]\n"
     ]
    }
   ],
   "source": [
    "print(res1)"
   ]
  },
  {
   "cell_type": "code",
   "execution_count": 207,
   "id": "e9c4d8f0-0dc6-4d7d-a2f0-1fcb9fe0e47e",
   "metadata": {},
   "outputs": [
    {
     "data": {
      "application/vnd.jupyter.widget-view+json": {
       "model_id": "2404c9ec86314bbdb53f2d2b413f65c8",
       "version_major": 2,
       "version_minor": 0
      },
      "text/plain": [
       "Downloading (…)lve/main/config.json:   0%|          | 0.00/1.46k [00:00<?, ?B/s]"
      ]
     },
     "metadata": {},
     "output_type": "display_data"
    },
    {
     "data": {
      "application/vnd.jupyter.widget-view+json": {
       "model_id": "e146f37ded9d44ae9d56adf22b93b091",
       "version_major": 2,
       "version_minor": 0
      },
      "text/plain": [
       "Downloading pytorch_model.bin:   0%|          | 0.00/310M [00:00<?, ?B/s]"
      ]
     },
     "metadata": {},
     "output_type": "display_data"
    },
    {
     "data": {
      "application/vnd.jupyter.widget-view+json": {
       "model_id": "e456d2dac8e143e3aa59134d452c9966",
       "version_major": 2,
       "version_minor": 0
      },
      "text/plain": [
       "Downloading (…)okenizer_config.json:   0%|          | 0.00/300 [00:00<?, ?B/s]"
      ]
     },
     "metadata": {},
     "output_type": "display_data"
    },
    {
     "data": {
      "application/vnd.jupyter.widget-view+json": {
       "model_id": "373c1b881eb54535b6fc23365d880c78",
       "version_major": 2,
       "version_minor": 0
      },
      "text/plain": [
       "Downloading (…)olve/main/source.spm:   0%|          | 0.00/826k [00:00<?, ?B/s]"
      ]
     },
     "metadata": {},
     "output_type": "display_data"
    },
    {
     "data": {
      "application/vnd.jupyter.widget-view+json": {
       "model_id": "9181619988a84ac6828c79101886a9c8",
       "version_major": 2,
       "version_minor": 0
      },
      "text/plain": [
       "Downloading (…)olve/main/target.spm:   0%|          | 0.00/802k [00:00<?, ?B/s]"
      ]
     },
     "metadata": {},
     "output_type": "display_data"
    },
    {
     "data": {
      "application/vnd.jupyter.widget-view+json": {
       "model_id": "7eebf7c0b22d4ea4b188bad72b896dd5",
       "version_major": 2,
       "version_minor": 0
      },
      "text/plain": [
       "Downloading (…)olve/main/vocab.json:   0%|          | 0.00/1.72M [00:00<?, ?B/s]"
      ]
     },
     "metadata": {},
     "output_type": "display_data"
    },
    {
     "data": {
      "application/vnd.jupyter.widget-view+json": {
       "model_id": "bb42cf308d3d47fc95290b027f5812b2",
       "version_major": 2,
       "version_minor": 0
      },
      "text/plain": [
       "Downloading (…)cial_tokens_map.json:   0%|          | 0.00/65.0 [00:00<?, ?B/s]"
      ]
     },
     "metadata": {},
     "output_type": "display_data"
    }
   ],
   "source": [
    "translator2 = pipeline(\"translation\", model=\"salesken/translation-spanish-and-portuguese-to-english\")"
   ]
  },
  {
   "cell_type": "code",
   "execution_count": 208,
   "id": "0cde0317-59dc-4ac6-a431-194bc1001432",
   "metadata": {},
   "outputs": [],
   "source": [
    "source_text2 = \"me gustan las peliculas existencialistas.\""
   ]
  },
  {
   "cell_type": "code",
   "execution_count": 209,
   "id": "4009de20-7441-44f2-83b3-995c66909b20",
   "metadata": {},
   "outputs": [],
   "source": [
    "res2 = translator2(source_text2)"
   ]
  },
  {
   "cell_type": "code",
   "execution_count": 210,
   "id": "26c7c753-c53d-4f04-939f-fdbebc0e46e8",
   "metadata": {},
   "outputs": [
    {
     "name": "stdout",
     "output_type": "stream",
     "text": [
      "[{'translation_text': 'I like existential films.'}]\n"
     ]
    }
   ],
   "source": [
    "print(res2)"
   ]
  }
 ],
 "metadata": {
  "kernelspec": {
   "display_name": "Python 3 (ipykernel)",
   "language": "python",
   "name": "python3"
  },
  "language_info": {
   "codemirror_mode": {
    "name": "ipython",
    "version": 3
   },
   "file_extension": ".py",
   "mimetype": "text/x-python",
   "name": "python",
   "nbconvert_exporter": "python",
   "pygments_lexer": "ipython3",
   "version": "3.10.12"
  }
 },
 "nbformat": 4,
 "nbformat_minor": 5
}
