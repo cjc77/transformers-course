{
 "cells": [
  {
   "cell_type": "code",
   "execution_count": 4,
   "id": "ba1df196-8d66-4f16-a402-0066513cf435",
   "metadata": {},
   "outputs": [],
   "source": [
    "from datasets import load_dataset"
   ]
  },
  {
   "cell_type": "markdown",
   "id": "c47d7a3c-60a1-4d13-9bbb-aaf6aeb40723",
   "metadata": {},
   "source": [
    "# Download datasets"
   ]
  },
  {
   "cell_type": "code",
   "execution_count": 2,
   "id": "83f7b8c2-a99a-4d0f-9c64-cf90a3c89d1e",
   "metadata": {
    "scrolled": true
   },
   "outputs": [
    {
     "name": "stdout",
     "output_type": "stream",
     "text": [
      "--2023-08-17 23:05:16--  https://github.com/crux82/squad-it/raw/master/SQuAD_it-train.json.gz\n",
      "Resolving github.com (github.com)... 192.30.255.113\n",
      "Connecting to github.com (github.com)|192.30.255.113|:443... connected.\n",
      "HTTP request sent, awaiting response... 302 Found\n",
      "Location: https://raw.githubusercontent.com/crux82/squad-it/master/SQuAD_it-train.json.gz [following]\n",
      "--2023-08-17 23:05:16--  https://raw.githubusercontent.com/crux82/squad-it/master/SQuAD_it-train.json.gz\n",
      "Resolving raw.githubusercontent.com (raw.githubusercontent.com)... 185.199.110.133, 185.199.111.133, 185.199.108.133, ...\n",
      "Connecting to raw.githubusercontent.com (raw.githubusercontent.com)|185.199.110.133|:443... connected.\n",
      "HTTP request sent, awaiting response... 200 OK\n",
      "Length: 7725286 (7.4M) [application/octet-stream]\n",
      "Saving to: ‘../data/squad-it/SQuAD_it-train.json.gz’\n",
      "\n",
      "SQuAD_it-train.json 100%[===================>]   7.37M  14.7MB/s    in 0.5s    \n",
      "\n",
      "2023-08-17 23:05:16 (14.7 MB/s) - ‘../data/squad-it/SQuAD_it-train.json.gz’ saved [7725286/7725286]\n",
      "\n",
      "--2023-08-17 23:05:17--  https://github.com/crux82/squad-it/raw/master/SQuAD_it-test.json.gz\n",
      "Resolving github.com (github.com)... 192.30.255.113\n",
      "Connecting to github.com (github.com)|192.30.255.113|:443... connected.\n",
      "HTTP request sent, awaiting response... 302 Found\n",
      "Location: https://raw.githubusercontent.com/crux82/squad-it/master/SQuAD_it-test.json.gz [following]\n",
      "--2023-08-17 23:05:17--  https://raw.githubusercontent.com/crux82/squad-it/master/SQuAD_it-test.json.gz\n",
      "Resolving raw.githubusercontent.com (raw.githubusercontent.com)... 185.199.110.133, 185.199.111.133, 185.199.108.133, ...\n",
      "Connecting to raw.githubusercontent.com (raw.githubusercontent.com)|185.199.110.133|:443... connected.\n",
      "HTTP request sent, awaiting response... 200 OK\n",
      "Length: 1051245 (1.0M) [application/octet-stream]\n",
      "Saving to: ‘../data/squad-it/SQuAD_it-test.json.gz’\n",
      "\n",
      "SQuAD_it-test.json. 100%[===================>]   1.00M  --.-KB/s    in 0.07s   \n",
      "\n",
      "2023-08-17 23:05:17 (13.7 MB/s) - ‘../data/squad-it/SQuAD_it-test.json.gz’ saved [1051245/1051245]\n",
      "\n"
     ]
    }
   ],
   "source": [
    "!wget -P ../data/squad-it https://github.com/crux82/squad-it/raw/master/SQuAD_it-train.json.gz\n",
    "!wget -P ../data/squad-it https://github.com/crux82/squad-it/raw/master/SQuAD_it-test.json.gz"
   ]
  },
  {
   "cell_type": "code",
   "execution_count": 3,
   "id": "8b7e86ee-f94a-4476-b65f-bfc405aa9dcc",
   "metadata": {},
   "outputs": [
    {
     "name": "stdout",
     "output_type": "stream",
     "text": [
      "../data/squad-it/SQuAD_it-test.json.gz:\t 87.5% -- created ../data/squad-it/SQuAD_it-test.json\n",
      "../data/squad-it/SQuAD_it-train.json.gz:\t 82.3% -- created ../data/squad-it/SQuAD_it-train.json\n"
     ]
    }
   ],
   "source": [
    "!gzip -dkv ../data/squad-it/SQuAD_it-*.json.gz"
   ]
  },
  {
   "cell_type": "markdown",
   "id": "af346a90-7e0b-4500-bc06-5bacebaaa0d7",
   "metadata": {},
   "source": [
    "# Load Dataset"
   ]
  },
  {
   "cell_type": "code",
   "execution_count": 26,
   "id": "d6ec2461-4f99-43d3-a6a6-97f7107bd209",
   "metadata": {},
   "outputs": [],
   "source": [
    "data_dir_path = \"../data/squad-it\""
   ]
  },
  {
   "cell_type": "markdown",
   "id": "3e558b0d-db49-44a7-8761-f4ece1d61da8",
   "metadata": {},
   "source": [
    "## Just one split"
   ]
  },
  {
   "cell_type": "code",
   "execution_count": 27,
   "id": "79ce1963-ec65-425d-b8e5-d901f13bac41",
   "metadata": {},
   "outputs": [],
   "source": [
    "squad_it_dataset = load_dataset(\"json\", data_files=f\"{data_dir_path}/SQuAD_it-train.json\", field=\"data\", )"
   ]
  },
  {
   "cell_type": "code",
   "execution_count": 28,
   "id": "93943da7-baea-416d-b4a3-45ebdf519df9",
   "metadata": {},
   "outputs": [
    {
     "data": {
      "text/plain": [
       "DatasetDict({\n",
       "    train: Dataset({\n",
       "        features: ['title', 'paragraphs'],\n",
       "        num_rows: 442\n",
       "    })\n",
       "})"
      ]
     },
     "execution_count": 28,
     "metadata": {},
     "output_type": "execute_result"
    }
   ],
   "source": [
    "squad_it_dataset"
   ]
  },
  {
   "cell_type": "code",
   "execution_count": 29,
   "id": "f146cc41-4dda-4ddb-9880-b6a4aa4faea3",
   "metadata": {},
   "outputs": [],
   "source": [
    "ex0 = squad_it_dataset[\"train\"][0]"
   ]
  },
  {
   "cell_type": "code",
   "execution_count": 30,
   "id": "307fc18a-9038-41c7-85fe-0e0924d4beb4",
   "metadata": {},
   "outputs": [
    {
     "data": {
      "text/plain": [
       "dict_keys(['title', 'paragraphs'])"
      ]
     },
     "execution_count": 30,
     "metadata": {},
     "output_type": "execute_result"
    }
   ],
   "source": [
    "ex0.keys()"
   ]
  },
  {
   "cell_type": "code",
   "execution_count": 31,
   "id": "c9d7b5bd-3f59-4f52-a1a5-358fefa42b70",
   "metadata": {},
   "outputs": [
    {
     "data": {
      "text/plain": [
       "'Terremoto del Sichuan del 2008'"
      ]
     },
     "execution_count": 31,
     "metadata": {},
     "output_type": "execute_result"
    }
   ],
   "source": [
    "ex0[\"title\"]"
   ]
  },
  {
   "cell_type": "code",
   "execution_count": 32,
   "id": "88f6c266-7e36-44f4-9baa-342af8438bc2",
   "metadata": {},
   "outputs": [
    {
     "data": {
      "text/plain": [
       "{'context': \"Il terremoto del Sichuan del 2008 o il terremoto del Gran Sichuan, misurato a 8.0 Ms e 7.9 Mw, e si è verificato alle 02:28:01 PM China Standard Time all' epicentro (06:28:01 UTC) il 12 maggio nella provincia del Sichuan, ha ucciso 69.197 persone e lasciato 18.222 dispersi.\",\n",
       " 'qas': [{'answers': [{'answer_start': 29, 'text': '2008'}],\n",
       "   'id': '56cdca7862d2951400fa6826',\n",
       "   'question': 'In quale anno si è verificato il terremoto nel Sichuan?'},\n",
       "  {'answers': [{'answer_start': 232, 'text': '69.197'}],\n",
       "   'id': '56cdca7862d2951400fa6828',\n",
       "   'question': 'Quante persone sono state uccise come risultato?'},\n",
       "  {'answers': [{'answer_start': 29, 'text': '2008'}],\n",
       "   'id': '56d4f9902ccc5a1400d833c0',\n",
       "   'question': 'Quale anno ha avuto luogo il terremoto del Sichuan?'},\n",
       "  {'answers': [{'answer_start': 78, 'text': '8.0 Ms e 7.9 Mw'}],\n",
       "   'id': '56d4f9902ccc5a1400d833c1',\n",
       "   'question': 'Che cosa ha fatto la misura di sisma?'},\n",
       "  {'answers': [{'answer_start': 183, 'text': '12 maggio'}],\n",
       "   'id': '56d4f9902ccc5a1400d833c2',\n",
       "   'question': 'Che giorno si è verificato il terremoto?'},\n",
       "  {'answers': [{'answer_start': 118,\n",
       "     'text': '02:28:01 PM China Standard Time'}],\n",
       "   'id': '56d4f9902ccc5a1400d833c3',\n",
       "   'question': 'Che ora del giorno è accaduto il terremoto?'},\n",
       "  {'answers': [{'answer_start': 232, 'text': '69.197'}],\n",
       "   'id': '56d4f9902ccc5a1400d833c4',\n",
       "   'question': 'Quante persone sono morte?'}]}"
      ]
     },
     "execution_count": 32,
     "metadata": {},
     "output_type": "execute_result"
    }
   ],
   "source": [
    "ex0[\"paragraphs\"][0]"
   ]
  },
  {
   "cell_type": "markdown",
   "id": "c99d4a11-604c-47f5-8eed-21c561500e3b",
   "metadata": {},
   "source": [
    "## Load multiple files into different splits"
   ]
  },
  {
   "cell_type": "code",
   "execution_count": 36,
   "id": "6449a5ab-2647-47f3-8aa2-275aae7f8a0f",
   "metadata": {},
   "outputs": [],
   "source": [
    "data_files = {\"train\": f\"{data_dir_path}/SQuAD_it-train.json\", \"test\": f\"{data_dir_path}/SQuAD_it-test.json\"}\n",
    "squad_it_dataset = load_dataset(\"json\", data_files=data_files, field=\"data\")"
   ]
  },
  {
   "cell_type": "code",
   "execution_count": 37,
   "id": "99f6d62e-41d9-4b7a-b33e-734af42e622d",
   "metadata": {},
   "outputs": [
    {
     "data": {
      "text/plain": [
       "DatasetDict({\n",
       "    train: Dataset({\n",
       "        features: ['title', 'paragraphs'],\n",
       "        num_rows: 442\n",
       "    })\n",
       "    test: Dataset({\n",
       "        features: ['title', 'paragraphs'],\n",
       "        num_rows: 48\n",
       "    })\n",
       "})"
      ]
     },
     "execution_count": 37,
     "metadata": {},
     "output_type": "execute_result"
    }
   ],
   "source": [
    "squad_it_dataset"
   ]
  },
  {
   "cell_type": "markdown",
   "id": "a83cd209-81a2-4605-91c5-767dd9bce42c",
   "metadata": {},
   "source": [
    "## Load compressed files directly into a dataset"
   ]
  },
  {
   "cell_type": "code",
   "execution_count": 38,
   "id": "baca0b45-eb36-4696-ad15-0106c3e918d8",
   "metadata": {},
   "outputs": [],
   "source": [
    "data_files = {\"train\": f\"{data_dir_path}/SQuAD_it-train.json.gz\", \"test\": f\"{data_dir_path}/SQuAD_it-test.json.gz\"}\n",
    "squad_it_dataset = load_dataset(\"json\", data_files=data_files, field=\"data\")"
   ]
  },
  {
   "cell_type": "code",
   "execution_count": 39,
   "id": "4bd5a47b-4acb-4cd5-89b9-e58d8e4fa237",
   "metadata": {},
   "outputs": [
    {
     "data": {
      "text/plain": [
       "DatasetDict({\n",
       "    train: Dataset({\n",
       "        features: ['title', 'paragraphs'],\n",
       "        num_rows: 442\n",
       "    })\n",
       "    test: Dataset({\n",
       "        features: ['title', 'paragraphs'],\n",
       "        num_rows: 48\n",
       "    })\n",
       "})"
      ]
     },
     "execution_count": 39,
     "metadata": {},
     "output_type": "execute_result"
    }
   ],
   "source": [
    "squad_it_dataset"
   ]
  },
  {
   "cell_type": "markdown",
   "id": "8d796f15-e213-4c8b-bbe3-c0c3398a4ff0",
   "metadata": {},
   "source": [
    "## Load remote dataset"
   ]
  },
  {
   "cell_type": "code",
   "execution_count": 40,
   "id": "2909fe39-344f-4010-a504-17c3fe9d5f03",
   "metadata": {},
   "outputs": [
    {
     "data": {
      "application/vnd.jupyter.widget-view+json": {
       "model_id": "8858dffd141941e0b9c7e0e797708022",
       "version_major": 2,
       "version_minor": 0
      },
      "text/plain": [
       "Downloading data files:   0%|          | 0/2 [00:00<?, ?it/s]"
      ]
     },
     "metadata": {},
     "output_type": "display_data"
    },
    {
     "data": {
      "application/vnd.jupyter.widget-view+json": {
       "model_id": "73287e73dd1a4b6f94bf81b33c619dce",
       "version_major": 2,
       "version_minor": 0
      },
      "text/plain": [
       "Downloading data:   0%|          | 0.00/7.73M [00:00<?, ?B/s]"
      ]
     },
     "metadata": {},
     "output_type": "display_data"
    },
    {
     "data": {
      "application/vnd.jupyter.widget-view+json": {
       "model_id": "1fef304c09f54a709740a40aed5a57b6",
       "version_major": 2,
       "version_minor": 0
      },
      "text/plain": [
       "Downloading data:   0%|          | 0.00/1.05M [00:00<?, ?B/s]"
      ]
     },
     "metadata": {},
     "output_type": "display_data"
    },
    {
     "data": {
      "application/vnd.jupyter.widget-view+json": {
       "model_id": "2b5c2d2e76f24ad7b944441756c9a743",
       "version_major": 2,
       "version_minor": 0
      },
      "text/plain": [
       "Extracting data files:   0%|          | 0/2 [00:00<?, ?it/s]"
      ]
     },
     "metadata": {},
     "output_type": "display_data"
    },
    {
     "data": {
      "application/vnd.jupyter.widget-view+json": {
       "model_id": "2befcbcce87e4697a812cca7bfd700f5",
       "version_major": 2,
       "version_minor": 0
      },
      "text/plain": [
       "Generating train split: 0 examples [00:00, ? examples/s]"
      ]
     },
     "metadata": {},
     "output_type": "display_data"
    },
    {
     "data": {
      "application/vnd.jupyter.widget-view+json": {
       "model_id": "7439db58b12f4cbd9f0a53babeaa09ac",
       "version_major": 2,
       "version_minor": 0
      },
      "text/plain": [
       "Generating test split: 0 examples [00:00, ? examples/s]"
      ]
     },
     "metadata": {},
     "output_type": "display_data"
    }
   ],
   "source": [
    "url = \"https://github.com/crux82/squad-it/raw/master/\"\n",
    "data_files = {\n",
    "    \"train\": url + \"SQuAD_it-train.json.gz\",\n",
    "    \"test\": url + \"SQuAD_it-test.json.gz\",\n",
    "}\n",
    "squad_it_dataset = load_dataset(\"json\", data_files=data_files, field=\"data\")"
   ]
  },
  {
   "cell_type": "code",
   "execution_count": 41,
   "id": "34ea0c30-fc45-4c4f-9708-be077c81124d",
   "metadata": {},
   "outputs": [
    {
     "data": {
      "text/plain": [
       "DatasetDict({\n",
       "    train: Dataset({\n",
       "        features: ['title', 'paragraphs'],\n",
       "        num_rows: 442\n",
       "    })\n",
       "    test: Dataset({\n",
       "        features: ['title', 'paragraphs'],\n",
       "        num_rows: 48\n",
       "    })\n",
       "})"
      ]
     },
     "execution_count": 41,
     "metadata": {},
     "output_type": "execute_result"
    }
   ],
   "source": [
    "squad_it_dataset"
   ]
  }
 ],
 "metadata": {
  "kernelspec": {
   "display_name": "Python 3 (ipykernel)",
   "language": "python",
   "name": "python3"
  },
  "language_info": {
   "codemirror_mode": {
    "name": "ipython",
    "version": 3
   },
   "file_extension": ".py",
   "mimetype": "text/x-python",
   "name": "python",
   "nbconvert_exporter": "python",
   "pygments_lexer": "ipython3",
   "version": "3.10.12"
  }
 },
 "nbformat": 4,
 "nbformat_minor": 5
}
