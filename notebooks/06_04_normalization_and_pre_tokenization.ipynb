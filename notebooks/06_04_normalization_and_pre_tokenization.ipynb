{
 "cells": [
  {
   "cell_type": "code",
   "execution_count": 1,
   "id": "0c1ab099-2ace-4313-980f-7734ad7f367d",
   "metadata": {},
   "outputs": [],
   "source": [
    "from transformers import AutoTokenizer"
   ]
  },
  {
   "cell_type": "code",
   "execution_count": 2,
   "id": "1ab1a581-f648-4f54-a547-79c95f098d1b",
   "metadata": {},
   "outputs": [],
   "source": [
    "checkpoint1 = \"bert-base-uncased\"\n",
    "checkpoint2 = \"bert-base-cased\""
   ]
  },
  {
   "cell_type": "code",
   "execution_count": 3,
   "id": "6aaecb9f-6ddc-4e16-a5c0-5800f65d529c",
   "metadata": {},
   "outputs": [],
   "source": [
    "tokenizer1 = AutoTokenizer.from_pretrained(checkpoint1)\n",
    "tokenizer2 = AutoTokenizer.from_pretrained(checkpoint2)"
   ]
  },
  {
   "cell_type": "markdown",
   "id": "77b845b4-f3c2-44a3-a3d2-634ffff0fc71",
   "metadata": {},
   "source": [
    "# Normalization"
   ]
  },
  {
   "cell_type": "code",
   "execution_count": 4,
   "id": "ef444a44-5860-458b-bb2c-abfde35a973b",
   "metadata": {},
   "outputs": [
    {
     "data": {
      "text/plain": [
       "tokenizers.Tokenizer"
      ]
     },
     "execution_count": 4,
     "metadata": {},
     "output_type": "execute_result"
    }
   ],
   "source": [
    "type(tokenizer1.backend_tokenizer)"
   ]
  },
  {
   "cell_type": "code",
   "execution_count": 5,
   "id": "57b9971d-cc99-4820-8efd-b90cfb30149f",
   "metadata": {},
   "outputs": [
    {
     "data": {
      "text/plain": [
       "'hello how are u?'"
      ]
     },
     "execution_count": 5,
     "metadata": {},
     "output_type": "execute_result"
    }
   ],
   "source": [
    "tokenizer1.backend_tokenizer.normalizer.normalize_str(\"Héllò hôw are ü?\")"
   ]
  },
  {
   "cell_type": "code",
   "execution_count": 6,
   "id": "66545901-9738-45dc-a74a-8884f2cd9296",
   "metadata": {},
   "outputs": [
    {
     "data": {
      "text/plain": [
       "'Héllò hôw are ü?'"
      ]
     },
     "execution_count": 6,
     "metadata": {},
     "output_type": "execute_result"
    }
   ],
   "source": [
    "tokenizer2.backend_tokenizer.normalizer.normalize_str(\"Héllò hôw are ü?\")"
   ]
  },
  {
   "cell_type": "markdown",
   "id": "bc16291a-9761-443e-aefd-8c8158b78cc0",
   "metadata": {},
   "source": [
    "# Pre-tokenization"
   ]
  },
  {
   "cell_type": "code",
   "execution_count": 12,
   "id": "50e6b362-f403-4c74-8be5-900c6446d7b8",
   "metadata": {},
   "outputs": [
    {
     "data": {
      "text/plain": [
       "[('Hello', (0, 5)),\n",
       " (',', (5, 6)),\n",
       " ('how', (7, 10)),\n",
       " ('are', (11, 14)),\n",
       " ('you', (16, 19)),\n",
       " ('?', (19, 20))]"
      ]
     },
     "execution_count": 12,
     "metadata": {},
     "output_type": "execute_result"
    }
   ],
   "source": [
    "# Ignores all spaces, including the double space\n",
    "tokenizer1.backend_tokenizer.pre_tokenizer.pre_tokenize_str(\"Hello, how are  you?\")"
   ]
  },
  {
   "cell_type": "markdown",
   "id": "bc0db262-3577-4edf-bbfd-4a3849982a5b",
   "metadata": {},
   "source": [
    "### How do other tokenizers segment text?"
   ]
  },
  {
   "cell_type": "code",
   "execution_count": 13,
   "id": "2f352ac6-60a3-4c1a-b07b-22f158aabf59",
   "metadata": {},
   "outputs": [],
   "source": [
    "tokenizer3 = AutoTokenizer.from_pretrained(\"gpt2\")"
   ]
  },
  {
   "cell_type": "code",
   "execution_count": 14,
   "id": "98927b63-0fe1-4ab1-8ce5-ae01ee096362",
   "metadata": {},
   "outputs": [
    {
     "data": {
      "text/plain": [
       "[('Hello', (0, 5)),\n",
       " (',', (5, 6)),\n",
       " ('Ġhow', (6, 10)),\n",
       " ('Ġare', (10, 14)),\n",
       " ('Ġ', (14, 15)),\n",
       " ('Ġyou', (15, 19)),\n",
       " ('?', (19, 20))]"
      ]
     },
     "execution_count": 14,
     "metadata": {},
     "output_type": "execute_result"
    }
   ],
   "source": [
    "# Doesn't ignore the double space\n",
    "tokenizer3.backend_tokenizer.pre_tokenizer.pre_tokenize_str(\"Hello, how are  you?\")"
   ]
  },
  {
   "cell_type": "code",
   "execution_count": 15,
   "id": "255618b0-5458-48a8-9e19-e84b76408070",
   "metadata": {},
   "outputs": [],
   "source": [
    "tokenizer4 = AutoTokenizer.from_pretrained(\"T5-small\")"
   ]
  },
  {
   "cell_type": "code",
   "execution_count": 16,
   "id": "5a03919d-ffec-4ffb-ae2e-07bd9e5ea9db",
   "metadata": {},
   "outputs": [
    {
     "data": {
      "text/plain": [
       "[('▁Hello,', (0, 6)),\n",
       " ('▁how', (7, 10)),\n",
       " ('▁are', (11, 14)),\n",
       " ('▁you?', (16, 20))]"
      ]
     },
     "execution_count": 16,
     "metadata": {},
     "output_type": "execute_result"
    }
   ],
   "source": [
    "# Ignores double space\n",
    "tokenizer4.backend_tokenizer.pre_tokenizer.pre_tokenize_str(\"Hello, how are  you?\")"
   ]
  },
  {
   "cell_type": "code",
   "execution_count": null,
   "id": "55667578-c28d-4101-af5d-106fa1b454c8",
   "metadata": {},
   "outputs": [],
   "source": []
  }
 ],
 "metadata": {
  "kernelspec": {
   "display_name": "Python 3 (ipykernel)",
   "language": "python",
   "name": "python3"
  },
  "language_info": {
   "codemirror_mode": {
    "name": "ipython",
    "version": 3
   },
   "file_extension": ".py",
   "mimetype": "text/x-python",
   "name": "python",
   "nbconvert_exporter": "python",
   "pygments_lexer": "ipython3",
   "version": "3.10.12"
  }
 },
 "nbformat": 4,
 "nbformat_minor": 5
}
