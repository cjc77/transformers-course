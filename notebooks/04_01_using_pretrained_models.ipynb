{
 "cells": [
  {
   "cell_type": "code",
   "execution_count": 24,
   "id": "7f5cdb53-0807-4448-a7d3-fa3828e0dd20",
   "metadata": {},
   "outputs": [],
   "source": [
    "import torch\n",
    "from transformers import pipeline, AutoTokenizer, AutoModelForMaskedLM"
   ]
  },
  {
   "cell_type": "code",
   "execution_count": 9,
   "id": "61582baa-8265-49a8-8ce5-6f0851e279fd",
   "metadata": {},
   "outputs": [],
   "source": [
    "checkpoint = \"camembert-base\""
   ]
  },
  {
   "cell_type": "code",
   "execution_count": 11,
   "id": "ee14b461-3a4c-44f0-a899-58799d987104",
   "metadata": {},
   "outputs": [],
   "source": [
    "sequence1 = \"Le camembert est <mask> :)\""
   ]
  },
  {
   "cell_type": "markdown",
   "id": "7b3ed289-c5ac-44d6-b7f5-a83bae4989a1",
   "metadata": {},
   "source": [
    "# Pipeline"
   ]
  },
  {
   "cell_type": "code",
   "execution_count": 12,
   "id": "17e3149b-6468-42b8-82db-129a371cc8c8",
   "metadata": {},
   "outputs": [
    {
     "name": "stderr",
     "output_type": "stream",
     "text": [
      "Some weights of the model checkpoint at camembert-base were not used when initializing CamembertForMaskedLM: ['roberta.pooler.dense.weight', 'roberta.pooler.dense.bias']\n",
      "- This IS expected if you are initializing CamembertForMaskedLM from the checkpoint of a model trained on another task or with another architecture (e.g. initializing a BertForSequenceClassification model from a BertForPreTraining model).\n",
      "- This IS NOT expected if you are initializing CamembertForMaskedLM from the checkpoint of a model that you expect to be exactly identical (initializing a BertForSequenceClassification model from a BertForSequenceClassification model).\n"
     ]
    }
   ],
   "source": [
    "camembert_fill_mask = pipeline(\"fill-mask\", model=checkpoint)"
   ]
  },
  {
   "cell_type": "code",
   "execution_count": 13,
   "id": "5a54f52e-42ec-414a-a472-61d50eea9c1b",
   "metadata": {},
   "outputs": [],
   "source": [
    "results = camembert_fill_mask(sequence1)"
   ]
  },
  {
   "cell_type": "code",
   "execution_count": 14,
   "id": "04c1d707-1616-46db-a700-e75cc8f20146",
   "metadata": {},
   "outputs": [
    {
     "data": {
      "text/plain": [
       "[{'score': 0.4909103214740753,\n",
       "  'token': 7200,\n",
       "  'token_str': 'délicieux',\n",
       "  'sequence': 'Le camembert est délicieux :)'},\n",
       " {'score': 0.10556960850954056,\n",
       "  'token': 2183,\n",
       "  'token_str': 'excellent',\n",
       "  'sequence': 'Le camembert est excellent :)'},\n",
       " {'score': 0.034533217549324036,\n",
       "  'token': 26202,\n",
       "  'token_str': 'succulent',\n",
       "  'sequence': 'Le camembert est succulent :)'},\n",
       " {'score': 0.0330313965678215,\n",
       "  'token': 528,\n",
       "  'token_str': 'meilleur',\n",
       "  'sequence': 'Le camembert est meilleur :)'},\n",
       " {'score': 0.03007640317082405,\n",
       "  'token': 1654,\n",
       "  'token_str': 'parfait',\n",
       "  'sequence': 'Le camembert est parfait :)'}]"
      ]
     },
     "execution_count": 14,
     "metadata": {},
     "output_type": "execute_result"
    }
   ],
   "source": [
    "results"
   ]
  },
  {
   "cell_type": "markdown",
   "id": "6f92105e-bb11-4645-bcb8-6005f37ee83c",
   "metadata": {},
   "source": [
    "# Tokenizer & model"
   ]
  },
  {
   "cell_type": "code",
   "execution_count": 15,
   "id": "1d24f6a2-414c-41fc-a235-7312683b7ff3",
   "metadata": {},
   "outputs": [
    {
     "name": "stderr",
     "output_type": "stream",
     "text": [
      "Some weights of the model checkpoint at camembert-base were not used when initializing CamembertForMaskedLM: ['roberta.pooler.dense.weight', 'roberta.pooler.dense.bias']\n",
      "- This IS expected if you are initializing CamembertForMaskedLM from the checkpoint of a model trained on another task or with another architecture (e.g. initializing a BertForSequenceClassification model from a BertForPreTraining model).\n",
      "- This IS NOT expected if you are initializing CamembertForMaskedLM from the checkpoint of a model that you expect to be exactly identical (initializing a BertForSequenceClassification model from a BertForSequenceClassification model).\n"
     ]
    }
   ],
   "source": [
    "tokenizer = AutoTokenizer.from_pretrained(checkpoint)\n",
    "model = AutoModelForMaskedLM.from_pretrained(checkpoint)"
   ]
  },
  {
   "cell_type": "code",
   "execution_count": 25,
   "id": "58100027-eba4-4944-b3b9-d24471f196a4",
   "metadata": {},
   "outputs": [],
   "source": [
    "prepped_input = tokenizer(sequence1, return_tensors=\"pt\")\n",
    "with torch.no_grad():\n",
    "    output = model(**prepped_input)"
   ]
  },
  {
   "cell_type": "markdown",
   "id": "70f56db2-d7ce-4a3d-906d-b88caf838caa",
   "metadata": {},
   "source": [
    "## Convert raw predictions "
   ]
  },
  {
   "cell_type": "code",
   "execution_count": 77,
   "id": "49e2bcca-2ac0-4feb-8d8f-5b8ad351a89d",
   "metadata": {},
   "outputs": [],
   "source": [
    "def pred_top_k_words(logits, input_ids):\n",
    "    mask_token_idx = torch.where(input_ids == tokenizer.mask_token_id)[1]\n",
    "    mask_token_logits = logits[0, mask_token_idx]\n",
    "    top_k_tokens = torch.topk(mask_token_logits, k, dim=-1).indices[0].tolist()\n",
    "    top_k_words = [tokenizer.decode([token]) for token in top_k_tokens]\n",
    "    return top_k_words"
   ]
  },
  {
   "cell_type": "code",
   "execution_count": 78,
   "id": "66c738dd-0485-41a5-9e1b-b0a007d5cc24",
   "metadata": {},
   "outputs": [],
   "source": [
    "top_k_words = pred_top_k_words(output.logits, prepped_input.input_ids)"
   ]
  },
  {
   "cell_type": "code",
   "execution_count": 79,
   "id": "ebe46b2d-ef3e-497d-b2f8-42626633e68c",
   "metadata": {},
   "outputs": [
    {
     "name": "stdout",
     "output_type": "stream",
     "text": [
      "Le camembert est délicieux :)\n",
      "Le camembert est excellent :)\n",
      "Le camembert est succulent :)\n",
      "Le camembert est meilleur :)\n",
      "Le camembert est parfait :)\n"
     ]
    }
   ],
   "source": [
    "for word in top_k_words:\n",
    "    print(sequence1.replace(tokenizer.mask_token, word))"
   ]
  },
  {
   "cell_type": "code",
   "execution_count": null,
   "id": "45516eaa-59d6-46f7-b0d9-23d9e6b0c5c6",
   "metadata": {},
   "outputs": [],
   "source": []
  }
 ],
 "metadata": {
  "kernelspec": {
   "display_name": "Python 3 (ipykernel)",
   "language": "python",
   "name": "python3"
  },
  "language_info": {
   "codemirror_mode": {
    "name": "ipython",
    "version": 3
   },
   "file_extension": ".py",
   "mimetype": "text/x-python",
   "name": "python",
   "nbconvert_exporter": "python",
   "pygments_lexer": "ipython3",
   "version": "3.10.12"
  }
 },
 "nbformat": 4,
 "nbformat_minor": 5
}
