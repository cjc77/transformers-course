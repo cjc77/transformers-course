{
 "cells": [
  {
   "cell_type": "code",
   "execution_count": 25,
   "id": "3b2fe321-f8b5-450b-ba67-692a699ba0be",
   "metadata": {},
   "outputs": [],
   "source": [
    "import os\n",
    "from datasets import load_dataset\n",
    "from tokenizers import (\n",
    "    decoders,\n",
    "    models,\n",
    "    normalizers,\n",
    "    pre_tokenizers,\n",
    "    processors,\n",
    "    trainers,\n",
    "    Tokenizer\n",
    ")"
   ]
  },
  {
   "cell_type": "markdown",
   "id": "d3147d5a-a8e9-4a85-bc79-a4f5cf0588a8",
   "metadata": {},
   "source": [
    "# Retrieve a corpus"
   ]
  },
  {
   "cell_type": "code",
   "execution_count": 2,
   "id": "3f0ee095-7320-4559-87f3-a0fe6b2ab8d5",
   "metadata": {},
   "outputs": [
    {
     "data": {
      "application/vnd.jupyter.widget-view+json": {
       "model_id": "2483ec7bbce54c73b1a804064b60c436",
       "version_major": 2,
       "version_minor": 0
      },
      "text/plain": [
       "Downloading builder script:   0%|          | 0.00/8.48k [00:00<?, ?B/s]"
      ]
     },
     "metadata": {},
     "output_type": "display_data"
    },
    {
     "data": {
      "application/vnd.jupyter.widget-view+json": {
       "model_id": "a85afe82ecbd493489ee2357820eefe3",
       "version_major": 2,
       "version_minor": 0
      },
      "text/plain": [
       "Downloading metadata:   0%|          | 0.00/6.84k [00:00<?, ?B/s]"
      ]
     },
     "metadata": {},
     "output_type": "display_data"
    },
    {
     "data": {
      "application/vnd.jupyter.widget-view+json": {
       "model_id": "095576fbfe744333bf5a3138c042a1ff",
       "version_major": 2,
       "version_minor": 0
      },
      "text/plain": [
       "Downloading readme:   0%|          | 0.00/9.62k [00:00<?, ?B/s]"
      ]
     },
     "metadata": {},
     "output_type": "display_data"
    },
    {
     "data": {
      "application/vnd.jupyter.widget-view+json": {
       "model_id": "dcad3b076ec645c7b7d0ad312a46026e",
       "version_major": 2,
       "version_minor": 0
      },
      "text/plain": [
       "Downloading data:   0%|          | 0.00/4.72M [00:00<?, ?B/s]"
      ]
     },
     "metadata": {},
     "output_type": "display_data"
    },
    {
     "data": {
      "application/vnd.jupyter.widget-view+json": {
       "model_id": "c52d871f93464a6cb82bc37b1c05a656",
       "version_major": 2,
       "version_minor": 0
      },
      "text/plain": [
       "Generating test split:   0%|          | 0/4358 [00:00<?, ? examples/s]"
      ]
     },
     "metadata": {},
     "output_type": "display_data"
    },
    {
     "data": {
      "application/vnd.jupyter.widget-view+json": {
       "model_id": "56ef1e873496491286690ded4c24d8d8",
       "version_major": 2,
       "version_minor": 0
      },
      "text/plain": [
       "Generating train split:   0%|          | 0/36718 [00:00<?, ? examples/s]"
      ]
     },
     "metadata": {},
     "output_type": "display_data"
    },
    {
     "data": {
      "application/vnd.jupyter.widget-view+json": {
       "model_id": "91093f339b314fbdb1e246555ccb160b",
       "version_major": 2,
       "version_minor": 0
      },
      "text/plain": [
       "Generating validation split:   0%|          | 0/3760 [00:00<?, ? examples/s]"
      ]
     },
     "metadata": {},
     "output_type": "display_data"
    }
   ],
   "source": [
    "dataset = load_dataset(\"wikitext\", name=\"wikitext-2-raw-v1\", split=\"train\")"
   ]
  },
  {
   "cell_type": "code",
   "execution_count": 19,
   "id": "a0264c6e-1ae9-40e6-8215-9445ee84ee36",
   "metadata": {},
   "outputs": [],
   "source": [
    "def get_training_corpus():\n",
    "    for i in range(0, len(dataset), 1000):\n",
    "        yield dataset[i:i + 1000][\"text\"]"
   ]
  },
  {
   "cell_type": "code",
   "execution_count": 20,
   "id": "6b72e54b-f223-4340-9148-a24a0fa9ff79",
   "metadata": {},
   "outputs": [],
   "source": [
    "filepath = \"../data/wikitext-2/wikitext-2.txt\""
   ]
  },
  {
   "cell_type": "code",
   "execution_count": 21,
   "id": "bee365c5-7b17-40fc-9bc0-8d03a22196fb",
   "metadata": {},
   "outputs": [],
   "source": [
    "filedir = '/'.join(filepath.split('/')[:-1])\n",
    "if not os.path.exists(filedir):\n",
    "    os.makedirs(filedir)"
   ]
  },
  {
   "cell_type": "code",
   "execution_count": 22,
   "id": "18c824dd-4fdf-4363-b41a-8fdda3c38704",
   "metadata": {},
   "outputs": [],
   "source": [
    "with open(filepath, \"w\", encoding=\"utf-8\", ) as f:\n",
    "    for i in range(len(dataset)):\n",
    "        f.write(dataset[i][\"text\"] + \"\\n\")"
   ]
  },
  {
   "cell_type": "markdown",
   "id": "f8555154-a92f-41c9-aafb-3576cdc0ee3d",
   "metadata": {},
   "source": [
    "# WordPiece tokenizer"
   ]
  },
  {
   "cell_type": "code",
   "execution_count": 26,
   "id": "9f24bc76-b486-43ef-b188-32784cdfb9da",
   "metadata": {},
   "outputs": [],
   "source": [
    "tokenizer = Tokenizer(models.WordPiece(unk_token=\"[UNK]\"))"
   ]
  },
  {
   "cell_type": "markdown",
   "id": "fe7ef1f0-617f-43a6-b581-a6e034193e03",
   "metadata": {},
   "source": [
    "## Normalization"
   ]
  },
  {
   "cell_type": "markdown",
   "id": "04617ed5-2866-48d8-b8d7-739ae7a608b7",
   "metadata": {},
   "source": [
    "### Replicate `bert-base-uncased` normalization"
   ]
  },
  {
   "cell_type": "code",
   "execution_count": 31,
   "id": "54ad3017-fc94-46d2-8244-fec124c2f299",
   "metadata": {},
   "outputs": [],
   "source": [
    "tokenizer.normalizer = normalizers.BertNormalizer(lowercase=True)"
   ]
  },
  {
   "cell_type": "code",
   "execution_count": 32,
   "id": "87f07620-6388-4cbb-b2b9-5af7732f2f32",
   "metadata": {},
   "outputs": [
    {
     "data": {
      "text/plain": [
       "''"
      ]
     },
     "execution_count": 32,
     "metadata": {},
     "output_type": "execute_result"
    }
   ],
   "source": [
    "tokenizer.normalizer.normalize_str(u\"\\u0085\")"
   ]
  },
  {
   "cell_type": "markdown",
   "id": "5c03b1a7-67e0-47d4-b90a-7bd641f209c4",
   "metadata": {},
   "source": [
    "### Build normalizer from scratch"
   ]
  },
  {
   "cell_type": "code",
   "execution_count": 33,
   "id": "e2cb890b-4fea-4906-9ebd-76de061bb20e",
   "metadata": {},
   "outputs": [],
   "source": [
    "tokenizer.normalizer = normalizers.Sequence(\n",
    "    [normalizers.NFD(), normalizers.Lowercase(), normalizers.StripAccents()]\n",
    ")"
   ]
  },
  {
   "cell_type": "code",
   "execution_count": 34,
   "id": "22ae4d26-4b88-43ac-894c-c508dfd3ca58",
   "metadata": {},
   "outputs": [
    {
     "name": "stdout",
     "output_type": "stream",
     "text": [
      "hello how are u?\n"
     ]
    }
   ],
   "source": [
    "print(tokenizer.normalizer.normalize_str(\"Héllò hôw are ü?\"))"
   ]
  },
  {
   "cell_type": "code",
   "execution_count": 36,
   "id": "7ae3c953-feda-43fc-9b71-3467b1c47cb0",
   "metadata": {},
   "outputs": [
    {
     "data": {
      "text/plain": [
       "'\\x85'"
      ]
     },
     "execution_count": 36,
     "metadata": {},
     "output_type": "execute_result"
    }
   ],
   "source": [
    "# NOTE: this can be fixed by adding a couple of complicated\n",
    "# regex statements to the sequence\n",
    "tokenizer.normalizer.normalize_str(u\"\\u0085\")"
   ]
  },
  {
   "cell_type": "markdown",
   "id": "db43a346-fcaf-4b0d-8d0b-90c5036d3a19",
   "metadata": {},
   "source": [
    "## Pre-tokenization"
   ]
  },
  {
   "cell_type": "markdown",
   "id": "4870da97-2cd8-42f9-82ac-8ac1dbf0b536",
   "metadata": {},
   "source": [
    "### Replicate `bert-base-uncased` pre-tokenization"
   ]
  },
  {
   "cell_type": "code",
   "execution_count": 38,
   "id": "14709f44-e652-4ef8-9565-935a1e1d9d6a",
   "metadata": {},
   "outputs": [],
   "source": [
    "tokenizer.pre_tokenizer = pre_tokenizers.BertPreTokenizer()"
   ]
  },
  {
   "cell_type": "markdown",
   "id": "bdd24e9f-1761-4ecc-98d4-740f49aef484",
   "metadata": {},
   "source": [
    "### Build pre-tokenizer from scratch"
   ]
  },
  {
   "cell_type": "code",
   "execution_count": 44,
   "id": "f428c5c2-87d0-44db-90a8-5881243aa62d",
   "metadata": {},
   "outputs": [],
   "source": [
    "# Splits on whitespace and punctuation\n",
    "tokenizer.pre_tokenizer = pre_tokenizers.Whitespace()"
   ]
  },
  {
   "cell_type": "code",
   "execution_count": 45,
   "id": "289b9cfa-56fe-42ea-afbc-d7c1a9bf25fe",
   "metadata": {},
   "outputs": [
    {
     "data": {
      "text/plain": [
       "[('Let', (0, 3)),\n",
       " (\"'\", (3, 4)),\n",
       " ('s', (4, 5)),\n",
       " ('test', (6, 10)),\n",
       " ('my', (11, 13)),\n",
       " ('pre', (14, 17)),\n",
       " ('-', (17, 18)),\n",
       " ('tokenizer', (18, 27)),\n",
       " ('.', (27, 28))]"
      ]
     },
     "execution_count": 45,
     "metadata": {},
     "output_type": "execute_result"
    }
   ],
   "source": [
    "tokenizer.pre_tokenizer.pre_tokenize_str(\"Let's test my pre-tokenizer.\")"
   ]
  },
  {
   "cell_type": "code",
   "execution_count": 46,
   "id": "4e599676-06d4-47ea-91ef-adc295ea6230",
   "metadata": {},
   "outputs": [],
   "source": [
    "# Splits on whitespace only\n",
    "pre_tokenizer = pre_tokenizers.WhitespaceSplit()"
   ]
  },
  {
   "cell_type": "code",
   "execution_count": 47,
   "id": "89e2768f-ca5a-45e2-9905-70b570c54b55",
   "metadata": {},
   "outputs": [
    {
     "data": {
      "text/plain": [
       "[(\"Let's\", (0, 5)),\n",
       " ('test', (6, 10)),\n",
       " ('my', (11, 13)),\n",
       " ('pre-tokenizer.', (14, 28))]"
      ]
     },
     "execution_count": 47,
     "metadata": {},
     "output_type": "execute_result"
    }
   ],
   "source": [
    "pre_tokenizer = pre_tokenizers.WhitespaceSplit()\n",
    "pre_tokenizer.pre_tokenize_str(\"Let's test my pre-tokenizer.\")"
   ]
  },
  {
   "cell_type": "code",
   "execution_count": 48,
   "id": "59dc480e-5585-42a1-ac80-3f06b1c00446",
   "metadata": {},
   "outputs": [
    {
     "data": {
      "text/plain": [
       "[('Let', (0, 3)),\n",
       " (\"'\", (3, 4)),\n",
       " ('s', (4, 5)),\n",
       " ('test', (6, 10)),\n",
       " ('my', (11, 13)),\n",
       " ('pre', (14, 17)),\n",
       " ('-', (17, 18)),\n",
       " ('tokenizer', (18, 27)),\n",
       " ('.', (27, 28))]"
      ]
     },
     "execution_count": 48,
     "metadata": {},
     "output_type": "execute_result"
    }
   ],
   "source": [
    "# Split on whitespace and pupnctuation, using Sequence\n",
    "pre_tokenizer = pre_tokenizers.Sequence(\n",
    "    [pre_tokenizers.WhitespaceSplit(), pre_tokenizers.Punctuation()]\n",
    ")\n",
    "pre_tokenizer.pre_tokenize_str(\"Let's test my pre-tokenizer.\")"
   ]
  },
  {
   "cell_type": "code",
   "execution_count": null,
   "id": "873b8695-f6cd-44cf-b321-4cbeb97b3bf2",
   "metadata": {},
   "outputs": [],
   "source": []
  }
 ],
 "metadata": {
  "kernelspec": {
   "display_name": "Python 3 (ipykernel)",
   "language": "python",
   "name": "python3"
  },
  "language_info": {
   "codemirror_mode": {
    "name": "ipython",
    "version": 3
   },
   "file_extension": ".py",
   "mimetype": "text/x-python",
   "name": "python",
   "nbconvert_exporter": "python",
   "pygments_lexer": "ipython3",
   "version": "3.10.12"
  }
 },
 "nbformat": 4,
 "nbformat_minor": 5
}
