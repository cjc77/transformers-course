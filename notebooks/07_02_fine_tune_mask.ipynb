{
 "cells": [
  {
   "cell_type": "code",
   "execution_count": 19,
   "id": "31ab5bd2-850c-4d99-b06d-366e3fc42f3b",
   "metadata": {},
   "outputs": [],
   "source": [
    "import torch\n",
    "from transformers import AutoModelForMaskedLM, AutoTokenizer\n",
    "from datasets import load_dataset"
   ]
  },
  {
   "cell_type": "code",
   "execution_count": 20,
   "id": "87c35600-c18b-45db-8093-97ae9cfe712a",
   "metadata": {},
   "outputs": [],
   "source": [
    "model_checkpoint = \"distilbert-base-uncased\"\n",
    "# Commit ID at time of executing this notebook\n",
    "model_commit_id = \"6cdc0aad91f5ae2e6712e91bc7b65d1cf5c05411\""
   ]
  },
  {
   "cell_type": "code",
   "execution_count": 21,
   "id": "22f2a444-8902-4be0-8c2c-6ef7fb56f9dd",
   "metadata": {},
   "outputs": [],
   "source": [
    "model = AutoModelForMaskedLM.from_pretrained(model_checkpoint, revision=model_commit_id)"
   ]
  },
  {
   "cell_type": "markdown",
   "id": "697ba3c6-cc5d-4929-a59d-bb5e2e226c49",
   "metadata": {},
   "source": [
    "# Off-the-shelf model"
   ]
  },
  {
   "cell_type": "code",
   "execution_count": 22,
   "id": "b3d3e00b-6a76-4f8e-9e2a-52d53f239f6c",
   "metadata": {},
   "outputs": [],
   "source": [
    "distilbert_num_params = model.num_parameters()"
   ]
  },
  {
   "cell_type": "code",
   "execution_count": 23,
   "id": "6c3ff7db-3af6-4bbe-a8aa-5dc1c84f8e64",
   "metadata": {},
   "outputs": [
    {
     "name": "stdout",
     "output_type": "stream",
     "text": [
      "67M parameters\n"
     ]
    }
   ],
   "source": [
    "print(f\"{round(distilbert_num_params / 1e6)}M parameters\")"
   ]
  },
  {
   "cell_type": "code",
   "execution_count": 24,
   "id": "9741432c-c96b-4f6c-a54f-d34ac72006e2",
   "metadata": {},
   "outputs": [],
   "source": [
    "tokenizer = AutoTokenizer.from_pretrained(model_checkpoint, revision=model_commit_id)"
   ]
  },
  {
   "cell_type": "code",
   "execution_count": 25,
   "id": "a87f3cd4-9369-4458-934e-467313b94ad9",
   "metadata": {},
   "outputs": [],
   "source": [
    "text = \"This is a great [MASK].\""
   ]
  },
  {
   "cell_type": "code",
   "execution_count": 26,
   "id": "984bcb20-eee0-46fb-b417-562f2472df3a",
   "metadata": {},
   "outputs": [],
   "source": [
    "inputs = tokenizer(text, return_tensors=\"pt\")\n",
    "with torch.no_grad():\n",
    "    token_logits = model(**inputs).logits"
   ]
  },
  {
   "cell_type": "code",
   "execution_count": 27,
   "id": "ace7a03a-302b-4f72-afd3-e86b5519f080",
   "metadata": {},
   "outputs": [
    {
     "data": {
      "text/plain": [
       "torch.Size([1, 8, 30522])"
      ]
     },
     "execution_count": 27,
     "metadata": {},
     "output_type": "execute_result"
    }
   ],
   "source": [
    "token_logits.shape"
   ]
  },
  {
   "cell_type": "code",
   "execution_count": 28,
   "id": "28834d72-b62e-4876-b171-1e55a2a7a83b",
   "metadata": {},
   "outputs": [
    {
     "data": {
      "text/plain": [
       "'[CLS] this is a great [MASK]. [SEP]'"
      ]
     },
     "execution_count": 28,
     "metadata": {},
     "output_type": "execute_result"
    }
   ],
   "source": [
    "tokenizer.decode(inputs.input_ids.squeeze().tolist())"
   ]
  },
  {
   "cell_type": "code",
   "execution_count": 29,
   "id": "2451e16b-d13e-43cf-a225-4e466b830fd4",
   "metadata": {},
   "outputs": [
    {
     "data": {
      "text/plain": [
       "['[CLS]', 'this', 'is', 'a', 'great', '[MASK]', '.', '[SEP]']"
      ]
     },
     "execution_count": 29,
     "metadata": {},
     "output_type": "execute_result"
    }
   ],
   "source": [
    "tokenizer.convert_ids_to_tokens(inputs.input_ids.squeeze().tolist())"
   ]
  },
  {
   "cell_type": "code",
   "execution_count": 30,
   "id": "91508286-54d7-4197-9c6f-2591781a0a51",
   "metadata": {},
   "outputs": [],
   "source": [
    "with torch.no_grad():\n",
    "    mask_token_idx = torch.where(inputs.input_ids == tokenizer.mask_token_id)[1]\n",
    "    mask_token_logits = token_logits.squeeze(0)[mask_token_idx, :]\n",
    "# Choose top 5 candidates for [MASK]\n",
    "top_5_tokens = torch.topk(mask_token_logits, 5, dim=1).indices[0].tolist()"
   ]
  },
  {
   "cell_type": "code",
   "execution_count": 31,
   "id": "8abd55d7-b2ad-4157-ab64-1ccc498b1556",
   "metadata": {},
   "outputs": [
    {
     "name": "stdout",
     "output_type": "stream",
     "text": [
      "0: This is a great deal.\n",
      "1: This is a great success.\n",
      "2: This is a great adventure.\n",
      "3: This is a great idea.\n",
      "4: This is a great feat.\n"
     ]
    }
   ],
   "source": [
    "for i, token in enumerate(top_5_tokens):\n",
    "    print(f\"{i}: {text.replace(tokenizer.mask_token, tokenizer.decode([token]))}\")"
   ]
  },
  {
   "cell_type": "markdown",
   "id": "47271c94-8f93-491c-a67b-1a2f9a32944a",
   "metadata": {},
   "source": [
    "# Dataset"
   ]
  },
  {
   "cell_type": "code",
   "execution_count": 32,
   "id": "dbb5ff99-d6ee-44d1-b2ac-b55d4c3500ca",
   "metadata": {},
   "outputs": [],
   "source": [
    "dataset_checkpoint = \"imdb\"\n",
    "dataset_commit_id = \"9c6ede893febf99215a29cc7b72992bb1138b06b\""
   ]
  },
  {
   "cell_type": "code",
   "execution_count": 33,
   "id": "a69a5322-a5fd-4a3a-a02c-eccd50573c73",
   "metadata": {},
   "outputs": [],
   "source": [
    "imdb_dataset = load_dataset(dataset_checkpoint, revision=dataset_commit_id)"
   ]
  },
  {
   "cell_type": "code",
   "execution_count": 34,
   "id": "4e4d693e-39fc-4ee9-a6ab-906dac4731f9",
   "metadata": {},
   "outputs": [
    {
     "data": {
      "text/plain": [
       "DatasetDict({\n",
       "    train: Dataset({\n",
       "        features: ['text', 'label'],\n",
       "        num_rows: 25000\n",
       "    })\n",
       "    test: Dataset({\n",
       "        features: ['text', 'label'],\n",
       "        num_rows: 25000\n",
       "    })\n",
       "    unsupervised: Dataset({\n",
       "        features: ['text', 'label'],\n",
       "        num_rows: 50000\n",
       "    })\n",
       "})"
      ]
     },
     "execution_count": 34,
     "metadata": {},
     "output_type": "execute_result"
    }
   ],
   "source": [
    "imdb_dataset"
   ]
  },
  {
   "cell_type": "code",
   "execution_count": 35,
   "id": "55498d15-ded0-4170-856b-232038576134",
   "metadata": {},
   "outputs": [],
   "source": [
    "sample = imdb_dataset[\"train\"].shuffle(seed=42).select(range(3))"
   ]
  },
  {
   "cell_type": "code",
   "execution_count": 37,
   "id": "1da54e54-08cd-415e-b23a-0a2eaa38ce1d",
   "metadata": {},
   "outputs": [
    {
     "name": "stdout",
     "output_type": "stream",
     "text": [
      ">>> Review: There is no relation at all between Fortier and Profiler but the fact that both are police series about violent crimes. Profiler looks crispy, Fortier looks classic. Profiler plots are quite simple. Fortier's plot are far more complicated... Fortier looks more like Prime Suspect, if we have to spot similarities... The main character is weak and weirdo, but have \"clairvoyance\". People like to compare, to judge, to evaluate. How about just enjoying? Funny thing too, people writing Fortier looks American but, on the other hand, arguing they prefer American series (!!!). Maybe it's the language, or the spirit, but I think this series is more English than American. By the way, the actors are really good and funny. The acting is not superficial at all...\n",
      ">>> Label: 1\n",
      "\n",
      ">>> Review: This movie is a great. The plot is very true to the book which is a classic written by Mark Twain. The movie starts of with a scene where Hank sings a song with a bunch of kids called \"when you stub your toe on the moon\" It reminds me of Sinatra's song High Hopes, it is fun and inspirational. The Music is great throughout and my favorite song is sung by the King, Hank (bing Crosby) and Sir \"Saggy\" Sagamore. OVerall a great family movie or even a great Date movie. This is a movie you can watch over and over again. The princess played by Rhonda Fleming is gorgeous. I love this movie!! If you liked Danny Kaye in the Court Jester then you will definitely like this movie.\n",
      ">>> Label: 1\n",
      "\n",
      ">>> Review: George P. Cosmatos' \"Rambo: First Blood Part II\" is pure wish-fulfillment. The United States clearly didn't win the war in Vietnam. They caused damage to this country beyond the imaginable and this movie continues the fairy story of the oh-so innocent soldiers. The only bad guys were the leaders of the nation, who made this war happen. The character of Rambo is perfect to notice this. He is extremely patriotic, bemoans that US-Americans didn't appreciate and celebrate the achievements of the single soldier, but has nothing but distrust for leading officers and politicians. Like every film that defends the war (e.g. \"We Were Soldiers\") also this one avoids the need to give a comprehensible reason for the engagement in South Asia. And for that matter also the reason for every single US-American soldier that was there. Instead, Rambo gets to take revenge for the wounds of a whole nation. It would have been better to work on how to deal with the memories, rather than suppressing them. \"Do we get to win this time?\" Yes, you do.\n",
      ">>> Label: 0\n"
     ]
    }
   ],
   "source": [
    "for i, row in enumerate(sample):\n",
    "    gap = \"\"\n",
    "    if i != 0:\n",
    "        gap = '\\n'\n",
    "    print(f\"{gap}>>> Review: {row['text']}\")\n",
    "    print(f\">>> Label: {row['label']}\")"
   ]
  },
  {
   "cell_type": "code",
   "execution_count": null,
   "id": "e4c3414b-8202-4e7f-a0f9-f9437e387eda",
   "metadata": {},
   "outputs": [],
   "source": []
  }
 ],
 "metadata": {
  "kernelspec": {
   "display_name": "Python 3 (ipykernel)",
   "language": "python",
   "name": "python3"
  },
  "language_info": {
   "codemirror_mode": {
    "name": "ipython",
    "version": 3
   },
   "file_extension": ".py",
   "mimetype": "text/x-python",
   "name": "python",
   "nbconvert_exporter": "python",
   "pygments_lexer": "ipython3",
   "version": "3.10.12"
  }
 },
 "nbformat": 4,
 "nbformat_minor": 5
}
