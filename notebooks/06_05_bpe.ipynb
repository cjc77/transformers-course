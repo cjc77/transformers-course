{
 "cells": [
  {
   "cell_type": "code",
   "execution_count": 1,
   "id": "907ba224-195d-4e5d-833f-0eb3134c6147",
   "metadata": {},
   "outputs": [],
   "source": [
    "from collections import defaultdict\n",
    "from copy import deepcopy\n",
    "from transformers import AutoTokenizer"
   ]
  },
  {
   "cell_type": "markdown",
   "id": "76321322-92ec-4825-be5f-d15182e571f3",
   "metadata": {},
   "source": [
    "# Simple BPE implementation"
   ]
  },
  {
   "cell_type": "code",
   "execution_count": 2,
   "id": "14b00c16-24aa-495c-991c-ef18590114da",
   "metadata": {},
   "outputs": [],
   "source": [
    "corpus = [\n",
    "    \"This is the Hugging Face Course.\",\n",
    "    \"This chapter is about tokenization.\",\n",
    "    \"This section shows several tokenizer algorithms.\",\n",
    "    \"Hopefully, you will be able to understand how they are trained and generate tokens.\",\n",
    "]"
   ]
  },
  {
   "cell_type": "markdown",
   "id": "9da7e0fa-a53e-4cad-a506-42d7e3e8d836",
   "metadata": {},
   "source": [
    "# Pre-tokenization"
   ]
  },
  {
   "cell_type": "code",
   "execution_count": 3,
   "id": "5990d2ea-57f5-4a4b-ac46-a48dd6fb6d6e",
   "metadata": {},
   "outputs": [],
   "source": [
    "tokenizer_checkpoint = \"gpt2\""
   ]
  },
  {
   "cell_type": "code",
   "execution_count": 4,
   "id": "4737f587-549c-49b6-9018-c14591115fdc",
   "metadata": {},
   "outputs": [],
   "source": [
    "tokenizer = AutoTokenizer.from_pretrained(tokenizer_checkpoint)"
   ]
  },
  {
   "cell_type": "markdown",
   "id": "5c995f28-f820-455e-a904-75b446e678f1",
   "metadata": {},
   "source": [
    "## Compute word frequencies"
   ]
  },
  {
   "cell_type": "code",
   "execution_count": 5,
   "id": "01ed4989-8719-4906-82c9-b3295b2d04cd",
   "metadata": {},
   "outputs": [],
   "source": [
    "word_freqs = defaultdict(lambda: 0)\n",
    "for text in corpus:\n",
    "    words_with_offsets = tokenizer.backend_tokenizer.pre_tokenizer.pre_tokenize_str(text)\n",
    "    new_words = [w for w, _ in words_with_offsets]\n",
    "    for word in new_words:\n",
    "        word_freqs[word] += 1"
   ]
  },
  {
   "cell_type": "code",
   "execution_count": 6,
   "id": "bfdceb49-9ef0-4b50-855f-b1511b24a4fb",
   "metadata": {},
   "outputs": [
    {
     "name": "stdout",
     "output_type": "stream",
     "text": [
      "defaultdict(<function <lambda> at 0x7f172e7a9ea0>, {'This': 3, 'Ġis': 2, 'Ġthe': 1, 'ĠHugging': 1, 'ĠFace': 1, 'ĠCourse': 1, '.': 4, 'Ġchapter': 1, 'Ġabout': 1, 'Ġtokenization': 1, 'Ġsection': 1, 'Ġshows': 1, 'Ġseveral': 1, 'Ġtokenizer': 1, 'Ġalgorithms': 1, 'Hopefully': 1, ',': 1, 'Ġyou': 1, 'Ġwill': 1, 'Ġbe': 1, 'Ġable': 1, 'Ġto': 1, 'Ġunderstand': 1, 'Ġhow': 1, 'Ġthey': 1, 'Ġare': 1, 'Ġtrained': 1, 'Ġand': 1, 'Ġgenerate': 1, 'Ġtokens': 1})\n"
     ]
    }
   ],
   "source": [
    "print(word_freqs)"
   ]
  },
  {
   "cell_type": "markdown",
   "id": "e7a7ab0d-8e92-4240-b1bd-e282372e4f91",
   "metadata": {},
   "source": [
    "## Compute base vocabulary"
   ]
  },
  {
   "cell_type": "code",
   "execution_count": 7,
   "id": "02c7c97d-a84a-40f7-b00f-80933a0e5d04",
   "metadata": {},
   "outputs": [],
   "source": [
    "alphabet = set()\n",
    "for word in word_freqs.keys():\n",
    "    for letter in word:\n",
    "        if letter not in alphabet:\n",
    "            alphabet.add(letter)\n",
    "alphabet = sorted(list(alphabet))\n",
    "end_token = \"<|endoftext|>\"\n",
    "vocab = alphabet.copy() + [end_token]"
   ]
  },
  {
   "cell_type": "code",
   "execution_count": 8,
   "id": "06cc7658-9e53-4325-8401-ab3f4ea58238",
   "metadata": {},
   "outputs": [
    {
     "name": "stdout",
     "output_type": "stream",
     "text": [
      "[',', '.', 'C', 'F', 'H', 'T', 'a', 'b', 'c', 'd', 'e', 'f', 'g', 'h', 'i', 'k', 'l', 'm', 'n', 'o', 'p', 'r', 's', 't', 'u', 'v', 'w', 'y', 'z', 'Ġ']\n"
     ]
    }
   ],
   "source": [
    "print(alphabet)"
   ]
  },
  {
   "cell_type": "code",
   "execution_count": 9,
   "id": "df352caa-072e-48fa-91a6-5bf2995034ae",
   "metadata": {},
   "outputs": [
    {
     "name": "stdout",
     "output_type": "stream",
     "text": [
      "[',', '.', 'C', 'F', 'H', 'T', 'a', 'b', 'c', 'd', 'e', 'f', 'g', 'h', 'i', 'k', 'l', 'm', 'n', 'o', 'p', 'r', 's', 't', 'u', 'v', 'w', 'y', 'z', 'Ġ', '<|endoftext|>']\n"
     ]
    }
   ],
   "source": [
    "print(vocab)"
   ]
  },
  {
   "cell_type": "markdown",
   "id": "426355f9-b099-4f4d-980e-ee1d040a4c43",
   "metadata": {},
   "source": [
    "## Split words into characters"
   ]
  },
  {
   "cell_type": "code",
   "execution_count": 10,
   "id": "55f9922f-2ed9-41c4-8441-0d6153e95b88",
   "metadata": {},
   "outputs": [],
   "source": [
    "splits = {word: [c for c in word] for word in word_freqs.keys()}"
   ]
  },
  {
   "cell_type": "markdown",
   "id": "fe97a5ea-17b8-4153-bbc9-cdaac340226a",
   "metadata": {},
   "source": [
    "## Compute pair frequencies"
   ]
  },
  {
   "cell_type": "code",
   "execution_count": 11,
   "id": "8e18f12f-6be3-4058-9c1c-72fb222535d9",
   "metadata": {},
   "outputs": [],
   "source": [
    "def compute_pair_freqs(splits, word_freqs):\n",
    "    pair_freqs = defaultdict(lambda: 0)\n",
    "    for word, freq in word_freqs.items():\n",
    "        split = splits[word]\n",
    "        if len(split) == 1:\n",
    "            continue\n",
    "        for i in range(len(split) - 1):\n",
    "            pair = (split[i], split[i + 1])\n",
    "            pair_freqs[pair] += freq\n",
    "    return pair_freqs"
   ]
  },
  {
   "cell_type": "code",
   "execution_count": 12,
   "id": "63a750fc-4bcc-4122-bbd2-78e040335015",
   "metadata": {},
   "outputs": [],
   "source": [
    "pair_freqs = compute_pair_freqs(splits, word_freqs)"
   ]
  },
  {
   "cell_type": "code",
   "execution_count": 13,
   "id": "b9b123fc-33d4-4239-9945-aacd4a7050e0",
   "metadata": {},
   "outputs": [
    {
     "name": "stdout",
     "output_type": "stream",
     "text": [
      "('T', 'h'): 3\n",
      "('h', 'i'): 3\n",
      "('i', 's'): 5\n",
      "('Ġ', 'i'): 2\n",
      "('Ġ', 't'): 7\n",
      "('t', 'h'): 3\n"
     ]
    }
   ],
   "source": [
    "for i, (k, v) in enumerate(pair_freqs.items()):\n",
    "    print(f\"{k}: {v}\")\n",
    "    if i >= 5:\n",
    "        break"
   ]
  },
  {
   "cell_type": "markdown",
   "id": "8b2a15d9-952d-4450-965b-140fde35894e",
   "metadata": {},
   "source": [
    "## Find max frequency pairs"
   ]
  },
  {
   "cell_type": "code",
   "execution_count": 14,
   "id": "09a18287-c885-4b9c-bfaa-afa62a74806a",
   "metadata": {},
   "outputs": [],
   "source": [
    "def max_pair_freq(pair_freqs):\n",
    "    if len(pair_freqs) == 0:\n",
    "        return \"\", None\n",
    "    best_pair, max_freq = max(pair_freqs.items(), key=lambda d: d[1])\n",
    "    return best_pair, max_freq"
   ]
  },
  {
   "cell_type": "code",
   "execution_count": 15,
   "id": "c2d5e911-8c6f-4d1d-9d2f-6f0dee96ca2f",
   "metadata": {},
   "outputs": [
    {
     "name": "stdout",
     "output_type": "stream",
     "text": [
      "('Ġ', 't')  7\n"
     ]
    }
   ],
   "source": [
    "print(*max_pair_freq(pair_freqs), sep=\"  \")"
   ]
  },
  {
   "cell_type": "markdown",
   "id": "878dc5a4-3d83-4909-b62b-1b9010c57325",
   "metadata": {},
   "source": [
    "## Merge target pairs"
   ]
  },
  {
   "cell_type": "code",
   "execution_count": 16,
   "id": "010b7365-a9db-4437-90ba-0d039f655fe7",
   "metadata": {},
   "outputs": [],
   "source": [
    "def merge_pair(a, b, splits, word_freqs):\n",
    "    for word in word_freqs.keys():\n",
    "        split = splits[word]\n",
    "        if len(split) == 1:\n",
    "            continue\n",
    "\n",
    "        i = 0\n",
    "        while i < len(split) - 1:\n",
    "            if split[i] == a and split[i + 1] == b:\n",
    "                split = split[:i] + [a + b] + split[i + 2:]\n",
    "            else:\n",
    "                i += 1\n",
    "        splits[word] = split\n",
    "    return splits"
   ]
  },
  {
   "cell_type": "markdown",
   "id": "db2f3407-6fb4-4d90-ba44-81f96906fdb8",
   "metadata": {},
   "source": [
    "## Implement merges up until desired vocabulary length"
   ]
  },
  {
   "cell_type": "code",
   "execution_count": 17,
   "id": "0ddf576d-1448-4f63-bf19-87cfbe826e83",
   "metadata": {},
   "outputs": [],
   "source": [
    "vocab = alphabet.copy() + [end_token]\n",
    "vocab_size = 50\n",
    "merges = {}\n",
    "splits_copy = deepcopy(splits)"
   ]
  },
  {
   "cell_type": "code",
   "execution_count": 18,
   "id": "efb550cf-60d5-45b9-b830-a0b1c0e315fa",
   "metadata": {},
   "outputs": [],
   "source": [
    "while len(vocab) < vocab_size:\n",
    "    pair_freqs = compute_pair_freqs(splits_copy, word_freqs)\n",
    "    (best_a, best_b), max_freq = max_pair_freq(pair_freqs)\n",
    "    splits_copy = merge_pair(best_a, best_b, splits_copy, word_freqs)\n",
    "    new_merge = best_a + best_b\n",
    "    merges[f\"{best_a},{best_b}\"] = new_merge\n",
    "    vocab.append(new_merge)"
   ]
  },
  {
   "cell_type": "code",
   "execution_count": 19,
   "id": "9388ce92-f61a-4adc-b6c7-b3aff6fe8c7b",
   "metadata": {},
   "outputs": [
    {
     "data": {
      "text/plain": [
       "{'Ġ,t': 'Ġt',\n",
       " 'i,s': 'is',\n",
       " 'e,r': 'er',\n",
       " 'Ġ,a': 'Ġa',\n",
       " 'Ġt,o': 'Ġto',\n",
       " 'e,n': 'en',\n",
       " 'T,h': 'Th',\n",
       " 'Th,is': 'This',\n",
       " 'o,u': 'ou',\n",
       " 's,e': 'se',\n",
       " 'Ġto,k': 'Ġtok',\n",
       " 'Ġtok,en': 'Ġtoken',\n",
       " 'n,d': 'nd',\n",
       " 'Ġ,is': 'Ġis',\n",
       " 'Ġt,h': 'Ġth',\n",
       " 'Ġth,e': 'Ġthe',\n",
       " 'i,n': 'in',\n",
       " 'Ġa,b': 'Ġab',\n",
       " 'Ġtoken,i': 'Ġtokeni'}"
      ]
     },
     "execution_count": 19,
     "metadata": {},
     "output_type": "execute_result"
    }
   ],
   "source": [
    "merges"
   ]
  },
  {
   "cell_type": "code",
   "execution_count": 20,
   "id": "7ee5a26b-cf69-41bc-85d7-eca2ff6309c8",
   "metadata": {},
   "outputs": [
    {
     "name": "stdout",
     "output_type": "stream",
     "text": [
      "[',', '.', 'C', 'F', 'H', 'T', 'a', 'b', 'c', 'd', 'e', 'f', 'g', 'h', 'i', 'k', 'l', 'm', 'n', 'o', 'p', 'r', 's', 't', 'u', 'v', 'w', 'y', 'z', 'Ġ', '<|endoftext|>', 'Ġt', 'is', 'er', 'Ġa', 'Ġto', 'en', 'Th', 'This', 'ou', 'se', 'Ġtok', 'Ġtoken', 'nd', 'Ġis', 'Ġth', 'Ġthe', 'in', 'Ġab', 'Ġtokeni']\n"
     ]
    }
   ],
   "source": [
    "print(vocab)"
   ]
  },
  {
   "cell_type": "markdown",
   "id": "bb18f3bb-87cd-4547-b120-0f217158eaa6",
   "metadata": {},
   "source": [
    "## Tokenize all text"
   ]
  },
  {
   "cell_type": "code",
   "execution_count": 21,
   "id": "5b2b4bfc-5f62-4030-b01d-7637b7970147",
   "metadata": {},
   "outputs": [
    {
     "name": "stdout",
     "output_type": "stream",
     "text": [
      "Ġ t Ġt\n",
      "i s is\n",
      "e r er\n",
      "Ġ a Ġa\n",
      "Ġt o Ġto\n",
      "e n en\n",
      "T h Th\n",
      "Th is This\n",
      "o u ou\n",
      "s e se\n",
      "Ġto k Ġtok\n",
      "Ġtok en Ġtoken\n",
      "n d nd\n",
      "Ġ is Ġis\n",
      "Ġt h Ġth\n",
      "Ġth e Ġthe\n",
      "i n in\n",
      "Ġa b Ġab\n",
      "Ġtoken i Ġtokeni\n"
     ]
    }
   ],
   "source": [
    "for k, v in merges.items():\n",
    "    k1, k2 = k.split(',')\n",
    "    print(k1, k2, v)"
   ]
  },
  {
   "cell_type": "code",
   "execution_count": 24,
   "id": "121b25bc-2ba8-4f91-bbb4-37a99b6bd72f",
   "metadata": {},
   "outputs": [],
   "source": [
    "def tokenize(text):\n",
    "    pre_tokenize_result = tokenizer._tokenizer.pre_tokenizer.pre_tokenize_str(text)\n",
    "    pre_tokenized_text = [word for word, offset in pre_tokenize_result]\n",
    "    splits_t = [[l for l in word] for word in pre_tokenized_text]\n",
    "    for pair, merge in merges.items():\n",
    "        pair_a, pair_b = pair.split(',')\n",
    "        for idx, split in enumerate(splits_t):\n",
    "            i = 0\n",
    "            while i < len(split) - 1:\n",
    "                if split[i] == pair_a and split[i + 1] == pair_b:\n",
    "                    split = split[:i] + [merge] + split[i + 2:]\n",
    "                else:\n",
    "                    i += 1\n",
    "                splits_t[idx] = split\n",
    "    return sum(splits_t, [])"
   ]
  },
  {
   "cell_type": "code",
   "execution_count": 25,
   "id": "4c8b2624-af12-4db8-b51e-c10c6b468dc8",
   "metadata": {},
   "outputs": [
    {
     "data": {
      "text/plain": [
       "['This', 'Ġis', 'Ġ', 'n', 'o', 't', 'Ġa', 'Ġtoken', '.']"
      ]
     },
     "execution_count": 25,
     "metadata": {},
     "output_type": "execute_result"
    }
   ],
   "source": [
    "tokenize(\"This is not a token.\")"
   ]
  },
  {
   "cell_type": "code",
   "execution_count": null,
   "id": "4140fe7a-ef71-4dcd-b08a-b11359025549",
   "metadata": {},
   "outputs": [],
   "source": []
  }
 ],
 "metadata": {
  "kernelspec": {
   "display_name": "Python 3 (ipykernel)",
   "language": "python",
   "name": "python3"
  },
  "language_info": {
   "codemirror_mode": {
    "name": "ipython",
    "version": 3
   },
   "file_extension": ".py",
   "mimetype": "text/x-python",
   "name": "python",
   "nbconvert_exporter": "python",
   "pygments_lexer": "ipython3",
   "version": "3.10.12"
  }
 },
 "nbformat": 4,
 "nbformat_minor": 5
}
