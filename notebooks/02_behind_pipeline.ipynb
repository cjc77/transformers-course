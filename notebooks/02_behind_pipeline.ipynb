{
 "cells": [
  {
   "cell_type": "code",
   "execution_count": 53,
   "id": "1fe1bed5-8888-483c-8b88-2eb2fb216ac6",
   "metadata": {},
   "outputs": [],
   "source": [
    "import torch.nn.functional as F\n",
    "from transformers import pipeline, AutoTokenizer, AutoModel, AutoModelForSequenceClassification"
   ]
  },
  {
   "cell_type": "code",
   "execution_count": 2,
   "id": "f0532005-82bd-4728-9584-cc8acb8c6c9a",
   "metadata": {},
   "outputs": [],
   "source": [
    "sent_cls_checkpoint = \"distilbert-base-uncased-finetuned-sst-2-english\""
   ]
  },
  {
   "cell_type": "code",
   "execution_count": 3,
   "id": "101ac3f4-b71a-4934-9b2b-c7c09a818917",
   "metadata": {},
   "outputs": [],
   "source": [
    "sent_cls = pipeline(\"sentiment-analysis\", model=sent_cls_checkpoint)"
   ]
  },
  {
   "cell_type": "code",
   "execution_count": 9,
   "id": "add3598d-6d5a-4242-881e-98a1364db2e4",
   "metadata": {},
   "outputs": [],
   "source": [
    "sent_cls_raw_inputs = [\n",
    "    \"I've been waiting for a HuggingFace course my whole life.\",\n",
    "    \"I hate this so much!\",\n",
    "]"
   ]
  },
  {
   "cell_type": "code",
   "execution_count": 10,
   "id": "84414b08-e5ac-4ab4-b53c-af5f55d0035b",
   "metadata": {},
   "outputs": [],
   "source": [
    "res = sent_cls(sent_cls_raw_inputs)"
   ]
  },
  {
   "cell_type": "code",
   "execution_count": 11,
   "id": "cdd6e407-7fe5-49be-80cb-da0157d333a6",
   "metadata": {},
   "outputs": [
    {
     "name": "stdout",
     "output_type": "stream",
     "text": [
      "[{'label': 'POSITIVE', 'score': 0.9598049521446228}, {'label': 'NEGATIVE', 'score': 0.9994558691978455}]\n"
     ]
    }
   ],
   "source": [
    "print(res)"
   ]
  },
  {
   "cell_type": "markdown",
   "id": "78956f4b-d843-4e51-ad4b-ba2f8d6ca311",
   "metadata": {},
   "source": [
    "# Tokenization"
   ]
  },
  {
   "cell_type": "code",
   "execution_count": 12,
   "id": "1df3349a-52ed-4cbb-b3fb-4928d3620419",
   "metadata": {},
   "outputs": [],
   "source": [
    "tokenizer = AutoTokenizer.from_pretrained(sent_cls_checkpoint)"
   ]
  },
  {
   "cell_type": "code",
   "execution_count": 27,
   "id": "30d171af-9863-4c0e-86b9-8e08b0fe19d7",
   "metadata": {},
   "outputs": [],
   "source": [
    "sent_cls_prep_inputs = tokenizer(sent_cls_raw_inputs, padding=True, truncation=True, return_tensors=\"pt\")"
   ]
  },
  {
   "cell_type": "markdown",
   "id": "28956816-3275-4f7b-bfcb-aeca85c4d93b",
   "metadata": {},
   "source": [
    "The tokens list usually includes [CLS] at the beginning and [SEP] at the end"
   ]
  },
  {
   "cell_type": "code",
   "execution_count": 28,
   "id": "b03b8eac-9ead-4506-b70d-b54947994d69",
   "metadata": {},
   "outputs": [
    {
     "data": {
      "text/plain": [
       "{'input_ids': tensor([[  101,  1045,  1005,  2310,  2042,  3403,  2005,  1037, 17662, 12172,\n",
       "          2607,  2026,  2878,  2166,  1012,   102],\n",
       "        [  101,  1045,  5223,  2023,  2061,  2172,   999,   102,     0,     0,\n",
       "             0,     0,     0,     0,     0,     0]]), 'attention_mask': tensor([[1, 1, 1, 1, 1, 1, 1, 1, 1, 1, 1, 1, 1, 1, 1, 1],\n",
       "        [1, 1, 1, 1, 1, 1, 1, 1, 0, 0, 0, 0, 0, 0, 0, 0]])}"
      ]
     },
     "execution_count": 28,
     "metadata": {},
     "output_type": "execute_result"
    }
   ],
   "source": [
    "sent_cls_prep_inputs"
   ]
  },
  {
   "cell_type": "markdown",
   "id": "eca02e92-083b-4eb4-bdf3-eda55b854ada",
   "metadata": {},
   "source": [
    "# Model for hidden state"
   ]
  },
  {
   "cell_type": "code",
   "execution_count": 41,
   "id": "35f1c21a-2329-49bf-b844-2052c6051583",
   "metadata": {},
   "outputs": [],
   "source": [
    "model1 = AutoModel.from_pretrained(sent_cls_checkpoint)"
   ]
  },
  {
   "cell_type": "code",
   "execution_count": 42,
   "id": "05bcd8fc-30a2-47be-a890-2658256fc115",
   "metadata": {},
   "outputs": [],
   "source": [
    "outputs = model1(**sent_cls_prep_inputs)"
   ]
  },
  {
   "cell_type": "code",
   "execution_count": 43,
   "id": "1f2770bb-0f17-48a9-bb38-2b2c4322b204",
   "metadata": {},
   "outputs": [
    {
     "data": {
      "text/plain": [
       "torch.Size([2, 16, 768])"
      ]
     },
     "execution_count": 43,
     "metadata": {},
     "output_type": "execute_result"
    }
   ],
   "source": [
    "outputs.last_hidden_state.shape"
   ]
  },
  {
   "cell_type": "markdown",
   "id": "9d6f8bf4-0115-4cc2-979f-b1876fd98b79",
   "metadata": {},
   "source": [
    "# Model for classification"
   ]
  },
  {
   "cell_type": "code",
   "execution_count": 55,
   "id": "9d95f26e-3abf-4c08-bdbd-9e3200b258cc",
   "metadata": {},
   "outputs": [],
   "source": [
    "model2 = AutoModelForSequenceClassification.from_pretrained(sent_cls_checkpoint)"
   ]
  },
  {
   "cell_type": "code",
   "execution_count": 60,
   "id": "ccd28e62-aa7d-4bb9-bb03-45f7ea7bea0b",
   "metadata": {},
   "outputs": [],
   "source": [
    "with torch.no_grad():\n",
    "    outputs = model2(**sent_cls_prep_inputs)"
   ]
  },
  {
   "cell_type": "code",
   "execution_count": 61,
   "id": "b1b937fc-f811-4911-bd78-dcdc00534225",
   "metadata": {},
   "outputs": [
    {
     "data": {
      "text/plain": [
       "torch.Size([2, 2])"
      ]
     },
     "execution_count": 61,
     "metadata": {},
     "output_type": "execute_result"
    }
   ],
   "source": [
    "outputs.logits.shape"
   ]
  },
  {
   "cell_type": "code",
   "execution_count": 62,
   "id": "78b175c1-b29b-4712-9323-b7110d16abde",
   "metadata": {},
   "outputs": [],
   "source": [
    "predictions = F.softmax(outputs.logits, dim=-1)"
   ]
  },
  {
   "cell_type": "code",
   "execution_count": 63,
   "id": "fd6bee90-ba49-4ee9-abfd-ed6cef66dc05",
   "metadata": {},
   "outputs": [
    {
     "name": "stdout",
     "output_type": "stream",
     "text": [
      "tensor([[4.0195e-02, 9.5980e-01],\n",
      "        [9.9946e-01, 5.4418e-04]])\n"
     ]
    }
   ],
   "source": [
    "print(predictions)"
   ]
  },
  {
   "cell_type": "code",
   "execution_count": 64,
   "id": "be1c4aa0-7f36-4e5b-b9ad-12109fb915e3",
   "metadata": {},
   "outputs": [
    {
     "data": {
      "text/plain": [
       "{0: 'NEGATIVE', 1: 'POSITIVE'}"
      ]
     },
     "execution_count": 64,
     "metadata": {},
     "output_type": "execute_result"
    }
   ],
   "source": [
    "model2.config.id2label"
   ]
  }
 ],
 "metadata": {
  "kernelspec": {
   "display_name": "Python 3 (ipykernel)",
   "language": "python",
   "name": "python3"
  },
  "language_info": {
   "codemirror_mode": {
    "name": "ipython",
    "version": 3
   },
   "file_extension": ".py",
   "mimetype": "text/x-python",
   "name": "python",
   "nbconvert_exporter": "python",
   "pygments_lexer": "ipython3",
   "version": "3.10.12"
  }
 },
 "nbformat": 4,
 "nbformat_minor": 5
}
