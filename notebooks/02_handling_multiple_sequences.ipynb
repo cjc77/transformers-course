{
 "cells": [
  {
   "cell_type": "code",
   "execution_count": 1,
   "id": "5c76c31f-e632-4cd2-bf6e-1baa6d4c0390",
   "metadata": {},
   "outputs": [],
   "source": [
    "import torch\n",
    "import numpy as np\n",
    "from transformers import AutoTokenizer, AutoModelForSequenceClassification"
   ]
  },
  {
   "cell_type": "code",
   "execution_count": 2,
   "id": "3040a4fd-c399-4cc7-ac0c-39e89d6870df",
   "metadata": {},
   "outputs": [],
   "source": [
    "checkpoint = \"distilbert-base-uncased-finetuned-sst-2-english\"\n",
    "tokenizer = AutoTokenizer.from_pretrained(checkpoint)\n",
    "model = AutoModelForSequenceClassification.from_pretrained(checkpoint)"
   ]
  },
  {
   "cell_type": "code",
   "execution_count": 3,
   "id": "894d5b62-1868-4bf3-8248-1e49dd2e2b88",
   "metadata": {},
   "outputs": [],
   "source": [
    "sequence = \"I've been waiting for a HuggingFace course my whole life.\""
   ]
  },
  {
   "cell_type": "markdown",
   "id": "b7b0cd9b-5f62-47f5-adfd-b92032609465",
   "metadata": {},
   "source": [
    "## Make tokens by hand"
   ]
  },
  {
   "cell_type": "code",
   "execution_count": 4,
   "id": "63c213e7-8f4b-412c-ad35-33e890c11f6b",
   "metadata": {},
   "outputs": [],
   "source": [
    "tokens = tokenizer.tokenize(sequence)\n",
    "ids = tokenizer.convert_tokens_to_ids(tokens)\n",
    "# Add the [CLS] and [SEP] tokens, as well\n",
    "cls_id = tokenizer.convert_tokens_to_ids(tokenizer.tokenize(\"[CLS]\"))\n",
    "sep_id = tokenizer.convert_tokens_to_ids(tokenizer.tokenize(\"[SEP]\"))\n",
    "input_ids = torch.tensor(cls_id + ids + sep_id).unsqueeze(0)"
   ]
  },
  {
   "cell_type": "code",
   "execution_count": 5,
   "id": "1c4a80eb-a7d2-49c5-bb88-f62f468a9dbe",
   "metadata": {},
   "outputs": [
    {
     "data": {
      "text/plain": [
       "tensor([[-1.5607,  1.6123]], grad_fn=<AddmmBackward0>)"
      ]
     },
     "execution_count": 5,
     "metadata": {},
     "output_type": "execute_result"
    }
   ],
   "source": [
    "model(input_ids).logits"
   ]
  },
  {
   "cell_type": "markdown",
   "id": "3e024605-afd3-4b67-84af-a74545fb462f",
   "metadata": {},
   "source": [
    "## Use built-in approach"
   ]
  },
  {
   "cell_type": "code",
   "execution_count": 6,
   "id": "9ad51c35-b8b7-4b11-8af0-4a64947f2e22",
   "metadata": {},
   "outputs": [],
   "source": [
    "tokenized_inputs = tokenizer(sequence, return_tensors=\"pt\")"
   ]
  },
  {
   "cell_type": "code",
   "execution_count": 7,
   "id": "8cf88205-74f2-4029-b05f-f52271ff4aaf",
   "metadata": {},
   "outputs": [
    {
     "data": {
      "text/plain": [
       "tensor([[-1.5607,  1.6123]], grad_fn=<AddmmBackward0>)"
      ]
     },
     "execution_count": 7,
     "metadata": {},
     "output_type": "execute_result"
    }
   ],
   "source": [
    "model(**tokenized_inputs).logits"
   ]
  },
  {
   "cell_type": "code",
   "execution_count": 8,
   "id": "da2b125c-348f-4a42-98f2-7d6a8548164c",
   "metadata": {},
   "outputs": [
    {
     "data": {
      "text/plain": [
       "tensor([[  101,  1045,  1005,  2310,  2042,  3403,  2005,  1037, 17662, 12172,\n",
       "          2607,  2026,  2878,  2166,  1012,   102]])"
      ]
     },
     "execution_count": 8,
     "metadata": {},
     "output_type": "execute_result"
    }
   ],
   "source": [
    "input_ids"
   ]
  },
  {
   "cell_type": "code",
   "execution_count": 9,
   "id": "8c3660c5-d479-4c7e-a337-57897f70be59",
   "metadata": {},
   "outputs": [
    {
     "data": {
      "text/plain": [
       "tensor([[  101,  1045,  1005,  2310,  2042,  3403,  2005,  1037, 17662, 12172,\n",
       "          2607,  2026,  2878,  2166,  1012,   102]])"
      ]
     },
     "execution_count": 9,
     "metadata": {},
     "output_type": "execute_result"
    }
   ],
   "source": [
    "tokenized_inputs.input_ids"
   ]
  },
  {
   "cell_type": "markdown",
   "id": "4b1b0d3a-8f30-48c7-91b0-89fbe539f5ba",
   "metadata": {},
   "source": [
    "## Use single sequence multiple times to make a \"batch\""
   ]
  },
  {
   "cell_type": "code",
   "execution_count": 10,
   "id": "c7aea31d-090f-4287-9df6-785981237dee",
   "metadata": {},
   "outputs": [
    {
     "data": {
      "text/plain": [
       "tensor([[-1.5607,  1.6123],\n",
       "        [-1.5607,  1.6123]], grad_fn=<AddmmBackward0>)"
      ]
     },
     "execution_count": 10,
     "metadata": {},
     "output_type": "execute_result"
    }
   ],
   "source": [
    "model(torch.concat((input_ids, input_ids), 0)).logits"
   ]
  },
  {
   "cell_type": "markdown",
   "id": "9fa895dd-ccf0-4bf5-ace0-8ad46925380e",
   "metadata": {},
   "source": [
    "## Padding"
   ]
  },
  {
   "cell_type": "code",
   "execution_count": 14,
   "id": "4c6ded61-327a-49a4-b623-8a4716a18ec9",
   "metadata": {},
   "outputs": [],
   "source": [
    "sequence1_ids = np.repeat(200, 3)\n",
    "sequence2_ids = np.repeat(200, 2)\n",
    "batched_ids = np.stack(\n",
    "    (sequence1_ids, np.append(sequence2_ids, tokenizer.pad_token_id)),\n",
    "    0\n",
    ")"
   ]
  },
  {
   "cell_type": "code",
   "execution_count": 15,
   "id": "d9dbad98-4ac5-4388-b450-7d18f3906edc",
   "metadata": {},
   "outputs": [
    {
     "name": "stdout",
     "output_type": "stream",
     "text": [
      "[200 200 200]\n",
      "[200 200]\n"
     ]
    }
   ],
   "source": [
    "print(sequence1_ids)\n",
    "print(sequence2_ids)"
   ]
  },
  {
   "cell_type": "code",
   "execution_count": 17,
   "id": "ea049091-61c0-45ae-b6c3-2a4fad27c9cf",
   "metadata": {},
   "outputs": [
    {
     "name": "stdout",
     "output_type": "stream",
     "text": [
      "tensor([[ 1.5694, -1.3895]], grad_fn=<AddmmBackward0>)\n",
      "tensor([[ 0.5803, -0.4125]], grad_fn=<AddmmBackward0>)\n",
      "tensor([[ 1.5694, -1.3895],\n",
      "        [ 1.3374, -1.2163]], grad_fn=<AddmmBackward0>)\n"
     ]
    }
   ],
   "source": [
    "print(model(torch.from_numpy(sequence1_ids)[None, ...]).logits)\n",
    "print(model(torch.from_numpy(sequence2_ids)[None, ...]).logits)\n",
    "print(model(torch.from_numpy(batched_ids)).logits)"
   ]
  },
  {
   "cell_type": "markdown",
   "id": "3c003f41-43e1-4b86-841c-cbd0bb2c95d2",
   "metadata": {},
   "source": [
    "## Attention masking"
   ]
  },
  {
   "cell_type": "code",
   "execution_count": 22,
   "id": "61e17644-cd0c-4e72-a803-7a18b181025d",
   "metadata": {},
   "outputs": [
    {
     "name": "stdout",
     "output_type": "stream",
     "text": [
      "[[1 1 1]\n",
      " [1 1 0]]\n"
     ]
    }
   ],
   "source": [
    "attention_mask = (batched_ids > 0).astype(\"int\")\n",
    "print(attention_mask)"
   ]
  },
  {
   "cell_type": "code",
   "execution_count": 23,
   "id": "12ed23c5-8f87-4862-ae3d-8e21d0d2c9cb",
   "metadata": {},
   "outputs": [],
   "source": [
    "outputs = model(\n",
    "    torch.from_numpy(batched_ids),\n",
    "    attention_mask=torch.from_numpy(attention_mask)\n",
    ")"
   ]
  },
  {
   "cell_type": "code",
   "execution_count": 24,
   "id": "97022e8d-a946-4ea3-a36b-810ea6666f4a",
   "metadata": {},
   "outputs": [
    {
     "name": "stdout",
     "output_type": "stream",
     "text": [
      "tensor([[ 1.5694, -1.3895],\n",
      "        [ 0.5803, -0.4125]], grad_fn=<AddmmBackward0>)\n"
     ]
    }
   ],
   "source": [
    "print(outputs.logits)"
   ]
  }
 ],
 "metadata": {
  "kernelspec": {
   "display_name": "Python 3 (ipykernel)",
   "language": "python",
   "name": "python3"
  },
  "language_info": {
   "codemirror_mode": {
    "name": "ipython",
    "version": 3
   },
   "file_extension": ".py",
   "mimetype": "text/x-python",
   "name": "python",
   "nbconvert_exporter": "python",
   "pygments_lexer": "ipython3",
   "version": "3.10.12"
  }
 },
 "nbformat": 4,
 "nbformat_minor": 5
}
