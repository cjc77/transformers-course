{
 "cells": [
  {
   "cell_type": "code",
   "execution_count": 37,
   "id": "03814295-1ba8-497c-9df7-e06432b5a7c0",
   "metadata": {},
   "outputs": [],
   "source": [
    "import torch\n",
    "from transformers import BertTokenizer, AutoTokenizer"
   ]
  },
  {
   "cell_type": "markdown",
   "id": "ec14cf7f-c03c-44b4-b2c3-8b4a39c5ee15",
   "metadata": {},
   "source": [
    "# Create a tokenizer from a checkpoint"
   ]
  },
  {
   "cell_type": "code",
   "execution_count": 35,
   "id": "d9d657ce-5664-411e-84c4-bbe12c6f88d3",
   "metadata": {},
   "outputs": [],
   "source": [
    "checkpoint = \"bert-base-cased\""
   ]
  },
  {
   "cell_type": "code",
   "execution_count": 36,
   "id": "09badd22-3d0d-4175-baa1-920fb374c400",
   "metadata": {},
   "outputs": [],
   "source": [
    "tokenizer = BertTokenizer.from_pretrained(checkpoint)"
   ]
  },
  {
   "cell_type": "markdown",
   "id": "950a6371-3212-41ac-90e7-a40c530b6b4e",
   "metadata": {},
   "source": [
    "## Model-agnostic code"
   ]
  },
  {
   "cell_type": "code",
   "execution_count": 38,
   "id": "f6675280-1ad4-44b1-8338-2a50e5b6c390",
   "metadata": {},
   "outputs": [],
   "source": [
    "tokenizer = AutoTokenizer.from_pretrained(checkpoint)"
   ]
  },
  {
   "cell_type": "code",
   "execution_count": 39,
   "id": "3339f2ea-851f-4361-9622-d9a82e6563a1",
   "metadata": {},
   "outputs": [],
   "source": [
    "tokens = tokenizer(\"Using a Transformer network is simple\")"
   ]
  },
  {
   "cell_type": "code",
   "execution_count": 40,
   "id": "5a905cf8-0940-4c5c-b5a7-eab551a8dadd",
   "metadata": {},
   "outputs": [
    {
     "data": {
      "text/plain": [
       "{'input_ids': [101, 7993, 170, 13809, 23763, 2443, 1110, 3014, 102], 'token_type_ids': [0, 0, 0, 0, 0, 0, 0, 0, 0], 'attention_mask': [1, 1, 1, 1, 1, 1, 1, 1, 1]}"
      ]
     },
     "execution_count": 40,
     "metadata": {},
     "output_type": "execute_result"
    }
   ],
   "source": [
    "tokens"
   ]
  },
  {
   "cell_type": "markdown",
   "id": "88abf8e8-7b20-4d28-adc3-3b6c98343347",
   "metadata": {},
   "source": [
    "# Save a tokenizer"
   ]
  },
  {
   "cell_type": "code",
   "execution_count": 42,
   "id": "cacd009d-95a4-42f7-8062-0f82a893c192",
   "metadata": {},
   "outputs": [
    {
     "data": {
      "text/plain": [
       "('../temp/02_tokenizers_bert_base_cased/tokenizer_config.json',\n",
       " '../temp/02_tokenizers_bert_base_cased/special_tokens_map.json',\n",
       " '../temp/02_tokenizers_bert_base_cased/vocab.txt',\n",
       " '../temp/02_tokenizers_bert_base_cased/added_tokens.json',\n",
       " '../temp/02_tokenizers_bert_base_cased/tokenizer.json')"
      ]
     },
     "execution_count": 42,
     "metadata": {},
     "output_type": "execute_result"
    }
   ],
   "source": [
    "tokenizer.save_pretrained(\"../temp/02_tokenizers_bert_base_cased\")"
   ]
  },
  {
   "cell_type": "markdown",
   "id": "6b37df1b-00c6-43ff-84e3-a43577843188",
   "metadata": {},
   "source": [
    "# Steps of tokenization"
   ]
  },
  {
   "cell_type": "markdown",
   "id": "d3d5ef56-4992-4f85-8805-3b8a12712926",
   "metadata": {},
   "source": [
    "## Encoding"
   ]
  },
  {
   "cell_type": "code",
   "execution_count": 43,
   "id": "8c90b5e2-ccf1-4669-9eb2-72b28c321b13",
   "metadata": {},
   "outputs": [],
   "source": [
    "tokenizer = AutoTokenizer.from_pretrained(checkpoint)"
   ]
  },
  {
   "cell_type": "code",
   "execution_count": 44,
   "id": "5438048b-b130-4f73-8516-62ebb7f4c306",
   "metadata": {},
   "outputs": [],
   "source": [
    "raw_text = \"Using a Transformer network is simple\"\n",
    "tokens = tokenizer.tokenize(raw_text)"
   ]
  },
  {
   "cell_type": "code",
   "execution_count": 45,
   "id": "99f077cd-4374-4b8f-bdd0-f579dbd01623",
   "metadata": {},
   "outputs": [
    {
     "data": {
      "text/plain": [
       "['Using', 'a', 'Trans', '##former', 'network', 'is', 'simple']"
      ]
     },
     "execution_count": 45,
     "metadata": {},
     "output_type": "execute_result"
    }
   ],
   "source": [
    "tokens"
   ]
  },
  {
   "cell_type": "code",
   "execution_count": 46,
   "id": "d7efde35-7e73-4149-8eb3-dbb723a506d4",
   "metadata": {},
   "outputs": [],
   "source": [
    "ids = tokenizer.convert_tokens_to_ids(tokens)"
   ]
  },
  {
   "cell_type": "code",
   "execution_count": 47,
   "id": "eb681a91-e21b-44e2-9b60-2e696828decf",
   "metadata": {},
   "outputs": [
    {
     "data": {
      "text/plain": [
       "[7993, 170, 13809, 23763, 2443, 1110, 3014]"
      ]
     },
     "execution_count": 47,
     "metadata": {},
     "output_type": "execute_result"
    }
   ],
   "source": [
    "ids"
   ]
  },
  {
   "cell_type": "markdown",
   "id": "3e76154a-b51c-44c9-b4fc-037452f2fd46",
   "metadata": {},
   "source": [
    "## Decoding"
   ]
  },
  {
   "cell_type": "code",
   "execution_count": 48,
   "id": "245e1b7d-6fa7-48b4-bb0d-eaad6b3c3def",
   "metadata": {},
   "outputs": [],
   "source": [
    "decoded_text = tokenizer.decode(ids)"
   ]
  },
  {
   "cell_type": "code",
   "execution_count": 49,
   "id": "b6b2051f-e563-4814-a20f-847310d07dfe",
   "metadata": {},
   "outputs": [
    {
     "data": {
      "text/plain": [
       "'Using a Transformer network is simple'"
      ]
     },
     "execution_count": 49,
     "metadata": {},
     "output_type": "execute_result"
    }
   ],
   "source": [
    "decoded_text"
   ]
  }
 ],
 "metadata": {
  "kernelspec": {
   "display_name": "Python 3 (ipykernel)",
   "language": "python",
   "name": "python3"
  },
  "language_info": {
   "codemirror_mode": {
    "name": "ipython",
    "version": 3
   },
   "file_extension": ".py",
   "mimetype": "text/x-python",
   "name": "python",
   "nbconvert_exporter": "python",
   "pygments_lexer": "ipython3",
   "version": "3.10.12"
  }
 },
 "nbformat": 4,
 "nbformat_minor": 5
}
