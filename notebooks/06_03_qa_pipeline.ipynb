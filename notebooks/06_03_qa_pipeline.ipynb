{
 "cells": [
  {
   "cell_type": "code",
   "execution_count": 1,
   "id": "c5fb7c03-09ec-4496-b316-53c033c1e07d",
   "metadata": {},
   "outputs": [],
   "source": [
    "import numpy as np\n",
    "import torch\n",
    "import torch.nn.functional as F\n",
    "from transformers import pipeline\n",
    "from transformers import AutoTokenizer, AutoModelForQuestionAnswering"
   ]
  },
  {
   "cell_type": "code",
   "execution_count": 2,
   "id": "79c8179d-1378-430c-aabc-43218490583a",
   "metadata": {},
   "outputs": [],
   "source": [
    "checkpoint = \"distilbert-base-cased-distilled-squad\""
   ]
  },
  {
   "cell_type": "code",
   "execution_count": 3,
   "id": "4dc0aa24-25b7-4d36-b87a-b5a521243135",
   "metadata": {},
   "outputs": [],
   "source": [
    "question_answerer = pipeline(\"question-answering\", model=checkpoint)"
   ]
  },
  {
   "cell_type": "markdown",
   "id": "fdcae890-8c86-41bb-811f-c36147e418d5",
   "metadata": {},
   "source": [
    "# Question answering examples"
   ]
  },
  {
   "cell_type": "code",
   "execution_count": 4,
   "id": "f0e4b1c2-3cf2-4be8-9e8d-8e0e2fe06314",
   "metadata": {},
   "outputs": [],
   "source": [
    "context = \"\"\"\n",
    "🤗 Transformers is backed by the three most popular deep learning libraries — Jax, PyTorch, and TensorFlow — with a seamless integration\n",
    "between them. It's straightforward to train your models with one before loading them for inference with the other.\n",
    "\"\"\""
   ]
  },
  {
   "cell_type": "code",
   "execution_count": 5,
   "id": "e9722166-8950-4580-a3f6-b1e5ebb2edf6",
   "metadata": {},
   "outputs": [
    {
     "data": {
      "text/plain": [
       "{'score': 0.98026043176651,\n",
       " 'start': 78,\n",
       " 'end': 106,\n",
       " 'answer': 'Jax, PyTorch, and TensorFlow'}"
      ]
     },
     "execution_count": 5,
     "metadata": {},
     "output_type": "execute_result"
    }
   ],
   "source": [
    "question1 = \"Which deep learning libraries back 🤗 Transformers?\"\n",
    "question_answerer(question=question1, context=context)"
   ]
  },
  {
   "cell_type": "code",
   "execution_count": 6,
   "id": "0f3914f2-c47e-444a-be9c-7dac68bed62a",
   "metadata": {},
   "outputs": [
    {
     "data": {
      "text/plain": [
       "{'score': 0.1688368320465088, 'start': 33, 'end': 38, 'answer': 'three'}"
      ]
     },
     "execution_count": 6,
     "metadata": {},
     "output_type": "execute_result"
    }
   ],
   "source": [
    "question2 = \"Do any deep learning libraries back 🤗 Transformers?\"\n",
    "question_answerer(question=question2, context=context)"
   ]
  },
  {
   "cell_type": "markdown",
   "id": "b0db41b0-0622-43e4-8a24-e8dd640185a2",
   "metadata": {},
   "source": [
    "## Question answering from a long context"
   ]
  },
  {
   "cell_type": "code",
   "execution_count": 7,
   "id": "6f416bdd-ed75-4fdb-9c93-c68a44508853",
   "metadata": {},
   "outputs": [],
   "source": [
    "long_context = \"\"\"\n",
    "🤗 Transformers: State of the Art NLP\n",
    "\n",
    "🤗 Transformers provides thousands of pretrained models to perform tasks on texts such as classification, information extraction,\n",
    "question answering, summarization, translation, text generation and more in over 100 languages.\n",
    "Its aim is to make cutting-edge NLP easier to use for everyone.\n",
    "\n",
    "🤗 Transformers provides APIs to quickly download and use those pretrained models on a given text, fine-tune them on your own datasets and\n",
    "then share them with the community on our model hub. At the same time, each python module defining an architecture is fully standalone and\n",
    "can be modified to enable quick research experiments.\n",
    "\n",
    "Why should I use transformers?\n",
    "\n",
    "1. Easy-to-use state-of-the-art models:\n",
    "  - High performance on NLU and NLG tasks.\n",
    "  - Low barrier to entry for educators and practitioners.\n",
    "  - Few user-facing abstractions with just three classes to learn.\n",
    "  - A unified API for using all our pretrained models.\n",
    "  - Lower compute costs, smaller carbon footprint:\n",
    "\n",
    "2. Researchers can share trained models instead of always retraining.\n",
    "  - Practitioners can reduce compute time and production costs.\n",
    "  - Dozens of architectures with over 10,000 pretrained models, some in more than 100 languages.\n",
    "\n",
    "3. Choose the right framework for every part of a model's lifetime:\n",
    "  - Train state-of-the-art models in 3 lines of code.\n",
    "  - Move a single model between TF2.0/PyTorch frameworks at will.\n",
    "  - Seamlessly pick the right framework for training, evaluation and production.\n",
    "\n",
    "4. Easily customize a model or an example to your needs:\n",
    "  - We provide examples for each architecture to reproduce the results published by its original authors.\n",
    "  - Model internals are exposed as consistently as possible.\n",
    "  - Model files can be used independently of the library for quick experiments.\n",
    "\n",
    "🤗 Transformers is backed by the three most popular deep learning libraries — Jax, PyTorch and TensorFlow — with a seamless integration\n",
    "between them. It's straightforward to train your models with one before loading them for inference with the other.\n",
    "\"\"\""
   ]
  },
  {
   "cell_type": "code",
   "execution_count": 8,
   "id": "fb92a42a-0640-4a3c-9dcc-ddb5390cf8e3",
   "metadata": {},
   "outputs": [
    {
     "data": {
      "text/plain": [
       "[{'score': 0.9714871048927307,\n",
       "  'start': 1892,\n",
       "  'end': 1919,\n",
       "  'answer': 'Jax, PyTorch and TensorFlow'},\n",
       " {'score': 0.14949694275856018,\n",
       "  'start': 17,\n",
       "  'end': 37,\n",
       "  'answer': 'State of the Art NLP'},\n",
       " {'score': 0.015565154142677784,\n",
       "  'start': 1892,\n",
       "  'end': 1921,\n",
       "  'answer': 'Jax, PyTorch and TensorFlow —'}]"
      ]
     },
     "execution_count": 8,
     "metadata": {},
     "output_type": "execute_result"
    }
   ],
   "source": [
    "question_answerer(question=question1, context=long_context, top_k=3)"
   ]
  },
  {
   "cell_type": "code",
   "execution_count": 9,
   "id": "54c4c51f-5220-40fa-87ed-fcb40540cd7c",
   "metadata": {},
   "outputs": [
    {
     "data": {
      "text/plain": [
       "{'score': 0.06686097383499146,\n",
       " 'start': 1815,\n",
       " 'end': 1889,\n",
       " 'answer': '🤗 Transformers is backed by the three most popular deep learning libraries'}"
      ]
     },
     "execution_count": 9,
     "metadata": {},
     "output_type": "execute_result"
    }
   ],
   "source": [
    "question_answerer(question=question2, context=long_context)"
   ]
  },
  {
   "cell_type": "markdown",
   "id": "d96653b7-4851-4356-b80b-0f51844b793f",
   "metadata": {},
   "source": [
    "# Question answering with a model"
   ]
  },
  {
   "cell_type": "code",
   "execution_count": 10,
   "id": "8494e368-d429-43db-aee0-140b2f76b0b9",
   "metadata": {},
   "outputs": [],
   "source": [
    "tokenizer = AutoTokenizer.from_pretrained(checkpoint)\n",
    "model = AutoModelForQuestionAnswering.from_pretrained(checkpoint)"
   ]
  },
  {
   "cell_type": "code",
   "execution_count": 11,
   "id": "4e4f2727-7544-45b8-b7c7-336477faa770",
   "metadata": {},
   "outputs": [],
   "source": [
    "inputs = tokenizer(question1, context, return_tensors=\"pt\")\n",
    "outputs = model(**inputs)"
   ]
  },
  {
   "cell_type": "code",
   "execution_count": 12,
   "id": "e7a1e8a8-2d89-470e-ad5d-a5e1969da488",
   "metadata": {},
   "outputs": [],
   "source": [
    "start_logits = outputs.start_logits\n",
    "end_logits = outputs.end_logits"
   ]
  },
  {
   "cell_type": "code",
   "execution_count": 13,
   "id": "43cfe355-e51d-45ff-a08c-c1f636ade757",
   "metadata": {},
   "outputs": [
    {
     "name": "stdout",
     "output_type": "stream",
     "text": [
      "torch.Size([1, 67]) torch.Size([1, 67])\n"
     ]
    }
   ],
   "source": [
    "print(start_logits.shape, end_logits.shape)"
   ]
  },
  {
   "cell_type": "code",
   "execution_count": 40,
   "id": "92d0db0f-3d1f-4c25-a6bf-e721754d1d5c",
   "metadata": {},
   "outputs": [],
   "source": [
    "sequence_ids = inputs.sequence_ids()\n",
    "# Mask everything except for context tokens\n",
    "mask = [sid != 1 for sid in sequence_ids]\n",
    "# Keep [CLS] token\n",
    "mask[0] = False\n",
    "mask = torch.tensor(mask).unsqueeze(0)"
   ]
  },
  {
   "cell_type": "code",
   "execution_count": 41,
   "id": "730ca7da-8026-42ea-aa74-bc2fe8ff71a6",
   "metadata": {},
   "outputs": [],
   "source": [
    "start_logits[mask] = -1e4\n",
    "end_logits[mask] = -1e4"
   ]
  },
  {
   "cell_type": "code",
   "execution_count": 42,
   "id": "0b3b5f97-7b18-4b0f-9ff3-148d10cbb8d4",
   "metadata": {},
   "outputs": [],
   "source": [
    "start_probs = F.softmax(start_logits, dim=-1).squeeze(0)\n",
    "end_probs = F.softmax(end_logits, dim=-1).squeeze(0)"
   ]
  },
  {
   "cell_type": "markdown",
   "id": "02a026f6-2772-4c10-bbe5-0bd4fef0b12d",
   "metadata": {},
   "source": [
    "## Find the answer\n",
    "Need to be careful not to just take the argmax, since this could lead to start_idx > end_idx. Compute probabilities for all pairs where start_idx > end_idx."
   ]
  },
  {
   "cell_type": "code",
   "execution_count": 43,
   "id": "4c503ac2-163c-4b6c-a4ef-207fcc27d6e6",
   "metadata": {},
   "outputs": [],
   "source": [
    "scores = start_probs.unsqueeze(1) * end_probs.unsqueeze(0)\n",
    "scores = torch.triu(scores)"
   ]
  },
  {
   "cell_type": "code",
   "execution_count": 44,
   "id": "09790d64-6cf6-4d5d-a962-87e05e4dcf3e",
   "metadata": {},
   "outputs": [
    {
     "data": {
      "text/plain": [
       "array([[0, 0],\n",
       "       [0, 0],\n",
       "       [0, 0]])"
      ]
     },
     "execution_count": 44,
     "metadata": {},
     "output_type": "execute_result"
    }
   ],
   "source": [
    "np.zeros((3, 2), dtype=int)"
   ]
  },
  {
   "cell_type": "code",
   "execution_count": 45,
   "id": "1f18820c-52a7-4cbf-a960-b0deb74bd4f4",
   "metadata": {},
   "outputs": [
    {
     "data": {
      "text/plain": [
       "array([1576, 1577, 1107])"
      ]
     },
     "execution_count": 45,
     "metadata": {},
     "output_type": "execute_result"
    }
   ],
   "source": [
    "scores.ravel().topk(3).indices.numpy()"
   ]
  },
  {
   "cell_type": "code",
   "execution_count": 46,
   "id": "eb49d4c5-d7c9-4778-9a57-ed779542f87f",
   "metadata": {},
   "outputs": [],
   "source": [
    "max_idx = scores.argmax().item()\n",
    "# Which row?\n",
    "start_idx = max_idx // scores.shape[1]\n",
    "# Which col?\n",
    "end_idx = max_idx % scores.shape[1]"
   ]
  },
  {
   "cell_type": "code",
   "execution_count": 47,
   "id": "342e0aff-05f3-442e-8712-58afafed3c1f",
   "metadata": {},
   "outputs": [
    {
     "name": "stdout",
     "output_type": "stream",
     "text": [
      "23 35\n",
      "0.9802628755569458\n"
     ]
    }
   ],
   "source": [
    "print(start_idx, end_idx)\n",
    "print(scores[start_idx, end_idx].item())"
   ]
  },
  {
   "cell_type": "code",
   "execution_count": 48,
   "id": "6721f5a3-e50b-44a0-a6f7-082a4edb4df4",
   "metadata": {},
   "outputs": [],
   "source": [
    "def topk_idx(scores, k):\n",
    "    start_end = np.zeros((k, 2), dtype=int)\n",
    "    max_idxs = scores.ravel().topk(k).indices.numpy()\n",
    "    for i, mi in enumerate(max_idxs):\n",
    "        # Row\n",
    "        start_idx = mi // scores.shape[1]\n",
    "        # Col\n",
    "        end_idx = mi % scores.shape[1]\n",
    "        start_end[i, 0] = start_idx\n",
    "        start_end[i, 1] = end_idx\n",
    "    return start_end"
   ]
  },
  {
   "cell_type": "code",
   "execution_count": 49,
   "id": "5c7b17d8-1d18-4966-9baa-2bd513118b8b",
   "metadata": {},
   "outputs": [],
   "source": [
    "start_end_topk = topk_idx(scores, 3)"
   ]
  },
  {
   "cell_type": "code",
   "execution_count": 50,
   "id": "63a94bc3-084c-468f-ba0f-65a170acc464",
   "metadata": {},
   "outputs": [],
   "source": [
    "inputs_with_offsets = tokenizer(question1, context, return_offsets_mapping=True)\n",
    "offsets = inputs_with_offsets.offset_mapping"
   ]
  },
  {
   "cell_type": "code",
   "execution_count": 51,
   "id": "75c378e6-106a-43fe-8f76-3bdee53f627c",
   "metadata": {},
   "outputs": [],
   "source": [
    "results_topk = []\n",
    "for start_end in start_end_topk:\n",
    "    start_idx, end_idx = start_end[0], start_end[1]\n",
    "    start_char, _ = offsets[start_idx]\n",
    "    _, end_char = offsets[end_idx]\n",
    "    answer = context[start_char: end_char]\n",
    "    results_topk.append({\n",
    "        \"answer\": answer,\n",
    "        \"start\": start_char,\n",
    "        \"end\": end_char,\n",
    "        \"score\": scores[start_idx, end_idx].item()\n",
    "    })"
   ]
  },
  {
   "cell_type": "code",
   "execution_count": 53,
   "id": "3a4b95a2-3e22-405c-be28-6d2003c86a3c",
   "metadata": {},
   "outputs": [
    {
     "data": {
      "text/plain": [
       "[{'answer': 'Jax, PyTorch, and TensorFlow',\n",
       "  'start': 78,\n",
       "  'end': 106,\n",
       "  'score': 0.9802628755569458},\n",
       " {'answer': 'Jax, PyTorch, and TensorFlow —',\n",
       "  'start': 78,\n",
       "  'end': 108,\n",
       "  'score': 0.008247802965342999},\n",
       " {'answer': 'three most popular deep learning libraries — Jax, PyTorch, and TensorFlow',\n",
       "  'start': 33,\n",
       "  'end': 106,\n",
       "  'score': 0.006841438356786966}]"
      ]
     },
     "execution_count": 53,
     "metadata": {},
     "output_type": "execute_result"
    }
   ],
   "source": [
    "# Doesn't exactly match the answer predicted by the pipeline...\n",
    "results_topk"
   ]
  },
  {
   "cell_type": "code",
   "execution_count": null,
   "id": "62a3439e-5a25-4d38-9cc1-db50af92aed4",
   "metadata": {},
   "outputs": [],
   "source": []
  }
 ],
 "metadata": {
  "kernelspec": {
   "display_name": "Python 3 (ipykernel)",
   "language": "python",
   "name": "python3"
  },
  "language_info": {
   "codemirror_mode": {
    "name": "ipython",
    "version": 3
   },
   "file_extension": ".py",
   "mimetype": "text/x-python",
   "name": "python",
   "nbconvert_exporter": "python",
   "pygments_lexer": "ipython3",
   "version": "3.10.12"
  }
 },
 "nbformat": 4,
 "nbformat_minor": 5
}
