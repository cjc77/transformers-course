{
 "cells": [
  {
   "cell_type": "code",
   "execution_count": 1,
   "id": "05e7d104-6362-4c54-a584-925d6b245ca0",
   "metadata": {},
   "outputs": [],
   "source": [
    "from collections import defaultdict\n",
    "from copy import deepcopy\n",
    "from transformers import AutoTokenizer"
   ]
  },
  {
   "cell_type": "code",
   "execution_count": 2,
   "id": "ae44c887-95d4-4cc8-b821-752e624f219f",
   "metadata": {},
   "outputs": [],
   "source": [
    "corpus = [\n",
    "    \"This is the Hugging Face Course.\",\n",
    "    \"This chapter is about tokenization.\",\n",
    "    \"This section shows several tokenizer algorithms.\",\n",
    "    \"Hopefully, you will be able to understand how they are trained and generate tokens.\",\n",
    "]"
   ]
  },
  {
   "cell_type": "code",
   "execution_count": 3,
   "id": "90b2eb2c-8a52-4157-82b8-a395087c67ef",
   "metadata": {},
   "outputs": [],
   "source": [
    "model_checkpoint = \"bert-base-cased\""
   ]
  },
  {
   "cell_type": "code",
   "execution_count": 4,
   "id": "96017726-0d05-4c47-8db8-6e09f7be9b8d",
   "metadata": {},
   "outputs": [],
   "source": [
    "tokenizer = AutoTokenizer.from_pretrained(model_checkpoint)"
   ]
  },
  {
   "cell_type": "markdown",
   "id": "791a2dd5-d8a8-4cc9-b0c3-3883790855bd",
   "metadata": {},
   "source": [
    "# Pre-tokenization"
   ]
  },
  {
   "cell_type": "markdown",
   "id": "e595a819-9291-40f1-9b44-6c72ee25b020",
   "metadata": {},
   "source": [
    "## Compute word frequencies"
   ]
  },
  {
   "cell_type": "code",
   "execution_count": 5,
   "id": "2786632d-af39-43b7-8919-5309e594baa7",
   "metadata": {},
   "outputs": [],
   "source": [
    "word_freqs = defaultdict(lambda: 0)\n",
    "for text in corpus:\n",
    "    words_with_offsets = tokenizer.backend_tokenizer.pre_tokenizer.pre_tokenize_str(text)\n",
    "    new_words = [w for w, _ in words_with_offsets]\n",
    "    for word in new_words:\n",
    "        word_freqs[word] += 1"
   ]
  },
  {
   "cell_type": "code",
   "execution_count": 6,
   "id": "256dd350-82f1-481d-943a-5348c6d2073a",
   "metadata": {},
   "outputs": [
    {
     "data": {
      "text/plain": [
       "defaultdict(<function __main__.<lambda>()>,\n",
       "            {'This': 3,\n",
       "             'is': 2,\n",
       "             'the': 1,\n",
       "             'Hugging': 1,\n",
       "             'Face': 1,\n",
       "             'Course': 1,\n",
       "             '.': 4,\n",
       "             'chapter': 1,\n",
       "             'about': 1,\n",
       "             'tokenization': 1,\n",
       "             'section': 1,\n",
       "             'shows': 1,\n",
       "             'several': 1,\n",
       "             'tokenizer': 1,\n",
       "             'algorithms': 1,\n",
       "             'Hopefully': 1,\n",
       "             ',': 1,\n",
       "             'you': 1,\n",
       "             'will': 1,\n",
       "             'be': 1,\n",
       "             'able': 1,\n",
       "             'to': 1,\n",
       "             'understand': 1,\n",
       "             'how': 1,\n",
       "             'they': 1,\n",
       "             'are': 1,\n",
       "             'trained': 1,\n",
       "             'and': 1,\n",
       "             'generate': 1,\n",
       "             'tokens': 1})"
      ]
     },
     "execution_count": 6,
     "metadata": {},
     "output_type": "execute_result"
    }
   ],
   "source": [
    "word_freqs"
   ]
  },
  {
   "cell_type": "markdown",
   "id": "28ba8240-0658-4e96-ae58-90182df75ed9",
   "metadata": {},
   "source": [
    "## Compute alphabet and vocabulary"
   ]
  },
  {
   "cell_type": "code",
   "execution_count": 7,
   "id": "edfe73ce-1090-486c-8795-32959bccc7cc",
   "metadata": {},
   "outputs": [],
   "source": [
    "alphabet = set()\n",
    "for word in word_freqs.keys():\n",
    "    if word[0] not in alphabet:\n",
    "        alphabet.add(word[0])\n",
    "    for letter in word[1:]:\n",
    "        if f\"##{letter}\" not in alphabet:\n",
    "            alphabet.add(f\"##{letter}\")\n",
    "alphabet = sorted(list(alphabet))\n",
    "\n",
    "# Include special tokens\n",
    "vocab = [\"[PAD]\", \"[UNK]\", \"[CLS]\", \"[SEP]\", \"[MASK]\"] + alphabet.copy()"
   ]
  },
  {
   "cell_type": "code",
   "execution_count": 8,
   "id": "6d5468da-a08f-4c52-a804-aa8b967d5e19",
   "metadata": {},
   "outputs": [
    {
     "name": "stdout",
     "output_type": "stream",
     "text": [
      "['##a', '##b', '##c', '##d', '##e', '##f', '##g', '##h', '##i', '##k', '##l', '##m', '##n', '##o', '##p', '##r', '##s', '##t', '##u', '##v', '##w', '##y', '##z', ',', '.', 'C', 'F', 'H', 'T', 'a', 'b', 'c', 'g', 'h', 'i', 's', 't', 'u', 'w', 'y']\n"
     ]
    }
   ],
   "source": [
    "print(alphabet)"
   ]
  },
  {
   "cell_type": "code",
   "execution_count": 9,
   "id": "b967af75-855f-4a39-b2ac-e6c2bd18b9c9",
   "metadata": {},
   "outputs": [
    {
     "name": "stdout",
     "output_type": "stream",
     "text": [
      "['[PAD]', '[UNK]', '[CLS]', '[SEP]', '[MASK]', '##a', '##b', '##c', '##d', '##e', '##f', '##g', '##h', '##i', '##k', '##l', '##m', '##n', '##o', '##p', '##r', '##s', '##t', '##u', '##v', '##w', '##y', '##z', ',', '.', 'C', 'F', 'H', 'T', 'a', 'b', 'c', 'g', 'h', 'i', 's', 't', 'u', 'w', 'y']\n"
     ]
    }
   ],
   "source": [
    "print(vocab)"
   ]
  },
  {
   "cell_type": "markdown",
   "id": "ed9ce983-8be6-44aa-baab-d858e595db20",
   "metadata": {},
   "source": [
    "## Split words"
   ]
  },
  {
   "cell_type": "code",
   "execution_count": 10,
   "id": "3bdfa188-0882-4374-ac46-cd90aaa42937",
   "metadata": {},
   "outputs": [],
   "source": [
    "splits = {\n",
    "    word: [c if i == 0 else f\"##{c}\" for i, c in enumerate(word)]\n",
    "    for word in word_freqs.keys()\n",
    "}"
   ]
  },
  {
   "cell_type": "code",
   "execution_count": 11,
   "id": "d21c0224-74f5-4f47-b0a9-4983c5d58e55",
   "metadata": {},
   "outputs": [
    {
     "name": "stdout",
     "output_type": "stream",
     "text": [
      "('This', ['T', '##h', '##i', '##s'])\n",
      "('is', ['i', '##s'])\n",
      "('the', ['t', '##h', '##e'])\n",
      "('Hugging', ['H', '##u', '##g', '##g', '##i', '##n', '##g'])\n",
      "('Face', ['F', '##a', '##c', '##e'])\n",
      "('Course', ['C', '##o', '##u', '##r', '##s', '##e'])\n",
      "('.', ['.'])\n",
      "('chapter', ['c', '##h', '##a', '##p', '##t', '##e', '##r'])\n",
      "('about', ['a', '##b', '##o', '##u', '##t'])\n",
      "('tokenization', ['t', '##o', '##k', '##e', '##n', '##i', '##z', '##a', '##t', '##i', '##o', '##n'])\n",
      "('section', ['s', '##e', '##c', '##t', '##i', '##o', '##n'])\n",
      "('shows', ['s', '##h', '##o', '##w', '##s'])\n",
      "('several', ['s', '##e', '##v', '##e', '##r', '##a', '##l'])\n",
      "('tokenizer', ['t', '##o', '##k', '##e', '##n', '##i', '##z', '##e', '##r'])\n",
      "('algorithms', ['a', '##l', '##g', '##o', '##r', '##i', '##t', '##h', '##m', '##s'])\n",
      "('Hopefully', ['H', '##o', '##p', '##e', '##f', '##u', '##l', '##l', '##y'])\n",
      "(',', [','])\n",
      "('you', ['y', '##o', '##u'])\n",
      "('will', ['w', '##i', '##l', '##l'])\n",
      "('be', ['b', '##e'])\n",
      "('able', ['a', '##b', '##l', '##e'])\n",
      "('to', ['t', '##o'])\n",
      "('understand', ['u', '##n', '##d', '##e', '##r', '##s', '##t', '##a', '##n', '##d'])\n",
      "('how', ['h', '##o', '##w'])\n",
      "('they', ['t', '##h', '##e', '##y'])\n",
      "('are', ['a', '##r', '##e'])\n",
      "('trained', ['t', '##r', '##a', '##i', '##n', '##e', '##d'])\n",
      "('and', ['a', '##n', '##d'])\n",
      "('generate', ['g', '##e', '##n', '##e', '##r', '##a', '##t', '##e'])\n",
      "('tokens', ['t', '##o', '##k', '##e', '##n', '##s'])\n"
     ]
    }
   ],
   "source": [
    "print(*splits.items(), sep='\\n')"
   ]
  },
  {
   "cell_type": "markdown",
   "id": "bf203133-2948-4e35-b931-3a9982c968d7",
   "metadata": {},
   "source": [
    "## Compute pair scores"
   ]
  },
  {
   "cell_type": "code",
   "execution_count": 12,
   "id": "92f3b542-d20b-47c2-82c2-1891d25a0522",
   "metadata": {},
   "outputs": [],
   "source": [
    "def compute_pair_scores(splits, word_freqs):\n",
    "    letter_freqs = defaultdict(lambda: 0)\n",
    "    pair_freqs = defaultdict(lambda: 0)\n",
    "    for word, freq in word_freqs.items():\n",
    "        split = splits[word]\n",
    "        if len(split) == 1:\n",
    "            letter_freqs[split[0]] += freq\n",
    "            continue\n",
    "        for i in range(len(split) - 1):\n",
    "            pair = (split[i], split[i + 1])\n",
    "            letter_freqs[split[i]] += freq\n",
    "            pair_freqs[pair] += freq\n",
    "        letter_freqs[split[-1]] += freq\n",
    "\n",
    "    scores = {\n",
    "        (pair_a, pair_b): freq / (letter_freqs[pair_a] * letter_freqs[pair_b])\n",
    "        for (pair_a, pair_b), freq in pair_freqs.items()\n",
    "    }\n",
    "    return scores"
   ]
  },
  {
   "cell_type": "code",
   "execution_count": 13,
   "id": "b65c0bee-5018-46ed-9957-1afe5f0897fa",
   "metadata": {},
   "outputs": [],
   "source": [
    "pair_scores = compute_pair_scores(splits, word_freqs)"
   ]
  },
  {
   "cell_type": "code",
   "execution_count": 14,
   "id": "e88ec502-3973-453e-a221-3a06299351d9",
   "metadata": {},
   "outputs": [
    {
     "name": "stdout",
     "output_type": "stream",
     "text": [
      "('T', '##h') 0.125\n",
      "('##h', '##i') 0.03409090909090909\n",
      "('##i', '##s') 0.02727272727272727\n",
      "('i', '##s') 0.1\n",
      "('t', '##h') 0.03571428571428571\n",
      "('##h', '##e') 0.011904761904761904\n"
     ]
    }
   ],
   "source": [
    "for i, (k, v) in enumerate(pair_scores.items()):\n",
    "    print(k, v)\n",
    "    if i > 4:\n",
    "        break"
   ]
  },
  {
   "cell_type": "markdown",
   "id": "7a755a9c-d1eb-4de1-84ca-571d12aaacaa",
   "metadata": {},
   "source": [
    "## Find highest score pair"
   ]
  },
  {
   "cell_type": "code",
   "execution_count": 15,
   "id": "2bf7aaee-bd64-4b2f-9a2b-072a3b03fbf9",
   "metadata": {},
   "outputs": [],
   "source": [
    "def max_pair_score(pair_scores):\n",
    "    if len(pair_scores) == 0:\n",
    "        return \"\", None\n",
    "    best_pair, max_score = max(pair_scores.items(), key=lambda d: d[1])\n",
    "    return best_pair, max_score"
   ]
  },
  {
   "cell_type": "code",
   "execution_count": 16,
   "id": "e4615726-beac-4972-b3b1-5049ad8910a0",
   "metadata": {},
   "outputs": [
    {
     "data": {
      "text/plain": [
       "(('a', '##b'), 0.2)"
      ]
     },
     "execution_count": 16,
     "metadata": {},
     "output_type": "execute_result"
    }
   ],
   "source": [
    "max_pair_score(pair_scores)"
   ]
  },
  {
   "cell_type": "markdown",
   "id": "65db3ecb-b676-4c5d-b360-59863675df20",
   "metadata": {},
   "source": [
    "## Merge pairs"
   ]
  },
  {
   "cell_type": "code",
   "execution_count": 17,
   "id": "a3c20bb0-8614-4b92-b9af-790881f90c89",
   "metadata": {},
   "outputs": [],
   "source": [
    "def merge_pair(a, b, splits, word_freqs):\n",
    "    for word in word_freqs:\n",
    "        split = splits[word]\n",
    "        if len(split) == 1:\n",
    "            continue\n",
    "        i = 0\n",
    "        while i < len(split) - 1:\n",
    "            if split[i] == a and split[i + 1] == b:\n",
    "                merge = a + b[2:] if b.startswith(\"##\") else a + b\n",
    "                split = split[:i] + [merge] + split[i + 2:]\n",
    "            else:\n",
    "                i += 1\n",
    "            splits[word] = split"
   ]
  },
  {
   "cell_type": "code",
   "execution_count": 18,
   "id": "6c24e304-35d7-485a-893a-4db20c06e78a",
   "metadata": {},
   "outputs": [],
   "source": [
    "splits_copy = deepcopy(splits)"
   ]
  },
  {
   "cell_type": "code",
   "execution_count": 19,
   "id": "a227cde0-641a-477f-9249-52bcf9493c02",
   "metadata": {},
   "outputs": [],
   "source": [
    "merge_pair(\"a\", \"##b\", splits_copy, word_freqs)"
   ]
  },
  {
   "cell_type": "code",
   "execution_count": 20,
   "id": "03a082d9-94dc-4602-9c18-abad65be2925",
   "metadata": {},
   "outputs": [
    {
     "data": {
      "text/plain": [
       "['ab', '##o', '##u', '##t']"
      ]
     },
     "execution_count": 20,
     "metadata": {},
     "output_type": "execute_result"
    }
   ],
   "source": [
    "splits_copy[\"about\"]"
   ]
  },
  {
   "cell_type": "markdown",
   "id": "9bcfa17c-345b-42d5-84fd-c3195da6f772",
   "metadata": {},
   "source": [
    "## Implement merges up until desired vocabulary length"
   ]
  },
  {
   "cell_type": "code",
   "execution_count": 22,
   "id": "28c5cef5-c243-4635-a2e6-60120df693df",
   "metadata": {},
   "outputs": [],
   "source": [
    "vocab = [\"[PAD]\", \"[UNK]\", \"[CLS]\", \"[SEP]\", \"[MASK]\"] + alphabet.copy()\n",
    "vocab_size = 70\n",
    "merges = {}\n",
    "splits_copy = deepcopy(splits)"
   ]
  },
  {
   "cell_type": "code",
   "execution_count": 24,
   "id": "adc23115-5302-466f-8917-a471afe16ea6",
   "metadata": {},
   "outputs": [],
   "source": [
    "while len(vocab) < vocab_size:\n",
    "    scores = compute_pair_scores(splits_copy, word_freqs)\n",
    "    (pair_a, pair_b), max_score = max_pair_score(scores)\n",
    "    merge_pair(pair_a, pair_b, splits_copy, word_freqs)\n",
    "    new_token = (\n",
    "        pair_a + pair_b[2:] if pair_b.startswith(\"##\")\n",
    "        else pair_a + pair_b\n",
    "    )\n",
    "    vocab.append(new_token)"
   ]
  },
  {
   "cell_type": "code",
   "execution_count": 25,
   "id": "fe5141db-f88a-4474-8525-0297e3ab72dc",
   "metadata": {},
   "outputs": [
    {
     "name": "stdout",
     "output_type": "stream",
     "text": [
      "['[PAD]', '[UNK]', '[CLS]', '[SEP]', '[MASK]', '##a', '##b', '##c', '##d', '##e', '##f', '##g', '##h', '##i', '##k', '##l', '##m', '##n', '##o', '##p', '##r', '##s', '##t', '##u', '##v', '##w', '##y', '##z', ',', '.', 'C', 'F', 'H', 'T', 'a', 'b', 'c', 'g', 'h', 'i', 's', 't', 'u', 'w', 'y', 'ab', '##fu', 'Fa', 'Fac', '##ct', '##ful', '##full', '##fully', 'Th', 'ch', '##hm', 'cha', 'chap', 'chapt', '##thm', 'Hu', 'Hug', 'Hugg', 'sh', 'th', 'is', '##thms', '##za', '##zat', '##ut']\n"
     ]
    }
   ],
   "source": [
    "print(vocab)"
   ]
  },
  {
   "cell_type": "markdown",
   "id": "49ca99fc-e283-4893-97a7-38d68528c688",
   "metadata": {},
   "source": [
    "# Tokenization"
   ]
  },
  {
   "cell_type": "code",
   "execution_count": 31,
   "id": "3b9df6e1-fdcd-4cf4-aa36-87221593237d",
   "metadata": {},
   "outputs": [],
   "source": [
    "def encode_word(word, vocab):\n",
    "    tokens = []\n",
    "    while len(word) > 0:\n",
    "        l = len(word)\n",
    "        while l > 0 and word[:l] not in vocab:\n",
    "            l -= 1\n",
    "        if l == 0:\n",
    "            return [\"[UNK]\"]\n",
    "        tokens.append(word[:l])\n",
    "        word = word[l:]\n",
    "        if len(word) > 0:\n",
    "            word = f\"##{word}\"\n",
    "    return tokens"
   ]
  },
  {
   "cell_type": "code",
   "execution_count": 32,
   "id": "3d3e75ad-f2ac-4c7b-b816-8506075e3db2",
   "metadata": {},
   "outputs": [
    {
     "name": "stdout",
     "output_type": "stream",
     "text": [
      "['Hugg', '##i', '##n', '##g']\n",
      "['[UNK]']\n"
     ]
    }
   ],
   "source": [
    "print(encode_word(\"Hugging\", vocab))\n",
    "print(encode_word(\"HOgging\", vocab))"
   ]
  },
  {
   "cell_type": "code",
   "execution_count": 33,
   "id": "f9c2dcd5-05aa-4000-bb07-78216cb4218c",
   "metadata": {},
   "outputs": [],
   "source": [
    "def tokenize(text):\n",
    "    pre_tokenize_result = tokenizer._tokenizer.pre_tokenizer.pre_tokenize_str(text)\n",
    "    pre_tokenized_text = [word for word, _ in pre_tokenize_result]\n",
    "    encoded_words = [encode_word(word, vocab) for word in pre_tokenized_text]\n",
    "    return sum(encoded_words, [])"
   ]
  },
  {
   "cell_type": "code",
   "execution_count": 35,
   "id": "fc7959d9-201a-49ff-87b5-f35929c7fe77",
   "metadata": {},
   "outputs": [
    {
     "name": "stdout",
     "output_type": "stream",
     "text": [
      "['Th', '##i', '##s', 'is', 'th', '##e', 'Hugg', '##i', '##n', '##g', 'Fac', '##e', 'c', '##o', '##u', '##r', '##s', '##e', '[UNK]']\n"
     ]
    }
   ],
   "source": [
    "print(tokenize(\"This is the Hugging Face course!\"))"
   ]
  },
  {
   "cell_type": "code",
   "execution_count": null,
   "id": "0fdae7b7-6d91-4c7e-9406-76c9c6c1dfbb",
   "metadata": {},
   "outputs": [],
   "source": []
  }
 ],
 "metadata": {
  "kernelspec": {
   "display_name": "Python 3 (ipykernel)",
   "language": "python",
   "name": "python3"
  },
  "language_info": {
   "codemirror_mode": {
    "name": "ipython",
    "version": 3
   },
   "file_extension": ".py",
   "mimetype": "text/x-python",
   "name": "python",
   "nbconvert_exporter": "python",
   "pygments_lexer": "ipython3",
   "version": "3.10.12"
  }
 },
 "nbformat": 4,
 "nbformat_minor": 5
}
