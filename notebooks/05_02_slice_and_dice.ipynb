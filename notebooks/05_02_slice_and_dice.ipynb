{
 "cells": [
  {
   "cell_type": "code",
   "execution_count": 1,
   "id": "dc7d2f70-9e5c-4aa3-9022-809f4bf59bce",
   "metadata": {},
   "outputs": [],
   "source": [
    "# !wget -P ../data/drugs-com \"https://archive.ics.uci.edu/ml/machine-learning-databases/00462/drugsCom_raw.zip\"\n",
    "# !unzip ../data/drugs-com/drugsCom_raw.zip -d ../data/drugs-com"
   ]
  },
  {
   "cell_type": "code",
   "execution_count": 32,
   "id": "bdf44a2d-9577-42ea-ac1b-92ce10e07514",
   "metadata": {},
   "outputs": [],
   "source": [
    "import html\n",
    "import multiprocessing\n",
    "from datasets import load_dataset\n",
    "from transformers import AutoTokenizer"
   ]
  },
  {
   "cell_type": "code",
   "execution_count": 13,
   "id": "1871003b",
   "metadata": {},
   "outputs": [],
   "source": [
    "num_cores = multiprocessing.cpu_count()\n",
    "num_cores_avail = max(1, num_cores - 1)"
   ]
  },
  {
   "cell_type": "markdown",
   "id": "c9854c49-07e1-4e5e-9e4e-05ecbbc9434c",
   "metadata": {},
   "source": [
    "# Load dataset"
   ]
  },
  {
   "cell_type": "code",
   "execution_count": 4,
   "id": "4f4981d7-6016-4f66-a550-3d27b3854a0a",
   "metadata": {},
   "outputs": [],
   "source": [
    "data_dir_path = \"../data/drugs-com\""
   ]
  },
  {
   "cell_type": "code",
   "execution_count": 15,
   "id": "f9f012b6-84b1-4177-a089-57730fc6d60d",
   "metadata": {},
   "outputs": [],
   "source": [
    "data_files = {\"train\": f\"{data_dir_path}/drugsComTrain_raw.tsv\", \"test\": f\"{data_dir_path}/drugsComTest_raw.tsv\"}\n",
    "drug_dataset = load_dataset(\"csv\", data_files=data_files, delimiter=\"\\t\")"
   ]
  },
  {
   "cell_type": "code",
   "execution_count": 16,
   "id": "cb88c993-7cf1-48ab-8984-c5ba0ac73cc8",
   "metadata": {},
   "outputs": [
    {
     "data": {
      "text/plain": [
       "Dataset({\n",
       "    features: ['Unnamed: 0', 'drugName', 'condition', 'review', 'rating', 'date', 'usefulCount'],\n",
       "    num_rows: 161297\n",
       "})"
      ]
     },
     "execution_count": 16,
     "metadata": {},
     "output_type": "execute_result"
    }
   ],
   "source": [
    "drug_dataset[\"train\"]"
   ]
  },
  {
   "cell_type": "markdown",
   "id": "f8025b7a-8457-43c3-a672-a79776a598de",
   "metadata": {},
   "source": [
    "## Take a random sample to get a feel for the data"
   ]
  },
  {
   "cell_type": "code",
   "execution_count": 17,
   "id": "9de2f3ea-65c3-48b1-8a91-3a3e6c1a709d",
   "metadata": {},
   "outputs": [
    {
     "data": {
      "text/plain": [
       "{'Unnamed: 0': [87571, 178045, 80482],\n",
       " 'drugName': ['Naproxen', 'Duloxetine', 'Mobic'],\n",
       " 'condition': ['Gout, Acute', 'ibromyalgia', 'Inflammatory Conditions'],\n",
       " 'review': ['\"like the previous person mention, I&#039;m a strong believer of aleve, it works faster for my gout than the prescription meds I take. No more going to the doctor for refills.....Aleve works!\"',\n",
       "  '\"I have taken Cymbalta for about a year and a half for fibromyalgia pain. It is great\\r\\nas a pain reducer and an anti-depressant, however, the side effects outweighed \\r\\nany benefit I got from it. I had trouble with restlessness, being tired constantly,\\r\\ndizziness, dry mouth, numbness and tingling in my feet, and horrible sweating. I am\\r\\nbeing weaned off of it now. Went from 60 mg to 30mg and now to 15 mg. I will be\\r\\noff completely in about a week. The fibro pain is coming back, but I would rather deal with it than the side effects.\"',\n",
       "  '\"I have been taking Mobic for over a year with no side effects other than an elevated blood pressure.  I had severe knee and ankle pain which completely went away after taking Mobic.  I attempted to stop the medication however pain returned after a few days.\"'],\n",
       " 'rating': [9.0, 3.0, 10.0],\n",
       " 'date': ['September 2, 2015', 'November 7, 2011', 'June 5, 2013'],\n",
       " 'usefulCount': [36, 13, 128]}"
      ]
     },
     "execution_count": 17,
     "metadata": {},
     "output_type": "execute_result"
    }
   ],
   "source": [
    "drug_sample = drug_dataset[\"train\"].shuffle(seed=42).select(range(1000))\n",
    "drug_sample[:3]"
   ]
  },
  {
   "cell_type": "markdown",
   "id": "7ea701c3-9846-42b4-a399-8b2e5f448fca",
   "metadata": {},
   "source": [
    "## Quality checks and data cleaning"
   ]
  },
  {
   "cell_type": "code",
   "execution_count": 18,
   "id": "0787d71a-1690-4849-890b-d3e85026970e",
   "metadata": {},
   "outputs": [],
   "source": [
    "# Is Unnamed: 0 a unique identifier?\n",
    "for split in drug_dataset.keys():\n",
    "    assert len(drug_dataset[split]) == len(drug_dataset[split].unique(\"Unnamed: 0\"))"
   ]
  },
  {
   "cell_type": "code",
   "execution_count": 19,
   "id": "94c72b23-c3a3-45e6-bb87-c83d410a5bfc",
   "metadata": {},
   "outputs": [],
   "source": [
    "drug_dataset = drug_dataset.rename_column(\"Unnamed: 0\", new_column_name=\"patient_id\")"
   ]
  },
  {
   "cell_type": "code",
   "execution_count": 20,
   "id": "0528b4c3-d542-4000-9bc9-b0c37740f0a6",
   "metadata": {},
   "outputs": [
    {
     "data": {
      "text/plain": [
       "DatasetDict({\n",
       "    train: Dataset({\n",
       "        features: ['patient_id', 'drugName', 'condition', 'review', 'rating', 'date', 'usefulCount'],\n",
       "        num_rows: 161297\n",
       "    })\n",
       "    test: Dataset({\n",
       "        features: ['patient_id', 'drugName', 'condition', 'review', 'rating', 'date', 'usefulCount'],\n",
       "        num_rows: 53766\n",
       "    })\n",
       "})"
      ]
     },
     "execution_count": 20,
     "metadata": {},
     "output_type": "execute_result"
    }
   ],
   "source": [
    "drug_dataset"
   ]
  },
  {
   "cell_type": "code",
   "execution_count": 21,
   "id": "4b8d2d0a-6e32-440c-9c3e-4c5fb4e7eb1e",
   "metadata": {},
   "outputs": [
    {
     "data": {
      "text/plain": [
       "3436"
      ]
     },
     "execution_count": 21,
     "metadata": {},
     "output_type": "execute_result"
    }
   ],
   "source": [
    "len(drug_dataset[\"train\"].unique(\"drugName\"))"
   ]
  },
  {
   "cell_type": "markdown",
   "id": "c60fdc51",
   "metadata": {},
   "source": [
    "## Clean labels"
   ]
  },
  {
   "cell_type": "code",
   "execution_count": 22,
   "id": "51b7a7c8-47ad-46b5-94a8-9be27b00c14d",
   "metadata": {},
   "outputs": [
    {
     "data": {
      "application/vnd.jupyter.widget-view+json": {
       "model_id": "0b07eed4ac434396921be29b949a2c01",
       "version_major": 2,
       "version_minor": 0
      },
      "text/plain": [
       "Filter (num_proc=15):   0%|          | 0/161297 [00:00<?, ? examples/s]"
      ]
     },
     "metadata": {},
     "output_type": "display_data"
    },
    {
     "data": {
      "application/vnd.jupyter.widget-view+json": {
       "model_id": "2bdfac9f14b74506844334319367b937",
       "version_major": 2,
       "version_minor": 0
      },
      "text/plain": [
       "Filter (num_proc=15):   0%|          | 0/53766 [00:00<?, ? examples/s]"
      ]
     },
     "metadata": {},
     "output_type": "display_data"
    },
    {
     "data": {
      "application/vnd.jupyter.widget-view+json": {
       "model_id": "bc9aed7cc67543cba67c1c9e8e31d99f",
       "version_major": 2,
       "version_minor": 0
      },
      "text/plain": [
       "Map (num_proc=15):   0%|          | 0/160398 [00:00<?, ? examples/s]"
      ]
     },
     "metadata": {},
     "output_type": "display_data"
    },
    {
     "data": {
      "application/vnd.jupyter.widget-view+json": {
       "model_id": "92f070a9e98a4d07bbbacc846950213a",
       "version_major": 2,
       "version_minor": 0
      },
      "text/plain": [
       "Map (num_proc=15):   0%|          | 0/53471 [00:00<?, ? examples/s]"
      ]
     },
     "metadata": {},
     "output_type": "display_data"
    }
   ],
   "source": [
    "def lowercase_condition(example):\n",
    "    return {\"condition\": [x.lower() for x in example[\"condition\"]]}\n",
    "\n",
    "def filter_nones(example):\n",
    "    return [x is not None for x in example[\"condition\"]]\n",
    "\n",
    "drug_dataset = (\n",
    "    drug_dataset\n",
    "        .filter(filter_nones, batched=True, num_proc=num_cores_avail)\n",
    "        .map(lowercase_condition, batched=True, num_proc=num_cores_avail)\n",
    ")"
   ]
  },
  {
   "cell_type": "code",
   "execution_count": 23,
   "id": "7ffe0236-c1c8-4277-b127-f5a95de811f8",
   "metadata": {},
   "outputs": [
    {
     "data": {
      "text/plain": [
       "['left ventricular dysfunction', 'adhd', 'birth control']"
      ]
     },
     "execution_count": 23,
     "metadata": {},
     "output_type": "execute_result"
    }
   ],
   "source": [
    "drug_dataset[\"train\"][\"condition\"][:3]"
   ]
  },
  {
   "cell_type": "markdown",
   "id": "409cea0c",
   "metadata": {},
   "source": [
    "## Clean data"
   ]
  },
  {
   "cell_type": "markdown",
   "id": "7d5a4c05",
   "metadata": {},
   "source": [
    "### Get rough estimate of review lengths"
   ]
  },
  {
   "cell_type": "code",
   "execution_count": 24,
   "id": "3ac9b9be",
   "metadata": {},
   "outputs": [
    {
     "data": {
      "application/vnd.jupyter.widget-view+json": {
       "model_id": "667fafefd15349af852eb9569167f89d",
       "version_major": 2,
       "version_minor": 0
      },
      "text/plain": [
       "Map (num_proc=15):   0%|          | 0/160398 [00:00<?, ? examples/s]"
      ]
     },
     "metadata": {},
     "output_type": "display_data"
    },
    {
     "data": {
      "application/vnd.jupyter.widget-view+json": {
       "model_id": "0fdc453945e64608a432686258932393",
       "version_major": 2,
       "version_minor": 0
      },
      "text/plain": [
       "Map (num_proc=15):   0%|          | 0/53471 [00:00<?, ? examples/s]"
      ]
     },
     "metadata": {},
     "output_type": "display_data"
    }
   ],
   "source": [
    "drug_dataset = drug_dataset.map(\n",
    "    lambda x: {\"review_length_est\": [len(r.split(' ')) for r in x[\"review\"]]},\n",
    "    batched=True,\n",
    "    num_proc=num_cores_avail\n",
    ")"
   ]
  },
  {
   "cell_type": "code",
   "execution_count": 25,
   "id": "1fa653de",
   "metadata": {},
   "outputs": [
    {
     "data": {
      "text/plain": [
       "{'patient_id': 206461,\n",
       " 'drugName': 'Valsartan',\n",
       " 'condition': 'left ventricular dysfunction',\n",
       " 'review': '\"It has no side effect, I take it in combination of Bystolic 5 Mg and Fish Oil\"',\n",
       " 'rating': 9.0,\n",
       " 'date': 'May 20, 2012',\n",
       " 'usefulCount': 27,\n",
       " 'review_length_est': 17}"
      ]
     },
     "execution_count": 25,
     "metadata": {},
     "output_type": "execute_result"
    }
   ],
   "source": [
    "drug_dataset[\"train\"][0]"
   ]
  },
  {
   "cell_type": "code",
   "execution_count": 26,
   "id": "023da138",
   "metadata": {},
   "outputs": [
    {
     "data": {
      "text/plain": [
       "[1, 1, 1]"
      ]
     },
     "execution_count": 26,
     "metadata": {},
     "output_type": "execute_result"
    }
   ],
   "source": [
    "drug_dataset[\"train\"].sort(\"review_length_est\")[:3][\"review_length_est\"]"
   ]
  },
  {
   "cell_type": "code",
   "execution_count": 27,
   "id": "3ff32e97",
   "metadata": {},
   "outputs": [
    {
     "data": {
      "text/plain": [
       "[1857, 1222, 1107]"
      ]
     },
     "execution_count": 27,
     "metadata": {},
     "output_type": "execute_result"
    }
   ],
   "source": [
    "drug_dataset[\"train\"].sort(\"review_length_est\", reverse=True)[:3][\"review_length_est\"]"
   ]
  },
  {
   "cell_type": "code",
   "execution_count": 28,
   "id": "99c3987f",
   "metadata": {},
   "outputs": [
    {
     "data": {
      "application/vnd.jupyter.widget-view+json": {
       "model_id": "abe1dba20b8b432fb1b721f150a94ce5",
       "version_major": 2,
       "version_minor": 0
      },
      "text/plain": [
       "Filter (num_proc=15):   0%|          | 0/160398 [00:00<?, ? examples/s]"
      ]
     },
     "metadata": {},
     "output_type": "display_data"
    },
    {
     "data": {
      "application/vnd.jupyter.widget-view+json": {
       "model_id": "9a7eb0f6dfb24d419f5d013edc34cd29",
       "version_major": 2,
       "version_minor": 0
      },
      "text/plain": [
       "Filter (num_proc=15):   0%|          | 0/53471 [00:00<?, ? examples/s]"
      ]
     },
     "metadata": {},
     "output_type": "display_data"
    }
   ],
   "source": [
    "drug_dataset = drug_dataset.filter(\n",
    "    lambda x: [rle > 30 for rle in x[\"review_length_est\"]],\n",
    "    batched=True,\n",
    "    num_proc=num_cores_avail\n",
    ")"
   ]
  },
  {
   "cell_type": "code",
   "execution_count": 29,
   "id": "0c53070c",
   "metadata": {},
   "outputs": [
    {
     "data": {
      "text/plain": [
       "DatasetDict({\n",
       "    train: Dataset({\n",
       "        features: ['patient_id', 'drugName', 'condition', 'review', 'rating', 'date', 'usefulCount', 'review_length_est'],\n",
       "        num_rows: 138903\n",
       "    })\n",
       "    test: Dataset({\n",
       "        features: ['patient_id', 'drugName', 'condition', 'review', 'rating', 'date', 'usefulCount', 'review_length_est'],\n",
       "        num_rows: 46246\n",
       "    })\n",
       "})"
      ]
     },
     "execution_count": 29,
     "metadata": {},
     "output_type": "execute_result"
    }
   ],
   "source": [
    "drug_dataset"
   ]
  },
  {
   "cell_type": "markdown",
   "id": "623241a5",
   "metadata": {},
   "source": [
    "### Fix HTML character codes"
   ]
  },
  {
   "cell_type": "code",
   "execution_count": 30,
   "id": "13c08597",
   "metadata": {},
   "outputs": [
    {
     "data": {
      "text/plain": [
       "\"I'm a transformer called BERT\""
      ]
     },
     "execution_count": 30,
     "metadata": {},
     "output_type": "execute_result"
    }
   ],
   "source": [
    "text = \"I&#039;m a transformer called BERT\"\n",
    "html.unescape(text)"
   ]
  },
  {
   "cell_type": "code",
   "execution_count": 31,
   "id": "d5ad4c09",
   "metadata": {},
   "outputs": [
    {
     "data": {
      "application/vnd.jupyter.widget-view+json": {
       "model_id": "2ba7b8fec0e2432f991d5c663c3869e5",
       "version_major": 2,
       "version_minor": 0
      },
      "text/plain": [
       "Map (num_proc=15):   0%|          | 0/138903 [00:00<?, ? examples/s]"
      ]
     },
     "metadata": {},
     "output_type": "display_data"
    },
    {
     "data": {
      "application/vnd.jupyter.widget-view+json": {
       "model_id": "5cf5e1cc34c04a7c9d2131503c30a029",
       "version_major": 2,
       "version_minor": 0
      },
      "text/plain": [
       "Map (num_proc=15):   0%|          | 0/46246 [00:00<?, ? examples/s]"
      ]
     },
     "metadata": {},
     "output_type": "display_data"
    }
   ],
   "source": [
    "# drug_dataset = drug_dataset.map(lambda x: {\"review\": html.unescape(x[\"review\"])})\n",
    "drug_dataset = drug_dataset.map(\n",
    "    lambda x: {\"review\": [html.unescape(r) for r in x[\"review\"]]},\n",
    "    batched=True,\n",
    "    num_proc=num_cores_avail\n",
    ")"
   ]
  },
  {
   "cell_type": "markdown",
   "id": "ead99768",
   "metadata": {},
   "source": [
    "# Tokenize"
   ]
  },
  {
   "cell_type": "code",
   "execution_count": 33,
   "id": "b0187ca3",
   "metadata": {},
   "outputs": [],
   "source": [
    "checkpoint = \"bert-base-cased\""
   ]
  },
  {
   "cell_type": "code",
   "execution_count": 42,
   "id": "2b5f3284",
   "metadata": {},
   "outputs": [],
   "source": [
    "tokenizer = AutoTokenizer.from_pretrained(checkpoint)\n",
    "slow_tokenizer = AutoTokenizer.from_pretrained(checkpoint, use_fast=False)"
   ]
  },
  {
   "cell_type": "code",
   "execution_count": 40,
   "id": "3a0dba29",
   "metadata": {},
   "outputs": [],
   "source": [
    "def tokenize_function(tokenizer, examples):\n",
    "    return tokenizer(examples[\"review\"], truncation=True)"
   ]
  },
  {
   "cell_type": "markdown",
   "id": "e029e572",
   "metadata": {},
   "source": [
    "## Single-processing"
   ]
  },
  {
   "cell_type": "code",
   "execution_count": 41,
   "id": "b17b762a",
   "metadata": {},
   "outputs": [
    {
     "data": {
      "application/vnd.jupyter.widget-view+json": {
       "model_id": "aa8aafe5ece444b1b2523d998ae2d957",
       "version_major": 2,
       "version_minor": 0
      },
      "text/plain": [
       "Map:   0%|          | 0/138903 [00:00<?, ? examples/s]"
      ]
     },
     "metadata": {},
     "output_type": "display_data"
    },
    {
     "data": {
      "application/vnd.jupyter.widget-view+json": {
       "model_id": "acc9f7e9c58e457ba2eac8e543c6a5ea",
       "version_major": 2,
       "version_minor": 0
      },
      "text/plain": [
       "Map:   0%|          | 0/46246 [00:00<?, ? examples/s]"
      ]
     },
     "metadata": {},
     "output_type": "display_data"
    }
   ],
   "source": [
    "tokenized_dataset = drug_dataset.map(lambda x: tokenize_function(tokenizer, x), batched=True)"
   ]
  },
  {
   "cell_type": "code",
   "execution_count": 43,
   "id": "830ad078",
   "metadata": {},
   "outputs": [
    {
     "data": {
      "application/vnd.jupyter.widget-view+json": {
       "model_id": "4c0bb13788c7461e935d1adc88726bf0",
       "version_major": 2,
       "version_minor": 0
      },
      "text/plain": [
       "Map:   0%|          | 0/138903 [00:00<?, ? examples/s]"
      ]
     },
     "metadata": {},
     "output_type": "display_data"
    },
    {
     "data": {
      "application/vnd.jupyter.widget-view+json": {
       "model_id": "23a9ce7dc55e46c2b000a2b4990106ce",
       "version_major": 2,
       "version_minor": 0
      },
      "text/plain": [
       "Map:   0%|          | 0/46246 [00:00<?, ? examples/s]"
      ]
     },
     "metadata": {},
     "output_type": "display_data"
    }
   ],
   "source": [
    "tokenized_dataset = drug_dataset.map(lambda x: tokenize_function(tokenizer, x), batched=False)"
   ]
  },
  {
   "cell_type": "markdown",
   "id": "40ddfedc",
   "metadata": {},
   "source": [
    "## Multi-processing"
   ]
  },
  {
   "cell_type": "code",
   "execution_count": 44,
   "id": "d3229be7",
   "metadata": {},
   "outputs": [
    {
     "data": {
      "application/vnd.jupyter.widget-view+json": {
       "model_id": "b02a705f37604dd7965bd69564b0f0c9",
       "version_major": 2,
       "version_minor": 0
      },
      "text/plain": [
       "Map (num_proc=15):   0%|          | 0/138903 [00:00<?, ? examples/s]"
      ]
     },
     "metadata": {},
     "output_type": "display_data"
    },
    {
     "data": {
      "application/vnd.jupyter.widget-view+json": {
       "model_id": "fd7896ab6526448bbe198c136cf32cda",
       "version_major": 2,
       "version_minor": 0
      },
      "text/plain": [
       "Map (num_proc=15):   0%|          | 0/46246 [00:00<?, ? examples/s]"
      ]
     },
     "metadata": {},
     "output_type": "display_data"
    }
   ],
   "source": [
    "tokenized_dataset = drug_dataset.map(lambda x: tokenize_function(tokenizer, x), batched=True, num_proc=num_cores_avail)"
   ]
  },
  {
   "cell_type": "code",
   "execution_count": 45,
   "id": "2ac2ac77",
   "metadata": {},
   "outputs": [
    {
     "data": {
      "application/vnd.jupyter.widget-view+json": {
       "model_id": "ba42253a5c8c4500a469be4db9fc0465",
       "version_major": 2,
       "version_minor": 0
      },
      "text/plain": [
       "Map (num_proc=15):   0%|          | 0/138903 [00:00<?, ? examples/s]"
      ]
     },
     "metadata": {},
     "output_type": "display_data"
    },
    {
     "data": {
      "application/vnd.jupyter.widget-view+json": {
       "model_id": "4989dcbee40e47d789f7f4384776c6ef",
       "version_major": 2,
       "version_minor": 0
      },
      "text/plain": [
       "Map (num_proc=15):   0%|          | 0/46246 [00:00<?, ? examples/s]"
      ]
     },
     "metadata": {},
     "output_type": "display_data"
    }
   ],
   "source": [
    "tokenized_dataset = drug_dataset.map(lambda x: tokenize_function(tokenizer, x), batched=False, num_proc=num_cores_avail)"
   ]
  },
  {
   "cell_type": "markdown",
   "id": "fb3f7c66",
   "metadata": {},
   "source": [
    "# Try using slow tokenizer\n",
    "Don't bother doing it single-threaded, since it would take forever"
   ]
  },
  {
   "cell_type": "code",
   "execution_count": 46,
   "id": "8e6c2b27",
   "metadata": {},
   "outputs": [
    {
     "data": {
      "application/vnd.jupyter.widget-view+json": {
       "model_id": "7c35c749eee14518a619ea82c001665f",
       "version_major": 2,
       "version_minor": 0
      },
      "text/plain": [
       "Map (num_proc=15):   0%|          | 0/138903 [00:00<?, ? examples/s]"
      ]
     },
     "metadata": {},
     "output_type": "display_data"
    },
    {
     "data": {
      "application/vnd.jupyter.widget-view+json": {
       "model_id": "bde867a1780f436085a75db8b2155236",
       "version_major": 2,
       "version_minor": 0
      },
      "text/plain": [
       "Map (num_proc=15):   0%|          | 0/46246 [00:00<?, ? examples/s]"
      ]
     },
     "metadata": {},
     "output_type": "display_data"
    }
   ],
   "source": [
    "tokenized_dataset = drug_dataset.map(lambda x: tokenize_function(slow_tokenizer, x), batched=True, num_proc=num_cores_avail)"
   ]
  },
  {
   "cell_type": "markdown",
   "id": "0bb1f7ff",
   "metadata": {},
   "source": [
    "# Use Tokenizer"
   ]
  },
  {
   "cell_type": "code",
   "execution_count": 47,
   "id": "374f6485",
   "metadata": {},
   "outputs": [],
   "source": [
    "def tokenize_and_split(examples):\n",
    "    return tokenizer(\n",
    "        examples[\"review\"],\n",
    "        truncation=True,\n",
    "        max_length=128,\n",
    "        return_overflowing_tokens=True\n",
    "    )"
   ]
  },
  {
   "cell_type": "markdown",
   "id": "a2367200",
   "metadata": {},
   "source": [
    "Multiple \"features\" for this example since there's overflow (sequences longer than max length)"
   ]
  },
  {
   "cell_type": "code",
   "execution_count": 49,
   "id": "24a88fda",
   "metadata": {},
   "outputs": [
    {
     "data": {
      "text/plain": [
       "[128, 49]"
      ]
     },
     "execution_count": 49,
     "metadata": {},
     "output_type": "execute_result"
    }
   ],
   "source": [
    "res = tokenize_and_split(drug_dataset[\"train\"][0])\n",
    "[len(inp) for inp in res.input_ids]"
   ]
  },
  {
   "cell_type": "markdown",
   "id": "4a58cb25",
   "metadata": {},
   "source": [
    "## Handle mismatched length through removal"
   ]
  },
  {
   "cell_type": "code",
   "execution_count": 51,
   "id": "5daac165",
   "metadata": {},
   "outputs": [
    {
     "data": {
      "application/vnd.jupyter.widget-view+json": {
       "model_id": "3befbb16427446459dac1080cfcd8c10",
       "version_major": 2,
       "version_minor": 0
      },
      "text/plain": [
       "Map (num_proc=15):   0%|          | 0/138903 [00:00<?, ? examples/s]"
      ]
     },
     "metadata": {},
     "output_type": "display_data"
    },
    {
     "data": {
      "application/vnd.jupyter.widget-view+json": {
       "model_id": "77e942a85664450abceaf2a6ba63f872",
       "version_major": 2,
       "version_minor": 0
      },
      "text/plain": [
       "Map (num_proc=15):   0%|          | 0/46246 [00:00<?, ? examples/s]"
      ]
     },
     "metadata": {},
     "output_type": "display_data"
    }
   ],
   "source": [
    "tokenized_dataset = drug_dataset.map(\n",
    "    tokenize_and_split,\n",
    "    batched=True,\n",
    "    num_proc=num_cores_avail,\n",
    "    remove_columns=drug_dataset[\"train\"].column_names\n",
    ")"
   ]
  },
  {
   "cell_type": "code",
   "execution_count": 52,
   "id": "984cb50a",
   "metadata": {},
   "outputs": [
    {
     "data": {
      "text/plain": [
       "DatasetDict({\n",
       "    train: Dataset({\n",
       "        features: ['input_ids', 'token_type_ids', 'attention_mask', 'overflow_to_sample_mapping'],\n",
       "        num_rows: 207161\n",
       "    })\n",
       "    test: Dataset({\n",
       "        features: ['input_ids', 'token_type_ids', 'attention_mask', 'overflow_to_sample_mapping'],\n",
       "        num_rows: 69014\n",
       "    })\n",
       "})"
      ]
     },
     "execution_count": 52,
     "metadata": {},
     "output_type": "execute_result"
    }
   ],
   "source": [
    "tokenized_dataset"
   ]
  },
  {
   "cell_type": "markdown",
   "id": "d561b1ec",
   "metadata": {},
   "source": [
    "Compare dataset lengths -- the dataset that allows for overflow should be longer (examples split up into multiple examples)"
   ]
  },
  {
   "cell_type": "code",
   "execution_count": 53,
   "id": "b68c8c69",
   "metadata": {},
   "outputs": [
    {
     "data": {
      "text/plain": [
       "(207161, 138903)"
      ]
     },
     "execution_count": 53,
     "metadata": {},
     "output_type": "execute_result"
    }
   ],
   "source": [
    "len(tokenized_dataset[\"train\"]), len(drug_dataset[\"train\"])"
   ]
  },
  {
   "cell_type": "markdown",
   "id": "06504b8b",
   "metadata": {},
   "source": [
    "## Handle mismatched length through repetition"
   ]
  },
  {
   "cell_type": "code",
   "execution_count": 56,
   "id": "7a747073",
   "metadata": {},
   "outputs": [],
   "source": [
    "def tokenize_and_split_rep(examples):\n",
    "    res = tokenizer(\n",
    "        examples[\"review\"],\n",
    "        truncation=True,\n",
    "        max_length=128,\n",
    "        return_overflowing_tokens=True\n",
    "    )\n",
    "    # Extract mapping between new and old indices\n",
    "    sample_map = res.pop(\"overflow_to_sample_mapping\")\n",
    "    # Duplicate entries for individuals\n",
    "    for key, values in examples.items():\n",
    "        res[key] = [values[i] for i in sample_map]\n",
    "    return res"
   ]
  },
  {
   "cell_type": "code",
   "execution_count": 58,
   "id": "627e46ad",
   "metadata": {},
   "outputs": [
    {
     "data": {
      "application/vnd.jupyter.widget-view+json": {
       "model_id": "0aede2620ea84264b496c514376d9c35",
       "version_major": 2,
       "version_minor": 0
      },
      "text/plain": [
       "Map (num_proc=15):   0%|          | 0/138903 [00:00<?, ? examples/s]"
      ]
     },
     "metadata": {},
     "output_type": "display_data"
    },
    {
     "data": {
      "application/vnd.jupyter.widget-view+json": {
       "model_id": "ba9e2fd469ee4c8aa32622e986b8ed82",
       "version_major": 2,
       "version_minor": 0
      },
      "text/plain": [
       "Map (num_proc=15):   0%|          | 0/46246 [00:00<?, ? examples/s]"
      ]
     },
     "metadata": {},
     "output_type": "display_data"
    }
   ],
   "source": [
    "tokenized_dataset = drug_dataset.map(\n",
    "    tokenize_and_split_rep,\n",
    "    batched=True,\n",
    "    num_proc=num_cores_avail\n",
    ")"
   ]
  },
  {
   "cell_type": "code",
   "execution_count": 59,
   "id": "ec4ba005",
   "metadata": {},
   "outputs": [
    {
     "data": {
      "text/plain": [
       "DatasetDict({\n",
       "    train: Dataset({\n",
       "        features: ['patient_id', 'drugName', 'condition', 'review', 'rating', 'date', 'usefulCount', 'review_length_est', 'input_ids', 'token_type_ids', 'attention_mask'],\n",
       "        num_rows: 207161\n",
       "    })\n",
       "    test: Dataset({\n",
       "        features: ['patient_id', 'drugName', 'condition', 'review', 'rating', 'date', 'usefulCount', 'review_length_est', 'input_ids', 'token_type_ids', 'attention_mask'],\n",
       "        num_rows: 69014\n",
       "    })\n",
       "})"
      ]
     },
     "execution_count": 59,
     "metadata": {},
     "output_type": "execute_result"
    }
   ],
   "source": [
    "tokenized_dataset"
   ]
  },
  {
   "cell_type": "code",
   "execution_count": 67,
   "id": "0970ff3b",
   "metadata": {},
   "outputs": [
    {
     "name": "stdout",
     "output_type": "stream",
     "text": [
      "95260\n",
      "95260\n"
     ]
    }
   ],
   "source": [
    "print(tokenized_dataset[\"train\"][0][\"patient_id\"])\n",
    "print(tokenized_dataset[\"train\"][1][\"patient_id\"])"
   ]
  },
  {
   "cell_type": "code",
   "execution_count": 69,
   "id": "15c5a51f",
   "metadata": {},
   "outputs": [
    {
     "name": "stdout",
     "output_type": "stream",
     "text": [
      "128\n",
      "49\n"
     ]
    }
   ],
   "source": [
    "print(len(tokenized_dataset[\"train\"][0][\"input_ids\"]))\n",
    "print(len(tokenized_dataset[\"train\"][1][\"input_ids\"]))"
   ]
  }
 ],
 "metadata": {
  "kernelspec": {
   "display_name": "Python 3 (ipykernel)",
   "language": "python",
   "name": "python3"
  },
  "language_info": {
   "codemirror_mode": {
    "name": "ipython",
    "version": 3
   },
   "file_extension": ".py",
   "mimetype": "text/x-python",
   "name": "python",
   "nbconvert_exporter": "python",
   "pygments_lexer": "ipython3",
   "version": "3.10.12"
  }
 },
 "nbformat": 4,
 "nbformat_minor": 5
}
