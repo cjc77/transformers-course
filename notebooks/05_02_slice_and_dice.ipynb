{
 "cells": [
  {
   "cell_type": "code",
   "execution_count": 1,
   "id": "dc7d2f70-9e5c-4aa3-9022-809f4bf59bce",
   "metadata": {},
   "outputs": [],
   "source": [
    "# !wget -P ../data/drugs-com \"https://archive.ics.uci.edu/ml/machine-learning-databases/00462/drugsCom_raw.zip\"\n",
    "# !unzip ../data/drugs-com/drugsCom_raw.zip -d ../data/drugs-com"
   ]
  },
  {
   "cell_type": "code",
   "execution_count": 76,
   "id": "bdf44a2d-9577-42ea-ac1b-92ce10e07514",
   "metadata": {},
   "outputs": [],
   "source": [
    "import html\n",
    "import multiprocessing\n",
    "from datasets import Dataset\n",
    "from datasets import load_dataset, load_from_disk\n",
    "from transformers import AutoTokenizer"
   ]
  },
  {
   "cell_type": "code",
   "execution_count": 3,
   "id": "1871003b",
   "metadata": {},
   "outputs": [],
   "source": [
    "num_cores = multiprocessing.cpu_count()\n",
    "num_cores_avail = max(1, num_cores - 1)"
   ]
  },
  {
   "cell_type": "markdown",
   "id": "c9854c49-07e1-4e5e-9e4e-05ecbbc9434c",
   "metadata": {},
   "source": [
    "# Load dataset"
   ]
  },
  {
   "cell_type": "code",
   "execution_count": 4,
   "id": "4f4981d7-6016-4f66-a550-3d27b3854a0a",
   "metadata": {},
   "outputs": [],
   "source": [
    "data_dir_path = \"../data/drugs-com\""
   ]
  },
  {
   "cell_type": "code",
   "execution_count": 5,
   "id": "f9f012b6-84b1-4177-a089-57730fc6d60d",
   "metadata": {},
   "outputs": [],
   "source": [
    "data_files = {\"train\": f\"{data_dir_path}/drugsComTrain_raw.tsv\", \"test\": f\"{data_dir_path}/drugsComTest_raw.tsv\"}\n",
    "drug_dataset = load_dataset(\"csv\", data_files=data_files, delimiter=\"\\t\")"
   ]
  },
  {
   "cell_type": "code",
   "execution_count": 6,
   "id": "cb88c993-7cf1-48ab-8984-c5ba0ac73cc8",
   "metadata": {},
   "outputs": [
    {
     "data": {
      "text/plain": [
       "Dataset({\n",
       "    features: ['Unnamed: 0', 'drugName', 'condition', 'review', 'rating', 'date', 'usefulCount'],\n",
       "    num_rows: 161297\n",
       "})"
      ]
     },
     "execution_count": 6,
     "metadata": {},
     "output_type": "execute_result"
    }
   ],
   "source": [
    "drug_dataset[\"train\"]"
   ]
  },
  {
   "cell_type": "markdown",
   "id": "f8025b7a-8457-43c3-a672-a79776a598de",
   "metadata": {},
   "source": [
    "## Take a random sample to get a feel for the data"
   ]
  },
  {
   "cell_type": "code",
   "execution_count": 7,
   "id": "9de2f3ea-65c3-48b1-8a91-3a3e6c1a709d",
   "metadata": {},
   "outputs": [
    {
     "data": {
      "text/plain": [
       "{'Unnamed: 0': [87571, 178045, 80482],\n",
       " 'drugName': ['Naproxen', 'Duloxetine', 'Mobic'],\n",
       " 'condition': ['Gout, Acute', 'ibromyalgia', 'Inflammatory Conditions'],\n",
       " 'review': ['\"like the previous person mention, I&#039;m a strong believer of aleve, it works faster for my gout than the prescription meds I take. No more going to the doctor for refills.....Aleve works!\"',\n",
       "  '\"I have taken Cymbalta for about a year and a half for fibromyalgia pain. It is great\\r\\nas a pain reducer and an anti-depressant, however, the side effects outweighed \\r\\nany benefit I got from it. I had trouble with restlessness, being tired constantly,\\r\\ndizziness, dry mouth, numbness and tingling in my feet, and horrible sweating. I am\\r\\nbeing weaned off of it now. Went from 60 mg to 30mg and now to 15 mg. I will be\\r\\noff completely in about a week. The fibro pain is coming back, but I would rather deal with it than the side effects.\"',\n",
       "  '\"I have been taking Mobic for over a year with no side effects other than an elevated blood pressure.  I had severe knee and ankle pain which completely went away after taking Mobic.  I attempted to stop the medication however pain returned after a few days.\"'],\n",
       " 'rating': [9.0, 3.0, 10.0],\n",
       " 'date': ['September 2, 2015', 'November 7, 2011', 'June 5, 2013'],\n",
       " 'usefulCount': [36, 13, 128]}"
      ]
     },
     "execution_count": 7,
     "metadata": {},
     "output_type": "execute_result"
    }
   ],
   "source": [
    "drug_sample = drug_dataset[\"train\"].shuffle(seed=42).select(range(1000))\n",
    "drug_sample[:3]"
   ]
  },
  {
   "cell_type": "markdown",
   "id": "7ea701c3-9846-42b4-a399-8b2e5f448fca",
   "metadata": {},
   "source": [
    "## Quality checks and data cleaning"
   ]
  },
  {
   "cell_type": "code",
   "execution_count": 8,
   "id": "0787d71a-1690-4849-890b-d3e85026970e",
   "metadata": {},
   "outputs": [],
   "source": [
    "# Is Unnamed: 0 a unique identifier?\n",
    "for split in drug_dataset.keys():\n",
    "    assert len(drug_dataset[split]) == len(drug_dataset[split].unique(\"Unnamed: 0\"))"
   ]
  },
  {
   "cell_type": "code",
   "execution_count": 9,
   "id": "94c72b23-c3a3-45e6-bb87-c83d410a5bfc",
   "metadata": {},
   "outputs": [],
   "source": [
    "drug_dataset = drug_dataset.rename_column(\"Unnamed: 0\", new_column_name=\"patient_id\")"
   ]
  },
  {
   "cell_type": "code",
   "execution_count": 10,
   "id": "470efe29",
   "metadata": {},
   "outputs": [],
   "source": [
    "drug_dataset = drug_dataset.rename_columns({key: key.lower() for key in drug_dataset[\"train\"].column_names})"
   ]
  },
  {
   "cell_type": "code",
   "execution_count": 11,
   "id": "0528b4c3-d542-4000-9bc9-b0c37740f0a6",
   "metadata": {},
   "outputs": [
    {
     "data": {
      "text/plain": [
       "DatasetDict({\n",
       "    train: Dataset({\n",
       "        features: ['patient_id', 'drugname', 'condition', 'review', 'rating', 'date', 'usefulcount'],\n",
       "        num_rows: 161297\n",
       "    })\n",
       "    test: Dataset({\n",
       "        features: ['patient_id', 'drugname', 'condition', 'review', 'rating', 'date', 'usefulcount'],\n",
       "        num_rows: 53766\n",
       "    })\n",
       "})"
      ]
     },
     "execution_count": 11,
     "metadata": {},
     "output_type": "execute_result"
    }
   ],
   "source": [
    "drug_dataset"
   ]
  },
  {
   "cell_type": "code",
   "execution_count": 12,
   "id": "4b8d2d0a-6e32-440c-9c3e-4c5fb4e7eb1e",
   "metadata": {},
   "outputs": [
    {
     "data": {
      "text/plain": [
       "3436"
      ]
     },
     "execution_count": 12,
     "metadata": {},
     "output_type": "execute_result"
    }
   ],
   "source": [
    "len(drug_dataset[\"train\"].unique(\"drugname\"))"
   ]
  },
  {
   "cell_type": "markdown",
   "id": "c60fdc51",
   "metadata": {},
   "source": [
    "## Clean labels"
   ]
  },
  {
   "cell_type": "code",
   "execution_count": 13,
   "id": "51b7a7c8-47ad-46b5-94a8-9be27b00c14d",
   "metadata": {},
   "outputs": [],
   "source": [
    "def lowercase_condition(example, key):\n",
    "    return {key: [x.lower() for x in example[key]]}\n",
    "\n",
    "def filter_nones(example):\n",
    "    return [x is not None for x in example[\"condition\"]]\n",
    "\n",
    "drug_dataset = (\n",
    "    drug_dataset\n",
    "        .filter(filter_nones, batched=True, num_proc=num_cores_avail)\n",
    "        .map(lambda x: lowercase_condition(x, \"condition\"), batched=True, num_proc=num_cores_avail)\n",
    ")"
   ]
  },
  {
   "cell_type": "code",
   "execution_count": 14,
   "id": "7ffe0236-c1c8-4277-b127-f5a95de811f8",
   "metadata": {},
   "outputs": [
    {
     "data": {
      "text/plain": [
       "['left ventricular dysfunction', 'adhd', 'birth control']"
      ]
     },
     "execution_count": 14,
     "metadata": {},
     "output_type": "execute_result"
    }
   ],
   "source": [
    "drug_dataset[\"train\"][\"condition\"][:3]"
   ]
  },
  {
   "cell_type": "code",
   "execution_count": 15,
   "id": "41a32487",
   "metadata": {},
   "outputs": [
    {
     "data": {
      "text/plain": [
       "DatasetDict({\n",
       "    train: Dataset({\n",
       "        features: ['patient_id', 'drugname', 'condition', 'review', 'rating', 'date', 'usefulcount'],\n",
       "        num_rows: 160398\n",
       "    })\n",
       "    test: Dataset({\n",
       "        features: ['patient_id', 'drugname', 'condition', 'review', 'rating', 'date', 'usefulcount'],\n",
       "        num_rows: 53471\n",
       "    })\n",
       "})"
      ]
     },
     "execution_count": 15,
     "metadata": {},
     "output_type": "execute_result"
    }
   ],
   "source": [
    "drug_dataset"
   ]
  },
  {
   "cell_type": "markdown",
   "id": "409cea0c",
   "metadata": {},
   "source": [
    "## Clean data"
   ]
  },
  {
   "cell_type": "markdown",
   "id": "7d5a4c05",
   "metadata": {},
   "source": [
    "### Get rough estimate of review lengths"
   ]
  },
  {
   "cell_type": "code",
   "execution_count": 16,
   "id": "3ac9b9be",
   "metadata": {},
   "outputs": [],
   "source": [
    "drug_dataset = drug_dataset.map(\n",
    "    lambda x: {\"review_length_est\": [len(r.split(' ')) for r in x[\"review\"]]},\n",
    "    batched=True,\n",
    "    num_proc=num_cores_avail\n",
    ")"
   ]
  },
  {
   "cell_type": "code",
   "execution_count": 17,
   "id": "1fa653de",
   "metadata": {},
   "outputs": [
    {
     "data": {
      "text/plain": [
       "{'patient_id': 206461,\n",
       " 'drugname': 'Valsartan',\n",
       " 'condition': 'left ventricular dysfunction',\n",
       " 'review': '\"It has no side effect, I take it in combination of Bystolic 5 Mg and Fish Oil\"',\n",
       " 'rating': 9.0,\n",
       " 'date': 'May 20, 2012',\n",
       " 'usefulcount': 27,\n",
       " 'review_length_est': 17}"
      ]
     },
     "execution_count": 17,
     "metadata": {},
     "output_type": "execute_result"
    }
   ],
   "source": [
    "drug_dataset[\"train\"][0]"
   ]
  },
  {
   "cell_type": "code",
   "execution_count": 18,
   "id": "023da138",
   "metadata": {},
   "outputs": [
    {
     "data": {
      "text/plain": [
       "[1, 1, 1]"
      ]
     },
     "execution_count": 18,
     "metadata": {},
     "output_type": "execute_result"
    }
   ],
   "source": [
    "drug_dataset[\"train\"].sort(\"review_length_est\")[:3][\"review_length_est\"]"
   ]
  },
  {
   "cell_type": "code",
   "execution_count": 19,
   "id": "3ff32e97",
   "metadata": {},
   "outputs": [
    {
     "data": {
      "text/plain": [
       "[1857, 1222, 1107]"
      ]
     },
     "execution_count": 19,
     "metadata": {},
     "output_type": "execute_result"
    }
   ],
   "source": [
    "drug_dataset[\"train\"].sort(\"review_length_est\", reverse=True)[:3][\"review_length_est\"]"
   ]
  },
  {
   "cell_type": "code",
   "execution_count": 20,
   "id": "99c3987f",
   "metadata": {},
   "outputs": [],
   "source": [
    "drug_dataset = drug_dataset.filter(\n",
    "    lambda x: [rle > 30 for rle in x[\"review_length_est\"]],\n",
    "    batched=True,\n",
    "    num_proc=num_cores_avail\n",
    ")"
   ]
  },
  {
   "cell_type": "code",
   "execution_count": 21,
   "id": "0c53070c",
   "metadata": {},
   "outputs": [
    {
     "data": {
      "text/plain": [
       "DatasetDict({\n",
       "    train: Dataset({\n",
       "        features: ['patient_id', 'drugname', 'condition', 'review', 'rating', 'date', 'usefulcount', 'review_length_est'],\n",
       "        num_rows: 138903\n",
       "    })\n",
       "    test: Dataset({\n",
       "        features: ['patient_id', 'drugname', 'condition', 'review', 'rating', 'date', 'usefulcount', 'review_length_est'],\n",
       "        num_rows: 46246\n",
       "    })\n",
       "})"
      ]
     },
     "execution_count": 21,
     "metadata": {},
     "output_type": "execute_result"
    }
   ],
   "source": [
    "drug_dataset"
   ]
  },
  {
   "cell_type": "markdown",
   "id": "623241a5",
   "metadata": {},
   "source": [
    "### Fix HTML character codes"
   ]
  },
  {
   "cell_type": "code",
   "execution_count": 22,
   "id": "13c08597",
   "metadata": {},
   "outputs": [
    {
     "data": {
      "text/plain": [
       "\"I'm a transformer called BERT\""
      ]
     },
     "execution_count": 22,
     "metadata": {},
     "output_type": "execute_result"
    }
   ],
   "source": [
    "text = \"I&#039;m a transformer called BERT\"\n",
    "html.unescape(text)"
   ]
  },
  {
   "cell_type": "code",
   "execution_count": 23,
   "id": "d5ad4c09",
   "metadata": {},
   "outputs": [],
   "source": [
    "# drug_dataset = drug_dataset.map(lambda x: {\"review\": html.unescape(x[\"review\"])})\n",
    "drug_dataset = drug_dataset.map(\n",
    "    lambda x: {\"review\": [html.unescape(r) for r in x[\"review\"]]},\n",
    "    batched=True,\n",
    "    num_proc=num_cores_avail\n",
    ")"
   ]
  },
  {
   "cell_type": "code",
   "execution_count": 24,
   "id": "2abcf5fd",
   "metadata": {},
   "outputs": [
    {
     "data": {
      "text/plain": [
       "{'train': ['patient_id',\n",
       "  'drugname',\n",
       "  'condition',\n",
       "  'review',\n",
       "  'rating',\n",
       "  'date',\n",
       "  'usefulcount',\n",
       "  'review_length_est'],\n",
       " 'test': ['patient_id',\n",
       "  'drugname',\n",
       "  'condition',\n",
       "  'review',\n",
       "  'rating',\n",
       "  'date',\n",
       "  'usefulcount',\n",
       "  'review_length_est']}"
      ]
     },
     "execution_count": 24,
     "metadata": {},
     "output_type": "execute_result"
    }
   ],
   "source": [
    "drug_dataset.column_names"
   ]
  },
  {
   "cell_type": "markdown",
   "id": "ead99768",
   "metadata": {},
   "source": [
    "# Tokenize"
   ]
  },
  {
   "cell_type": "code",
   "execution_count": 25,
   "id": "b0187ca3",
   "metadata": {},
   "outputs": [],
   "source": [
    "checkpoint = \"bert-base-cased\""
   ]
  },
  {
   "cell_type": "code",
   "execution_count": 26,
   "id": "2b5f3284",
   "metadata": {},
   "outputs": [],
   "source": [
    "tokenizer = AutoTokenizer.from_pretrained(checkpoint)\n",
    "slow_tokenizer = AutoTokenizer.from_pretrained(checkpoint, use_fast=False)"
   ]
  },
  {
   "cell_type": "code",
   "execution_count": 27,
   "id": "3a0dba29",
   "metadata": {},
   "outputs": [],
   "source": [
    "def tokenize_function(tokenizer, examples):\n",
    "    return tokenizer(examples[\"review\"], truncation=True)"
   ]
  },
  {
   "cell_type": "markdown",
   "id": "e029e572",
   "metadata": {},
   "source": [
    "## Single-processing"
   ]
  },
  {
   "cell_type": "code",
   "execution_count": 28,
   "id": "b17b762a",
   "metadata": {},
   "outputs": [],
   "source": [
    "# tokenized_dataset = drug_dataset.map(lambda x: tokenize_function(tokenizer, x), batched=True)"
   ]
  },
  {
   "cell_type": "code",
   "execution_count": 29,
   "id": "830ad078",
   "metadata": {},
   "outputs": [],
   "source": [
    "# tokenized_dataset = drug_dataset.map(lambda x: tokenize_function(tokenizer, x), batched=False)"
   ]
  },
  {
   "cell_type": "markdown",
   "id": "40ddfedc",
   "metadata": {},
   "source": [
    "## Multi-processing"
   ]
  },
  {
   "cell_type": "code",
   "execution_count": 30,
   "id": "d3229be7",
   "metadata": {},
   "outputs": [],
   "source": [
    "tokenized_dataset = drug_dataset.map(lambda x: tokenize_function(tokenizer, x), batched=True, num_proc=num_cores_avail)"
   ]
  },
  {
   "cell_type": "code",
   "execution_count": 31,
   "id": "2ac2ac77",
   "metadata": {},
   "outputs": [],
   "source": [
    "# tokenized_dataset = drug_dataset.map(lambda x: tokenize_function(tokenizer, x), batched=False, num_proc=num_cores_avail)"
   ]
  },
  {
   "cell_type": "markdown",
   "id": "fb3f7c66",
   "metadata": {},
   "source": [
    "# Try using slow tokenizer\n",
    "Don't bother doing it single-threaded, since it would take forever"
   ]
  },
  {
   "cell_type": "code",
   "execution_count": 32,
   "id": "8e6c2b27",
   "metadata": {},
   "outputs": [],
   "source": [
    "# tokenized_dataset = drug_dataset.map(lambda x: tokenize_function(slow_tokenizer, x), batched=True, num_proc=num_cores_avail)"
   ]
  },
  {
   "cell_type": "markdown",
   "id": "0bb1f7ff",
   "metadata": {},
   "source": [
    "# Use Tokenizer"
   ]
  },
  {
   "cell_type": "code",
   "execution_count": 33,
   "id": "374f6485",
   "metadata": {},
   "outputs": [],
   "source": [
    "def tokenize_and_split(examples):\n",
    "    return tokenizer(\n",
    "        examples[\"review\"],\n",
    "        truncation=True,\n",
    "        max_length=128,\n",
    "        return_overflowing_tokens=True\n",
    "    )"
   ]
  },
  {
   "cell_type": "markdown",
   "id": "a2367200",
   "metadata": {},
   "source": [
    "Multiple \"features\" for this example since there's overflow (sequences longer than max length)"
   ]
  },
  {
   "cell_type": "code",
   "execution_count": 34,
   "id": "24a88fda",
   "metadata": {},
   "outputs": [
    {
     "data": {
      "text/plain": [
       "[128, 49]"
      ]
     },
     "execution_count": 34,
     "metadata": {},
     "output_type": "execute_result"
    }
   ],
   "source": [
    "res = tokenize_and_split(drug_dataset[\"train\"][0])\n",
    "[len(inp) for inp in res.input_ids]"
   ]
  },
  {
   "cell_type": "markdown",
   "id": "4a58cb25",
   "metadata": {},
   "source": [
    "## Handle mismatched length through removal"
   ]
  },
  {
   "cell_type": "code",
   "execution_count": 35,
   "id": "5daac165",
   "metadata": {},
   "outputs": [],
   "source": [
    "tokenized_dataset = drug_dataset.map(\n",
    "    tokenize_and_split,\n",
    "    batched=True,\n",
    "    num_proc=num_cores_avail,\n",
    "    remove_columns=drug_dataset[\"train\"].column_names\n",
    ")"
   ]
  },
  {
   "cell_type": "code",
   "execution_count": 36,
   "id": "984cb50a",
   "metadata": {},
   "outputs": [
    {
     "data": {
      "text/plain": [
       "DatasetDict({\n",
       "    train: Dataset({\n",
       "        features: ['input_ids', 'token_type_ids', 'attention_mask', 'overflow_to_sample_mapping'],\n",
       "        num_rows: 207161\n",
       "    })\n",
       "    test: Dataset({\n",
       "        features: ['input_ids', 'token_type_ids', 'attention_mask', 'overflow_to_sample_mapping'],\n",
       "        num_rows: 69014\n",
       "    })\n",
       "})"
      ]
     },
     "execution_count": 36,
     "metadata": {},
     "output_type": "execute_result"
    }
   ],
   "source": [
    "tokenized_dataset"
   ]
  },
  {
   "cell_type": "markdown",
   "id": "d561b1ec",
   "metadata": {},
   "source": [
    "Compare dataset lengths -- the dataset that allows for overflow should be longer (examples split up into multiple examples)"
   ]
  },
  {
   "cell_type": "code",
   "execution_count": 37,
   "id": "b68c8c69",
   "metadata": {},
   "outputs": [
    {
     "data": {
      "text/plain": [
       "(207161, 138903)"
      ]
     },
     "execution_count": 37,
     "metadata": {},
     "output_type": "execute_result"
    }
   ],
   "source": [
    "len(tokenized_dataset[\"train\"]), len(drug_dataset[\"train\"])"
   ]
  },
  {
   "cell_type": "markdown",
   "id": "06504b8b",
   "metadata": {},
   "source": [
    "## Handle mismatched length through repetition"
   ]
  },
  {
   "cell_type": "code",
   "execution_count": 38,
   "id": "7a747073",
   "metadata": {},
   "outputs": [],
   "source": [
    "def tokenize_and_split_rep(examples):\n",
    "    res = tokenizer(\n",
    "        examples[\"review\"],\n",
    "        truncation=True,\n",
    "        max_length=128,\n",
    "        return_overflowing_tokens=True\n",
    "    )\n",
    "    # Extract mapping between new and old indices\n",
    "    sample_map = res.pop(\"overflow_to_sample_mapping\")\n",
    "    # Duplicate entries for individuals\n",
    "    for key, values in examples.items():\n",
    "        res[key] = [values[i] for i in sample_map]\n",
    "    return res"
   ]
  },
  {
   "cell_type": "code",
   "execution_count": 39,
   "id": "627e46ad",
   "metadata": {},
   "outputs": [],
   "source": [
    "tokenized_dataset = drug_dataset.map(\n",
    "    tokenize_and_split_rep,\n",
    "    batched=True,\n",
    "    num_proc=num_cores_avail\n",
    ")"
   ]
  },
  {
   "cell_type": "code",
   "execution_count": 40,
   "id": "ec4ba005",
   "metadata": {},
   "outputs": [
    {
     "data": {
      "text/plain": [
       "DatasetDict({\n",
       "    train: Dataset({\n",
       "        features: ['patient_id', 'drugname', 'condition', 'review', 'rating', 'date', 'usefulcount', 'review_length_est', 'input_ids', 'token_type_ids', 'attention_mask'],\n",
       "        num_rows: 207161\n",
       "    })\n",
       "    test: Dataset({\n",
       "        features: ['patient_id', 'drugname', 'condition', 'review', 'rating', 'date', 'usefulcount', 'review_length_est', 'input_ids', 'token_type_ids', 'attention_mask'],\n",
       "        num_rows: 69014\n",
       "    })\n",
       "})"
      ]
     },
     "execution_count": 40,
     "metadata": {},
     "output_type": "execute_result"
    }
   ],
   "source": [
    "tokenized_dataset"
   ]
  },
  {
   "cell_type": "code",
   "execution_count": 41,
   "id": "0970ff3b",
   "metadata": {},
   "outputs": [
    {
     "name": "stdout",
     "output_type": "stream",
     "text": [
      "95260\n",
      "95260\n"
     ]
    }
   ],
   "source": [
    "print(tokenized_dataset[\"train\"][0][\"patient_id\"])\n",
    "print(tokenized_dataset[\"train\"][1][\"patient_id\"])"
   ]
  },
  {
   "cell_type": "code",
   "execution_count": 42,
   "id": "15c5a51f",
   "metadata": {},
   "outputs": [
    {
     "name": "stdout",
     "output_type": "stream",
     "text": [
      "128\n",
      "49\n"
     ]
    }
   ],
   "source": [
    "print(len(tokenized_dataset[\"train\"][0][\"input_ids\"]))\n",
    "print(len(tokenized_dataset[\"train\"][1][\"input_ids\"]))"
   ]
  },
  {
   "cell_type": "markdown",
   "id": "16fd8486",
   "metadata": {},
   "source": [
    "# Data conversions"
   ]
  },
  {
   "cell_type": "code",
   "execution_count": 43,
   "id": "48fff61c",
   "metadata": {},
   "outputs": [],
   "source": [
    "drug_dataset.set_format(\"pandas\")"
   ]
  },
  {
   "cell_type": "code",
   "execution_count": 44,
   "id": "0f5a28db",
   "metadata": {},
   "outputs": [
    {
     "data": {
      "text/html": [
       "<div>\n",
       "<style scoped>\n",
       "    .dataframe tbody tr th:only-of-type {\n",
       "        vertical-align: middle;\n",
       "    }\n",
       "\n",
       "    .dataframe tbody tr th {\n",
       "        vertical-align: top;\n",
       "    }\n",
       "\n",
       "    .dataframe thead th {\n",
       "        text-align: right;\n",
       "    }\n",
       "</style>\n",
       "<table border=\"1\" class=\"dataframe\">\n",
       "  <thead>\n",
       "    <tr style=\"text-align: right;\">\n",
       "      <th></th>\n",
       "      <th>patient_id</th>\n",
       "      <th>drugname</th>\n",
       "      <th>condition</th>\n",
       "      <th>review</th>\n",
       "      <th>rating</th>\n",
       "      <th>date</th>\n",
       "      <th>usefulcount</th>\n",
       "      <th>review_length_est</th>\n",
       "    </tr>\n",
       "  </thead>\n",
       "  <tbody>\n",
       "    <tr>\n",
       "      <th>0</th>\n",
       "      <td>95260</td>\n",
       "      <td>Guanfacine</td>\n",
       "      <td>adhd</td>\n",
       "      <td>\"My son is halfway through his fourth week of ...</td>\n",
       "      <td>8.0</td>\n",
       "      <td>April 27, 2010</td>\n",
       "      <td>192</td>\n",
       "      <td>141</td>\n",
       "    </tr>\n",
       "    <tr>\n",
       "      <th>1</th>\n",
       "      <td>92703</td>\n",
       "      <td>Lybrel</td>\n",
       "      <td>birth control</td>\n",
       "      <td>\"I used to take another oral contraceptive, wh...</td>\n",
       "      <td>5.0</td>\n",
       "      <td>December 14, 2009</td>\n",
       "      <td>17</td>\n",
       "      <td>133</td>\n",
       "    </tr>\n",
       "    <tr>\n",
       "      <th>2</th>\n",
       "      <td>138000</td>\n",
       "      <td>Ortho Evra</td>\n",
       "      <td>birth control</td>\n",
       "      <td>\"This is my first time using any form of birth...</td>\n",
       "      <td>8.0</td>\n",
       "      <td>November 3, 2015</td>\n",
       "      <td>10</td>\n",
       "      <td>89</td>\n",
       "    </tr>\n",
       "  </tbody>\n",
       "</table>\n",
       "</div>"
      ],
      "text/plain": [
       "   patient_id    drugname      condition  \\\n",
       "0       95260  Guanfacine           adhd   \n",
       "1       92703      Lybrel  birth control   \n",
       "2      138000  Ortho Evra  birth control   \n",
       "\n",
       "                                              review  rating  \\\n",
       "0  \"My son is halfway through his fourth week of ...     8.0   \n",
       "1  \"I used to take another oral contraceptive, wh...     5.0   \n",
       "2  \"This is my first time using any form of birth...     8.0   \n",
       "\n",
       "                date  usefulcount  review_length_est  \n",
       "0     April 27, 2010          192                141  \n",
       "1  December 14, 2009           17                133  \n",
       "2   November 3, 2015           10                 89  "
      ]
     },
     "execution_count": 44,
     "metadata": {},
     "output_type": "execute_result"
    }
   ],
   "source": [
    "drug_dataset[\"train\"][:3]"
   ]
  },
  {
   "cell_type": "code",
   "execution_count": 45,
   "id": "7afe430e",
   "metadata": {},
   "outputs": [],
   "source": [
    "train_df = drug_dataset[\"train\"][:]"
   ]
  },
  {
   "cell_type": "code",
   "execution_count": 46,
   "id": "125b93e1",
   "metadata": {},
   "outputs": [
    {
     "data": {
      "text/html": [
       "<div>\n",
       "<style scoped>\n",
       "    .dataframe tbody tr th:only-of-type {\n",
       "        vertical-align: middle;\n",
       "    }\n",
       "\n",
       "    .dataframe tbody tr th {\n",
       "        vertical-align: top;\n",
       "    }\n",
       "\n",
       "    .dataframe thead th {\n",
       "        text-align: right;\n",
       "    }\n",
       "</style>\n",
       "<table border=\"1\" class=\"dataframe\">\n",
       "  <thead>\n",
       "    <tr style=\"text-align: right;\">\n",
       "      <th></th>\n",
       "      <th>patient_id</th>\n",
       "      <th>drugname</th>\n",
       "      <th>condition</th>\n",
       "      <th>review</th>\n",
       "      <th>rating</th>\n",
       "      <th>date</th>\n",
       "      <th>usefulcount</th>\n",
       "      <th>review_length_est</th>\n",
       "    </tr>\n",
       "  </thead>\n",
       "  <tbody>\n",
       "    <tr>\n",
       "      <th>0</th>\n",
       "      <td>95260</td>\n",
       "      <td>Guanfacine</td>\n",
       "      <td>adhd</td>\n",
       "      <td>\"My son is halfway through his fourth week of ...</td>\n",
       "      <td>8.0</td>\n",
       "      <td>April 27, 2010</td>\n",
       "      <td>192</td>\n",
       "      <td>141</td>\n",
       "    </tr>\n",
       "    <tr>\n",
       "      <th>1</th>\n",
       "      <td>92703</td>\n",
       "      <td>Lybrel</td>\n",
       "      <td>birth control</td>\n",
       "      <td>\"I used to take another oral contraceptive, wh...</td>\n",
       "      <td>5.0</td>\n",
       "      <td>December 14, 2009</td>\n",
       "      <td>17</td>\n",
       "      <td>133</td>\n",
       "    </tr>\n",
       "    <tr>\n",
       "      <th>2</th>\n",
       "      <td>138000</td>\n",
       "      <td>Ortho Evra</td>\n",
       "      <td>birth control</td>\n",
       "      <td>\"This is my first time using any form of birth...</td>\n",
       "      <td>8.0</td>\n",
       "      <td>November 3, 2015</td>\n",
       "      <td>10</td>\n",
       "      <td>89</td>\n",
       "    </tr>\n",
       "    <tr>\n",
       "      <th>3</th>\n",
       "      <td>35696</td>\n",
       "      <td>Buprenorphine / naloxone</td>\n",
       "      <td>opiate dependence</td>\n",
       "      <td>\"Suboxone has completely turned my life around...</td>\n",
       "      <td>9.0</td>\n",
       "      <td>November 27, 2016</td>\n",
       "      <td>37</td>\n",
       "      <td>134</td>\n",
       "    </tr>\n",
       "    <tr>\n",
       "      <th>4</th>\n",
       "      <td>155963</td>\n",
       "      <td>Cialis</td>\n",
       "      <td>benign prostatic hyperplasia</td>\n",
       "      <td>\"2nd day on 5mg started to work with rock hard...</td>\n",
       "      <td>2.0</td>\n",
       "      <td>November 28, 2015</td>\n",
       "      <td>43</td>\n",
       "      <td>70</td>\n",
       "    </tr>\n",
       "  </tbody>\n",
       "</table>\n",
       "</div>"
      ],
      "text/plain": [
       "   patient_id                  drugname                     condition  \\\n",
       "0       95260                Guanfacine                          adhd   \n",
       "1       92703                    Lybrel                 birth control   \n",
       "2      138000                Ortho Evra                 birth control   \n",
       "3       35696  Buprenorphine / naloxone             opiate dependence   \n",
       "4      155963                    Cialis  benign prostatic hyperplasia   \n",
       "\n",
       "                                              review  rating  \\\n",
       "0  \"My son is halfway through his fourth week of ...     8.0   \n",
       "1  \"I used to take another oral contraceptive, wh...     5.0   \n",
       "2  \"This is my first time using any form of birth...     8.0   \n",
       "3  \"Suboxone has completely turned my life around...     9.0   \n",
       "4  \"2nd day on 5mg started to work with rock hard...     2.0   \n",
       "\n",
       "                date  usefulcount  review_length_est  \n",
       "0     April 27, 2010          192                141  \n",
       "1  December 14, 2009           17                133  \n",
       "2   November 3, 2015           10                 89  \n",
       "3  November 27, 2016           37                134  \n",
       "4  November 28, 2015           43                 70  "
      ]
     },
     "execution_count": 46,
     "metadata": {},
     "output_type": "execute_result"
    }
   ],
   "source": [
    "train_df.head()"
   ]
  },
  {
   "cell_type": "code",
   "execution_count": 47,
   "id": "78ac7b3e",
   "metadata": {},
   "outputs": [
    {
     "data": {
      "text/html": [
       "<div>\n",
       "<style scoped>\n",
       "    .dataframe tbody tr th:only-of-type {\n",
       "        vertical-align: middle;\n",
       "    }\n",
       "\n",
       "    .dataframe tbody tr th {\n",
       "        vertical-align: top;\n",
       "    }\n",
       "\n",
       "    .dataframe thead th {\n",
       "        text-align: right;\n",
       "    }\n",
       "</style>\n",
       "<table border=\"1\" class=\"dataframe\">\n",
       "  <thead>\n",
       "    <tr style=\"text-align: right;\">\n",
       "      <th></th>\n",
       "      <th>condition</th>\n",
       "      <th>count</th>\n",
       "    </tr>\n",
       "  </thead>\n",
       "  <tbody>\n",
       "    <tr>\n",
       "      <th>0</th>\n",
       "      <td>birth control</td>\n",
       "      <td>27671</td>\n",
       "    </tr>\n",
       "    <tr>\n",
       "      <th>1</th>\n",
       "      <td>depression</td>\n",
       "      <td>8043</td>\n",
       "    </tr>\n",
       "    <tr>\n",
       "      <th>2</th>\n",
       "      <td>acne</td>\n",
       "      <td>5212</td>\n",
       "    </tr>\n",
       "    <tr>\n",
       "      <th>3</th>\n",
       "      <td>anxiety</td>\n",
       "      <td>5001</td>\n",
       "    </tr>\n",
       "    <tr>\n",
       "      <th>4</th>\n",
       "      <td>pain</td>\n",
       "      <td>4756</td>\n",
       "    </tr>\n",
       "  </tbody>\n",
       "</table>\n",
       "</div>"
      ],
      "text/plain": [
       "       condition  count\n",
       "0  birth control  27671\n",
       "1     depression   8043\n",
       "2           acne   5212\n",
       "3        anxiety   5001\n",
       "4           pain   4756"
      ]
     },
     "execution_count": 47,
     "metadata": {},
     "output_type": "execute_result"
    }
   ],
   "source": [
    "frequencies_df = (\n",
    "    train_df[\"condition\"]\n",
    "        .value_counts()\n",
    "        .to_frame()\n",
    "        .reset_index()\n",
    ")\n",
    "frequencies_df.head()"
   ]
  },
  {
   "cell_type": "code",
   "execution_count": 48,
   "id": "f0c0588f",
   "metadata": {},
   "outputs": [
    {
     "data": {
      "text/plain": [
       "Dataset({\n",
       "    features: ['condition', 'count'],\n",
       "    num_rows: 819\n",
       "})"
      ]
     },
     "execution_count": 48,
     "metadata": {},
     "output_type": "execute_result"
    }
   ],
   "source": [
    "freq_dataset = Dataset.from_pandas(frequencies_df)\n",
    "freq_dataset"
   ]
  },
  {
   "cell_type": "code",
   "execution_count": 49,
   "id": "c2b4a73a",
   "metadata": {},
   "outputs": [],
   "source": [
    "avg_ratings_df = (\n",
    "    train_df[\"condition\"]\n",
    ")"
   ]
  },
  {
   "cell_type": "code",
   "execution_count": 65,
   "id": "cdf48a23",
   "metadata": {},
   "outputs": [
    {
     "data": {
      "text/html": [
       "<div>\n",
       "<style scoped>\n",
       "    .dataframe tbody tr th:only-of-type {\n",
       "        vertical-align: middle;\n",
       "    }\n",
       "\n",
       "    .dataframe tbody tr th {\n",
       "        vertical-align: top;\n",
       "    }\n",
       "\n",
       "    .dataframe thead th {\n",
       "        text-align: right;\n",
       "    }\n",
       "</style>\n",
       "<table border=\"1\" class=\"dataframe\">\n",
       "  <thead>\n",
       "    <tr style=\"text-align: right;\">\n",
       "      <th></th>\n",
       "      <th>drugname</th>\n",
       "      <th>rating</th>\n",
       "    </tr>\n",
       "  </thead>\n",
       "  <tbody>\n",
       "    <tr>\n",
       "      <th>0</th>\n",
       "      <td>A + D Cracked Skin Relief</td>\n",
       "      <td>10.0</td>\n",
       "    </tr>\n",
       "    <tr>\n",
       "      <th>516</th>\n",
       "      <td>Carbinoxamine</td>\n",
       "      <td>10.0</td>\n",
       "    </tr>\n",
       "    <tr>\n",
       "      <th>2430</th>\n",
       "      <td>Ruconest</td>\n",
       "      <td>10.0</td>\n",
       "    </tr>\n",
       "    <tr>\n",
       "      <th>1615</th>\n",
       "      <td>Lonox</td>\n",
       "      <td>10.0</td>\n",
       "    </tr>\n",
       "    <tr>\n",
       "      <th>2431</th>\n",
       "      <td>Rufinamide</td>\n",
       "      <td>10.0</td>\n",
       "    </tr>\n",
       "    <tr>\n",
       "      <th>...</th>\n",
       "      <td>...</td>\n",
       "      <td>...</td>\n",
       "    </tr>\n",
       "    <tr>\n",
       "      <th>2961</th>\n",
       "      <td>Xiaflex</td>\n",
       "      <td>1.0</td>\n",
       "    </tr>\n",
       "    <tr>\n",
       "      <th>2960</th>\n",
       "      <td>Xgeva</td>\n",
       "      <td>1.0</td>\n",
       "    </tr>\n",
       "    <tr>\n",
       "      <th>269</th>\n",
       "      <td>Atovaquone</td>\n",
       "      <td>1.0</td>\n",
       "    </tr>\n",
       "    <tr>\n",
       "      <th>1161</th>\n",
       "      <td>FluMist Quadrivalent</td>\n",
       "      <td>1.0</td>\n",
       "    </tr>\n",
       "    <tr>\n",
       "      <th>1495</th>\n",
       "      <td>Kybella</td>\n",
       "      <td>1.0</td>\n",
       "    </tr>\n",
       "  </tbody>\n",
       "</table>\n",
       "<p>3063 rows × 2 columns</p>\n",
       "</div>"
      ],
      "text/plain": [
       "                       drugname  rating\n",
       "0     A + D Cracked Skin Relief    10.0\n",
       "516               Carbinoxamine    10.0\n",
       "2430                   Ruconest    10.0\n",
       "1615                      Lonox    10.0\n",
       "2431                 Rufinamide    10.0\n",
       "...                         ...     ...\n",
       "2961                    Xiaflex     1.0\n",
       "2960                      Xgeva     1.0\n",
       "269                  Atovaquone     1.0\n",
       "1161       FluMist Quadrivalent     1.0\n",
       "1495                    Kybella     1.0\n",
       "\n",
       "[3063 rows x 2 columns]"
      ]
     },
     "execution_count": 65,
     "metadata": {},
     "output_type": "execute_result"
    }
   ],
   "source": [
    "train_df.groupby(\"drugname\", as_index=False).agg({\"rating\": \"mean\"}).sort_values(\"rating\", ascending=False)\n",
    "# train_df.groupby(\"drugname\")[\"drugname\"]"
   ]
  },
  {
   "cell_type": "code",
   "execution_count": 66,
   "id": "45aff71e",
   "metadata": {},
   "outputs": [],
   "source": [
    "drug_dataset.reset_format()"
   ]
  },
  {
   "cell_type": "markdown",
   "id": "9e20d4be-1662-41e1-98b2-297f6b0ab34e",
   "metadata": {},
   "source": [
    "# Make a validation dataset"
   ]
  },
  {
   "cell_type": "code",
   "execution_count": 73,
   "id": "096085bb-c841-4513-8b7f-a9181dd0a602",
   "metadata": {},
   "outputs": [],
   "source": [
    "drug_dataset_clean = drug_dataset[\"train\"].train_test_split(train_size=0.8, seed=42)\n",
    "drug_dataset_clean[\"validation\"] = drug_dataset_clean.pop(\"test\")\n",
    "drug_dataset_clean[\"test\"] = drug_dataset[\"test\"]"
   ]
  },
  {
   "cell_type": "code",
   "execution_count": 74,
   "id": "1af2811a-44cf-4472-bdb1-2fb39c5cd270",
   "metadata": {},
   "outputs": [
    {
     "data": {
      "text/plain": [
       "DatasetDict({\n",
       "    train: Dataset({\n",
       "        features: ['patient_id', 'drugname', 'condition', 'review', 'rating', 'date', 'usefulcount', 'review_length_est'],\n",
       "        num_rows: 111122\n",
       "    })\n",
       "    validation: Dataset({\n",
       "        features: ['patient_id', 'drugname', 'condition', 'review', 'rating', 'date', 'usefulcount', 'review_length_est'],\n",
       "        num_rows: 27781\n",
       "    })\n",
       "    test: Dataset({\n",
       "        features: ['patient_id', 'drugname', 'condition', 'review', 'rating', 'date', 'usefulcount', 'review_length_est'],\n",
       "        num_rows: 46246\n",
       "    })\n",
       "})"
      ]
     },
     "execution_count": 74,
     "metadata": {},
     "output_type": "execute_result"
    }
   ],
   "source": [
    "drug_dataset_clean"
   ]
  },
  {
   "cell_type": "markdown",
   "id": "24217b6d-3c01-4069-bd3e-986bbcc21688",
   "metadata": {},
   "source": [
    "# Arrow data format"
   ]
  },
  {
   "cell_type": "markdown",
   "id": "4758a9b1-168f-4dfc-9d9d-c843c3855ffa",
   "metadata": {},
   "source": [
    "## Save"
   ]
  },
  {
   "cell_type": "code",
   "execution_count": 75,
   "id": "38563949-b32c-4d46-9d13-7a1ea68123c7",
   "metadata": {},
   "outputs": [
    {
     "data": {
      "application/vnd.jupyter.widget-view+json": {
       "model_id": "1389a1064f82413eaa79aef7fee5ec17",
       "version_major": 2,
       "version_minor": 0
      },
      "text/plain": [
       "Saving the dataset (0/1 shards):   0%|          | 0/111122 [00:00<?, ? examples/s]"
      ]
     },
     "metadata": {},
     "output_type": "display_data"
    },
    {
     "data": {
      "application/vnd.jupyter.widget-view+json": {
       "model_id": "71a14ccbaa6643e8b32e2a8c43a1e200",
       "version_major": 2,
       "version_minor": 0
      },
      "text/plain": [
       "Saving the dataset (0/1 shards):   0%|          | 0/27781 [00:00<?, ? examples/s]"
      ]
     },
     "metadata": {},
     "output_type": "display_data"
    },
    {
     "data": {
      "application/vnd.jupyter.widget-view+json": {
       "model_id": "f9c82abdd68b47b6aba6c166716499ad",
       "version_major": 2,
       "version_minor": 0
      },
      "text/plain": [
       "Saving the dataset (0/1 shards):   0%|          | 0/46246 [00:00<?, ? examples/s]"
      ]
     },
     "metadata": {},
     "output_type": "display_data"
    }
   ],
   "source": [
    "drug_dataset_clean.save_to_disk(\"../data/drugs-com/drug-reviews-cleaned-split\")"
   ]
  },
  {
   "cell_type": "markdown",
   "id": "462f8aa7-ff2c-4fc4-bdd8-bcc9cd34cc84",
   "metadata": {},
   "source": [
    "## Load"
   ]
  },
  {
   "cell_type": "code",
   "execution_count": 79,
   "id": "aaaa04f7-5605-41cc-8cd9-c1ffe571122c",
   "metadata": {},
   "outputs": [],
   "source": [
    "drug_dataset_clean_loaded = load_from_disk(\"../data/drugs-com/drug-reviews-cleaned-split\")"
   ]
  },
  {
   "cell_type": "code",
   "execution_count": 80,
   "id": "5b29c11a-cae2-4448-aa57-250f21817e74",
   "metadata": {},
   "outputs": [
    {
     "data": {
      "text/plain": [
       "DatasetDict({\n",
       "    train: Dataset({\n",
       "        features: ['patient_id', 'drugname', 'condition', 'review', 'rating', 'date', 'usefulcount', 'review_length_est'],\n",
       "        num_rows: 111122\n",
       "    })\n",
       "    validation: Dataset({\n",
       "        features: ['patient_id', 'drugname', 'condition', 'review', 'rating', 'date', 'usefulcount', 'review_length_est'],\n",
       "        num_rows: 27781\n",
       "    })\n",
       "    test: Dataset({\n",
       "        features: ['patient_id', 'drugname', 'condition', 'review', 'rating', 'date', 'usefulcount', 'review_length_est'],\n",
       "        num_rows: 46246\n",
       "    })\n",
       "})"
      ]
     },
     "execution_count": 80,
     "metadata": {},
     "output_type": "execute_result"
    }
   ],
   "source": [
    "drug_dataset_clean_loaded"
   ]
  },
  {
   "cell_type": "markdown",
   "id": "86b5b5d1-329a-46a3-8ac0-809aa1d862fe",
   "metadata": {},
   "source": [
    "# CSV/JSON data format"
   ]
  },
  {
   "cell_type": "markdown",
   "id": "b63f8628-542c-4a3f-b03c-bcc353a139c7",
   "metadata": {},
   "source": [
    "## Save"
   ]
  },
  {
   "cell_type": "code",
   "execution_count": 88,
   "id": "7e098b21-5f40-4185-b441-d9814803aa13",
   "metadata": {},
   "outputs": [],
   "source": [
    "json_data_files = {split: f\"../data/drugs-com/drug-reviews-cleaned-split-json/drug-reviews-{split}.jsonl\" for split in drug_dataset_clean.keys()}"
   ]
  },
  {
   "cell_type": "code",
   "execution_count": 89,
   "id": "26c4ffe0-fc9a-4ef8-9366-f33d0f815a40",
   "metadata": {},
   "outputs": [
    {
     "data": {
      "text/plain": [
       "{'train': '../data/drugs-com/drug-reviews-cleaned-split-json/drug-reviews-train.jsonl',\n",
       " 'validation': '../data/drugs-com/drug-reviews-cleaned-split-json/drug-reviews-validation.jsonl',\n",
       " 'test': '../data/drugs-com/drug-reviews-cleaned-split-json/drug-reviews-test.jsonl'}"
      ]
     },
     "execution_count": 89,
     "metadata": {},
     "output_type": "execute_result"
    }
   ],
   "source": [
    "json_data_files"
   ]
  },
  {
   "cell_type": "code",
   "execution_count": 90,
   "id": "d578714d-cc67-48fb-8c15-3adba8c8bcce",
   "metadata": {},
   "outputs": [
    {
     "data": {
      "application/vnd.jupyter.widget-view+json": {
       "model_id": "c452770349734020b5f34d1f8c2f1d47",
       "version_major": 2,
       "version_minor": 0
      },
      "text/plain": [
       "Creating json from Arrow format:   0%|          | 0/112 [00:00<?, ?ba/s]"
      ]
     },
     "metadata": {},
     "output_type": "display_data"
    },
    {
     "data": {
      "application/vnd.jupyter.widget-view+json": {
       "model_id": "6e2e6cddb6f84d25a14ded2f364008db",
       "version_major": 2,
       "version_minor": 0
      },
      "text/plain": [
       "Creating json from Arrow format:   0%|          | 0/28 [00:00<?, ?ba/s]"
      ]
     },
     "metadata": {},
     "output_type": "display_data"
    },
    {
     "data": {
      "application/vnd.jupyter.widget-view+json": {
       "model_id": "c63f7b3c82bf4d1682eab01ec65b0fef",
       "version_major": 2,
       "version_minor": 0
      },
      "text/plain": [
       "Creating json from Arrow format:   0%|          | 0/47 [00:00<?, ?ba/s]"
      ]
     },
     "metadata": {},
     "output_type": "display_data"
    }
   ],
   "source": [
    "for split, dataset in drug_dataset_clean.items():\n",
    "    # Store each row in the dataset as a single line of JSON\n",
    "    dataset.to_json(json_data_files[split])"
   ]
  },
  {
   "cell_type": "code",
   "execution_count": 91,
   "id": "db3b283f-95cc-4ba3-a373-bf5a392123a1",
   "metadata": {},
   "outputs": [
    {
     "name": "stdout",
     "output_type": "stream",
     "text": [
      "{\"patient_id\":99950,\"drugname\":\"Magnesium sulfate \\/ potassium sulfate \\/ sodium sulfate\",\"condition\":\"bowel preparation\",\"review\":\"\\\"I had no problems with Suprep. I took the first dose and it worked about 1.5 hours later. The taste was not bad at all. No nausea, no cramps, just a little bit of dizziness and it made my eyes red. I was completely cleared out for my procedure.\\\"\",\"rating\":8.0,\"date\":\"December 22, 2015\",\"usefulcount\":17,\"review_length_est\":49}\n"
     ]
    }
   ],
   "source": [
    "!head -n 1 \"../data/drugs-com/drug-reviews-cleaned-split-json/drug-reviews-train.jsonl\""
   ]
  },
  {
   "cell_type": "markdown",
   "id": "33975c12-424e-429b-9882-f3c460f77a0e",
   "metadata": {},
   "source": [
    "## Load"
   ]
  },
  {
   "cell_type": "code",
   "execution_count": 93,
   "id": "2a6b51f8-c2c3-4701-92b3-6f8d49f14a8f",
   "metadata": {},
   "outputs": [
    {
     "data": {
      "application/vnd.jupyter.widget-view+json": {
       "model_id": "8e48a06a989a4cb0bde6e4612107d420",
       "version_major": 2,
       "version_minor": 0
      },
      "text/plain": [
       "Downloading data files:   0%|          | 0/3 [00:00<?, ?it/s]"
      ]
     },
     "metadata": {},
     "output_type": "display_data"
    },
    {
     "data": {
      "application/vnd.jupyter.widget-view+json": {
       "model_id": "1f637beb06bf4a42bdbb3bcfa47da787",
       "version_major": 2,
       "version_minor": 0
      },
      "text/plain": [
       "Extracting data files:   0%|          | 0/3 [00:00<?, ?it/s]"
      ]
     },
     "metadata": {},
     "output_type": "display_data"
    },
    {
     "data": {
      "application/vnd.jupyter.widget-view+json": {
       "model_id": "da8dd89cabaf4bf49921fa878f72f99f",
       "version_major": 2,
       "version_minor": 0
      },
      "text/plain": [
       "Generating train split: 0 examples [00:00, ? examples/s]"
      ]
     },
     "metadata": {},
     "output_type": "display_data"
    },
    {
     "data": {
      "application/vnd.jupyter.widget-view+json": {
       "model_id": "cf55aec193494d448d1bb2bc1aa87a5c",
       "version_major": 2,
       "version_minor": 0
      },
      "text/plain": [
       "Generating validation split: 0 examples [00:00, ? examples/s]"
      ]
     },
     "metadata": {},
     "output_type": "display_data"
    },
    {
     "data": {
      "application/vnd.jupyter.widget-view+json": {
       "model_id": "85dddd10d3b549ccb2628dc45327ea45",
       "version_major": 2,
       "version_minor": 0
      },
      "text/plain": [
       "Generating test split: 0 examples [00:00, ? examples/s]"
      ]
     },
     "metadata": {},
     "output_type": "display_data"
    }
   ],
   "source": [
    "drug_dataset_clean_loaded = load_dataset(\"json\", data_files=json_data_files)"
   ]
  },
  {
   "cell_type": "code",
   "execution_count": 94,
   "id": "9f42e4af-2be9-45b4-9fa3-f17690260e71",
   "metadata": {},
   "outputs": [
    {
     "data": {
      "text/plain": [
       "DatasetDict({\n",
       "    train: Dataset({\n",
       "        features: ['patient_id', 'drugname', 'condition', 'review', 'rating', 'date', 'usefulcount', 'review_length_est'],\n",
       "        num_rows: 111122\n",
       "    })\n",
       "    validation: Dataset({\n",
       "        features: ['patient_id', 'drugname', 'condition', 'review', 'rating', 'date', 'usefulcount', 'review_length_est'],\n",
       "        num_rows: 27781\n",
       "    })\n",
       "    test: Dataset({\n",
       "        features: ['patient_id', 'drugname', 'condition', 'review', 'rating', 'date', 'usefulcount', 'review_length_est'],\n",
       "        num_rows: 46246\n",
       "    })\n",
       "})"
      ]
     },
     "execution_count": 94,
     "metadata": {},
     "output_type": "execute_result"
    }
   ],
   "source": [
    "drug_dataset_clean_loaded"
   ]
  }
 ],
 "metadata": {
  "kernelspec": {
   "display_name": "Python 3 (ipykernel)",
   "language": "python",
   "name": "python3"
  },
  "language_info": {
   "codemirror_mode": {
    "name": "ipython",
    "version": 3
   },
   "file_extension": ".py",
   "mimetype": "text/x-python",
   "name": "python",
   "nbconvert_exporter": "python",
   "pygments_lexer": "ipython3",
   "version": "3.10.12"
  }
 },
 "nbformat": 4,
 "nbformat_minor": 5
}
