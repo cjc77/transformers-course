{
 "cells": [
  {
   "cell_type": "code",
   "execution_count": 15,
   "id": "dc7d2f70-9e5c-4aa3-9022-809f4bf59bce",
   "metadata": {},
   "outputs": [
    {
     "name": "stdout",
     "output_type": "stream",
     "text": [
      "Archive:  ../data/drugs-com/drugsCom_raw.zip\n",
      "  inflating: ../data/drugs-com/drugsComTest_raw.tsv  \n",
      "  inflating: ../data/drugs-com/drugsComTrain_raw.tsv  \n"
     ]
    }
   ],
   "source": [
    "# !wget -P ../data/drugs-com \"https://archive.ics.uci.edu/ml/machine-learning-databases/00462/drugsCom_raw.zip\"\n",
    "!unzip ../data/drugs-com/drugsCom_raw.zip -d ../data/drugs-com"
   ]
  },
  {
   "cell_type": "code",
   "execution_count": 1,
   "id": "bdf44a2d-9577-42ea-ac1b-92ce10e07514",
   "metadata": {},
   "outputs": [],
   "source": [
    "from datasets import load_dataset"
   ]
  },
  {
   "cell_type": "markdown",
   "id": "c9854c49-07e1-4e5e-9e4e-05ecbbc9434c",
   "metadata": {},
   "source": [
    "# Load dataset"
   ]
  },
  {
   "cell_type": "code",
   "execution_count": 19,
   "id": "4f4981d7-6016-4f66-a550-3d27b3854a0a",
   "metadata": {},
   "outputs": [],
   "source": [
    "data_dir_path = \"../data/drugs-com\""
   ]
  },
  {
   "cell_type": "code",
   "execution_count": 20,
   "id": "f9f012b6-84b1-4177-a089-57730fc6d60d",
   "metadata": {},
   "outputs": [],
   "source": [
    "data_files = {\"train\": f\"{data_dir_path}/drugsComTrain_raw.tsv\", \"test\": f\"{data_dir_path}/drugsComTest_raw.tsv\"}\n",
    "drug_dataset = load_dataset(\"csv\", data_files=data_files, delimiter=\"\\t\")"
   ]
  },
  {
   "cell_type": "code",
   "execution_count": 23,
   "id": "cb88c993-7cf1-48ab-8984-c5ba0ac73cc8",
   "metadata": {},
   "outputs": [
    {
     "data": {
      "text/plain": [
       "Dataset({\n",
       "    features: ['Unnamed: 0', 'drugName', 'condition', 'review', 'rating', 'date', 'usefulCount'],\n",
       "    num_rows: 161297\n",
       "})"
      ]
     },
     "execution_count": 23,
     "metadata": {},
     "output_type": "execute_result"
    }
   ],
   "source": [
    "drug_dataset[\"train\"]"
   ]
  },
  {
   "cell_type": "markdown",
   "id": "f8025b7a-8457-43c3-a672-a79776a598de",
   "metadata": {},
   "source": [
    "## Take a random sample to get a feel for the data"
   ]
  },
  {
   "cell_type": "code",
   "execution_count": 25,
   "id": "9de2f3ea-65c3-48b1-8a91-3a3e6c1a709d",
   "metadata": {},
   "outputs": [
    {
     "data": {
      "text/plain": [
       "{'Unnamed: 0': [87571, 178045, 80482],\n",
       " 'drugName': ['Naproxen', 'Duloxetine', 'Mobic'],\n",
       " 'condition': ['Gout, Acute', 'ibromyalgia', 'Inflammatory Conditions'],\n",
       " 'review': ['\"like the previous person mention, I&#039;m a strong believer of aleve, it works faster for my gout than the prescription meds I take. No more going to the doctor for refills.....Aleve works!\"',\n",
       "  '\"I have taken Cymbalta for about a year and a half for fibromyalgia pain. It is great\\r\\nas a pain reducer and an anti-depressant, however, the side effects outweighed \\r\\nany benefit I got from it. I had trouble with restlessness, being tired constantly,\\r\\ndizziness, dry mouth, numbness and tingling in my feet, and horrible sweating. I am\\r\\nbeing weaned off of it now. Went from 60 mg to 30mg and now to 15 mg. I will be\\r\\noff completely in about a week. The fibro pain is coming back, but I would rather deal with it than the side effects.\"',\n",
       "  '\"I have been taking Mobic for over a year with no side effects other than an elevated blood pressure.  I had severe knee and ankle pain which completely went away after taking Mobic.  I attempted to stop the medication however pain returned after a few days.\"'],\n",
       " 'rating': [9.0, 3.0, 10.0],\n",
       " 'date': ['September 2, 2015', 'November 7, 2011', 'June 5, 2013'],\n",
       " 'usefulCount': [36, 13, 128]}"
      ]
     },
     "execution_count": 25,
     "metadata": {},
     "output_type": "execute_result"
    }
   ],
   "source": [
    "drug_sample = drug_dataset[\"train\"].shuffle(seed=42).select(range(1000))\n",
    "drug_sample[:3]"
   ]
  },
  {
   "cell_type": "code",
   "execution_count": null,
   "id": "0787d71a-1690-4849-890b-d3e85026970e",
   "metadata": {},
   "outputs": [],
   "source": []
  }
 ],
 "metadata": {
  "kernelspec": {
   "display_name": "Python 3 (ipykernel)",
   "language": "python",
   "name": "python3"
  },
  "language_info": {
   "codemirror_mode": {
    "name": "ipython",
    "version": 3
   },
   "file_extension": ".py",
   "mimetype": "text/x-python",
   "name": "python",
   "nbconvert_exporter": "python",
   "pygments_lexer": "ipython3",
   "version": "3.10.12"
  }
 },
 "nbformat": 4,
 "nbformat_minor": 5
}
