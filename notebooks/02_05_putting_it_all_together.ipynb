{
 "cells": [
  {
   "cell_type": "code",
   "execution_count": 75,
   "id": "465395f8-99f1-4587-8d6c-877771b954b3",
   "metadata": {},
   "outputs": [],
   "source": [
    "from transformers import AutoTokenizer, AutoModel"
   ]
  },
  {
   "cell_type": "code",
   "execution_count": 18,
   "id": "a31e0059-36e3-4f75-9967-aa452c5453fc",
   "metadata": {},
   "outputs": [],
   "source": [
    "checkpoint = \"distilbert-base-uncased-finetuned-sst-2-english\"\n",
    "tokenizer = AutoTokenizer.from_pretrained(checkpoint)"
   ]
  },
  {
   "cell_type": "code",
   "execution_count": 99,
   "id": "d652c839-3ece-4698-8f5a-3a6676a5221d",
   "metadata": {},
   "outputs": [],
   "source": [
    "sequence1 = \"I've been waiting for a HuggingFace course my whole life.\"\n",
    "sequence2 = \"So have I!\""
   ]
  },
  {
   "cell_type": "code",
   "execution_count": 100,
   "id": "f7aeaeaa-1d36-4b26-8d88-abf352bd9169",
   "metadata": {},
   "outputs": [],
   "source": [
    "prep_inputs = tokenizer(sequence1)"
   ]
  },
  {
   "cell_type": "code",
   "execution_count": 101,
   "id": "7e002d62-c726-4f89-82c6-3142adaeed93",
   "metadata": {},
   "outputs": [
    {
     "data": {
      "text/plain": [
       "{'input_ids': [101, 1045, 1005, 2310, 2042, 3403, 2005, 1037, 17662, 12172, 2607, 2026, 2878, 2166, 1012, 102], 'attention_mask': [1, 1, 1, 1, 1, 1, 1, 1, 1, 1, 1, 1, 1, 1, 1, 1]}"
      ]
     },
     "execution_count": 101,
     "metadata": {},
     "output_type": "execute_result"
    }
   ],
   "source": [
    "prep_inputs"
   ]
  },
  {
   "cell_type": "code",
   "execution_count": 102,
   "id": "25dab6ef-5708-42be-b330-76f8bd642ecf",
   "metadata": {},
   "outputs": [],
   "source": [
    "sequences = [sequence1, sequence2]"
   ]
  },
  {
   "cell_type": "code",
   "execution_count": 103,
   "id": "d66ab99b-1c4e-4fae-bbf2-3d61a796f664",
   "metadata": {},
   "outputs": [],
   "source": [
    "prep_inputs = tokenizer(sequences, padding=True)"
   ]
  },
  {
   "cell_type": "code",
   "execution_count": 104,
   "id": "4e8b625f-2925-4922-9bb7-568b9064ca71",
   "metadata": {},
   "outputs": [
    {
     "data": {
      "text/plain": [
       "{'input_ids': [[101, 1045, 1005, 2310, 2042, 3403, 2005, 1037, 17662, 12172, 2607, 2026, 2878, 2166, 1012, 102], [101, 2061, 2031, 1045, 999, 102, 0, 0, 0, 0, 0, 0, 0, 0, 0, 0]], 'attention_mask': [[1, 1, 1, 1, 1, 1, 1, 1, 1, 1, 1, 1, 1, 1, 1, 1], [1, 1, 1, 1, 1, 1, 0, 0, 0, 0, 0, 0, 0, 0, 0, 0]]}"
      ]
     },
     "execution_count": 104,
     "metadata": {},
     "output_type": "execute_result"
    }
   ],
   "source": [
    "prep_inputs"
   ]
  },
  {
   "cell_type": "markdown",
   "id": "593d84e8-3899-4a95-829a-eefd5e055d8e",
   "metadata": {},
   "source": [
    "# Padding options"
   ]
  },
  {
   "cell_type": "code",
   "execution_count": 105,
   "id": "ec5a8aa2-ac28-4b4e-9b48-ee531c206912",
   "metadata": {},
   "outputs": [],
   "source": [
    "# Pad up to maximum sequence length\n",
    "prep_inputs = tokenizer(sequences, padding=\"longest\")\n",
    "\n",
    "# Pad up to model max length\n",
    "prep_inputs = tokenizer(sequences, padding=\"max_length\")\n",
    "\n",
    "# Pad up to specified length\n",
    "prep_inputs = tokenizer(sequences, padding=\"max_length\", max_length=32)"
   ]
  },
  {
   "cell_type": "markdown",
   "id": "d6679ede-2aca-43ce-8ce3-3f4095b45a2c",
   "metadata": {},
   "source": [
    "# Truncation"
   ]
  },
  {
   "cell_type": "code",
   "execution_count": 106,
   "id": "6ece43a3-397b-4c56-8806-ab797d3be625",
   "metadata": {},
   "outputs": [],
   "source": [
    "# Truncate if less than model max length\n",
    "prep_inputs = tokenizer(sequences, truncation=True)\n",
    "\n",
    "# Truncate if longer than specified max length\n",
    "prep_inputs = tokenizer(sequences, truncation=True, max_length=8)"
   ]
  },
  {
   "cell_type": "code",
   "execution_count": 107,
   "id": "ab1b4a58-f347-4c5b-84e5-73e7ab69512e",
   "metadata": {},
   "outputs": [
    {
     "data": {
      "text/plain": [
       "{'input_ids': [[101, 1045, 1005, 2310, 2042, 3403, 2005, 102], [101, 2061, 2031, 1045, 999, 102]], 'attention_mask': [[1, 1, 1, 1, 1, 1, 1, 1], [1, 1, 1, 1, 1, 1]]}"
      ]
     },
     "execution_count": 107,
     "metadata": {},
     "output_type": "execute_result"
    }
   ],
   "source": [
    "prep_inputs"
   ]
  },
  {
   "cell_type": "markdown",
   "id": "f10cf668-a8c5-4f6a-b022-cd32fd91dfc4",
   "metadata": {},
   "source": [
    "# Return tensors"
   ]
  },
  {
   "cell_type": "code",
   "execution_count": 108,
   "id": "699e6611-9dee-41e1-826e-0eef5e684fee",
   "metadata": {},
   "outputs": [],
   "source": [
    "prep_inputs = tokenizer(sequences, padding=True, return_tensors=\"pt\")\n",
    "# Won't run if not installed\n",
    "# prep_inputs = tokenizer(sequences, padding=True, return_tensors=\"tf\")\n",
    "prep_inputs = tokenizer(sequences, padding=True, return_tensors=\"np\")"
   ]
  },
  {
   "cell_type": "markdown",
   "id": "fc2c3341-5074-45be-bb2b-498e044a839e",
   "metadata": {},
   "source": [
    "# Special tokens"
   ]
  },
  {
   "cell_type": "code",
   "execution_count": 109,
   "id": "72cd7e32-de91-4dc0-b677-2a65744941ec",
   "metadata": {},
   "outputs": [],
   "source": [
    "prep_inputs = tokenizer(sequence1)\n",
    "tokens = tokenizer.tokenize(sequence1)\n",
    "ids = tokenizer.convert_tokens_to_ids(tokens)"
   ]
  },
  {
   "cell_type": "code",
   "execution_count": 110,
   "id": "e09c0be3-e657-4186-9703-c8e75c3042d5",
   "metadata": {},
   "outputs": [
    {
     "name": "stdout",
     "output_type": "stream",
     "text": [
      "[101, 1045, 1005, 2310, 2042, 3403, 2005, 1037, 17662, 12172, 2607, 2026, 2878, 2166, 1012, 102]\n",
      "[1045, 1005, 2310, 2042, 3403, 2005, 1037, 17662, 12172, 2607, 2026, 2878, 2166, 1012]\n"
     ]
    }
   ],
   "source": [
    "print(prep_inputs.input_ids)\n",
    "print(ids)"
   ]
  },
  {
   "cell_type": "code",
   "execution_count": 111,
   "id": "7f7a7183-83e2-454f-ad49-a2a62bf18dc7",
   "metadata": {},
   "outputs": [
    {
     "name": "stdout",
     "output_type": "stream",
     "text": [
      "[CLS] i've been waiting for a huggingface course my whole life. [SEP]\n",
      "i've been waiting for a huggingface course my whole life.\n"
     ]
    }
   ],
   "source": [
    "print(tokenizer.decode(prep_inputs.input_ids))\n",
    "print(tokenizer.decode(ids))"
   ]
  },
  {
   "cell_type": "code",
   "execution_count": 112,
   "id": "590b1537-4419-48ad-bd46-62538be1abc4",
   "metadata": {},
   "outputs": [],
   "source": [
    "model = AutoModel.from_pretrained(checkpoint)\n",
    "prep_inputs = tokenizer(sequences, padding=True, return_tensors=\"pt\")"
   ]
  },
  {
   "cell_type": "code",
   "execution_count": 113,
   "id": "15c2be7b-2cd5-4b04-94d4-a8d560de3ee4",
   "metadata": {},
   "outputs": [],
   "source": [
    "res = model(**prep_inputs)"
   ]
  },
  {
   "cell_type": "code",
   "execution_count": 114,
   "id": "7106aa1c-611d-4002-a595-f536dcea91b3",
   "metadata": {},
   "outputs": [
    {
     "data": {
      "text/plain": [
       "torch.Size([2, 16, 768])"
      ]
     },
     "execution_count": 114,
     "metadata": {},
     "output_type": "execute_result"
    }
   ],
   "source": [
    "res[0].shape"
   ]
  },
  {
   "cell_type": "code",
   "execution_count": null,
   "id": "05a73aa8-2228-4e85-805e-03dfacccdec1",
   "metadata": {},
   "outputs": [],
   "source": []
  }
 ],
 "metadata": {
  "kernelspec": {
   "display_name": "Python 3 (ipykernel)",
   "language": "python",
   "name": "python3"
  },
  "language_info": {
   "codemirror_mode": {
    "name": "ipython",
    "version": 3
   },
   "file_extension": ".py",
   "mimetype": "text/x-python",
   "name": "python",
   "nbconvert_exporter": "python",
   "pygments_lexer": "ipython3",
   "version": "3.10.12"
  }
 },
 "nbformat": 4,
 "nbformat_minor": 5
}
