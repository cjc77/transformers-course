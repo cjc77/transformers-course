{
 "cells": [
  {
   "cell_type": "code",
   "execution_count": 14,
   "id": "e95ce227-41dd-4179-8681-7a4739541095",
   "metadata": {},
   "outputs": [],
   "source": [
    "import torch\n",
    "from transformers import BertConfig, BertModel, AutoModel, AutoTokenizer"
   ]
  },
  {
   "cell_type": "markdown",
   "id": "995168a6-d24d-4954-8757-b3bb4fd2899f",
   "metadata": {},
   "source": [
    "# Create the model using random initial parameter values"
   ]
  },
  {
   "cell_type": "code",
   "execution_count": 2,
   "id": "865b1d1b-0197-4e19-b88e-64cfd1f98d3b",
   "metadata": {},
   "outputs": [],
   "source": [
    "config = BertConfig()\n",
    "model = BertModel(config)"
   ]
  },
  {
   "cell_type": "code",
   "execution_count": 3,
   "id": "04bc8473-c68c-467e-95da-8c2f2c448bb3",
   "metadata": {},
   "outputs": [
    {
     "name": "stdout",
     "output_type": "stream",
     "text": [
      "BertConfig {\n",
      "  \"attention_probs_dropout_prob\": 0.1,\n",
      "  \"classifier_dropout\": null,\n",
      "  \"hidden_act\": \"gelu\",\n",
      "  \"hidden_dropout_prob\": 0.1,\n",
      "  \"hidden_size\": 768,\n",
      "  \"initializer_range\": 0.02,\n",
      "  \"intermediate_size\": 3072,\n",
      "  \"layer_norm_eps\": 1e-12,\n",
      "  \"max_position_embeddings\": 512,\n",
      "  \"model_type\": \"bert\",\n",
      "  \"num_attention_heads\": 12,\n",
      "  \"num_hidden_layers\": 12,\n",
      "  \"pad_token_id\": 0,\n",
      "  \"position_embedding_type\": \"absolute\",\n",
      "  \"transformers_version\": \"4.31.0\",\n",
      "  \"type_vocab_size\": 2,\n",
      "  \"use_cache\": true,\n",
      "  \"vocab_size\": 30522\n",
      "}\n",
      "\n"
     ]
    }
   ],
   "source": [
    "print(config)"
   ]
  },
  {
   "cell_type": "markdown",
   "id": "6a00241d-21bd-4923-b2a2-48bcf7ee162d",
   "metadata": {},
   "source": [
    "# Create model from pretrained model checkpoint"
   ]
  },
  {
   "cell_type": "code",
   "execution_count": 4,
   "id": "72bfa8ed-90a9-4204-9a17-a2c08bde649e",
   "metadata": {},
   "outputs": [],
   "source": [
    "checkpoint = \"bert-base-cased\""
   ]
  },
  {
   "cell_type": "code",
   "execution_count": 5,
   "id": "a2fb3ca1-1937-46ef-9119-034bc452edc8",
   "metadata": {},
   "outputs": [],
   "source": [
    "model = BertModel.from_pretrained(checkpoint)"
   ]
  },
  {
   "cell_type": "markdown",
   "id": "e9bc9883-6bd7-4fb3-ac1e-4b77dbbe13a6",
   "metadata": {},
   "source": [
    "## Model-agnostic code"
   ]
  },
  {
   "cell_type": "code",
   "execution_count": 6,
   "id": "fe59be2b-b054-4de4-ab0b-d37da3d686df",
   "metadata": {},
   "outputs": [],
   "source": [
    "model = AutoModel.from_pretrained(checkpoint)"
   ]
  },
  {
   "cell_type": "markdown",
   "id": "77c69d02-61cd-4a5c-a686-5b63096bb393",
   "metadata": {},
   "source": [
    "# Save out a model"
   ]
  },
  {
   "cell_type": "code",
   "execution_count": 9,
   "id": "4338f08c-ae92-4f91-8b3c-c80e37e376ad",
   "metadata": {},
   "outputs": [],
   "source": [
    "model.save_pretrained(\"../temp/02_models_bert/\")"
   ]
  },
  {
   "cell_type": "markdown",
   "id": "38108518-31ca-455a-a190-167f8f66d795",
   "metadata": {},
   "source": [
    "# Perform inference"
   ]
  },
  {
   "cell_type": "code",
   "execution_count": 13,
   "id": "24f62958-a7cf-4617-9f74-712c39056521",
   "metadata": {},
   "outputs": [
    {
     "data": {
      "application/vnd.jupyter.widget-view+json": {
       "model_id": "96810d3a8a1f4c369bfc63dd74226f3c",
       "version_major": 2,
       "version_minor": 0
      },
      "text/plain": [
       "Downloading (…)okenizer_config.json:   0%|          | 0.00/29.0 [00:00<?, ?B/s]"
      ]
     },
     "metadata": {},
     "output_type": "display_data"
    },
    {
     "data": {
      "application/vnd.jupyter.widget-view+json": {
       "model_id": "2476b44ea38d44049f3234164aea6b98",
       "version_major": 2,
       "version_minor": 0
      },
      "text/plain": [
       "Downloading (…)solve/main/vocab.txt:   0%|          | 0.00/213k [00:00<?, ?B/s]"
      ]
     },
     "metadata": {},
     "output_type": "display_data"
    },
    {
     "data": {
      "application/vnd.jupyter.widget-view+json": {
       "model_id": "bf6b927a0ed149828db0a1e0cdc7e4c3",
       "version_major": 2,
       "version_minor": 0
      },
      "text/plain": [
       "Downloading (…)/main/tokenizer.json:   0%|          | 0.00/436k [00:00<?, ?B/s]"
      ]
     },
     "metadata": {},
     "output_type": "display_data"
    }
   ],
   "source": [
    "tokenizer = AutoTokenizer.from_pretrained(checkpoint)"
   ]
  },
  {
   "cell_type": "code",
   "execution_count": 31,
   "id": "54f2e78e-fa87-4597-9cb4-c72bda8cd028",
   "metadata": {},
   "outputs": [],
   "source": [
    "raw_inputs = [\"Hi, there!\", \"Cool.\", \"Nice job!\"]\n",
    "inputs = tokenizer(raw_inputs, padding=True, truncation=True, return_tensors=\"pt\")"
   ]
  },
  {
   "cell_type": "markdown",
   "id": "dd172322-8e2d-47b9-a226-36171816e0b5",
   "metadata": {},
   "source": [
    "Without attention masks"
   ]
  },
  {
   "cell_type": "code",
   "execution_count": 32,
   "id": "15217ca7-df1d-40fe-b3e7-7e1c982d780b",
   "metadata": {},
   "outputs": [],
   "source": [
    "outputs = model(inputs.input_ids)"
   ]
  },
  {
   "cell_type": "code",
   "execution_count": 33,
   "id": "1dfe353b-cf47-4931-895a-2abcbcf9c550",
   "metadata": {},
   "outputs": [
    {
     "name": "stdout",
     "output_type": "stream",
     "text": [
      "BaseModelOutputWithPoolingAndCrossAttentions(last_hidden_state=tensor([[[ 0.6236,  0.3565,  0.5802,  ..., -0.3294,  0.5388, -0.2190],\n",
      "         [ 0.6428, -0.4094,  0.7732,  ..., -0.3426,  0.3734, -0.1282],\n",
      "         [ 0.6879,  0.2467,  1.0143,  ...,  0.1481, -0.2785, -0.0918],\n",
      "         [ 0.7638, -0.3586,  0.2692,  ..., -0.2426,  0.5224,  0.2166],\n",
      "         [ 0.6864, -0.1121,  0.6731,  ...,  0.1787,  0.3986,  0.0682],\n",
      "         [ 1.1965,  0.3015, -0.1025,  ...,  0.4769,  1.0894, -0.0892]],\n",
      "\n",
      "        [[ 0.2361,  0.1350,  0.0641,  ..., -0.0991,  0.2830, -0.0489],\n",
      "         [ 0.1867, -0.3937,  0.8346,  ..., -0.3495,  0.2754,  0.2584],\n",
      "         [ 0.2668,  0.3711,  0.5993,  ...,  0.2455,  0.1631,  0.0813],\n",
      "         [ 0.7885,  0.7260, -0.1358,  ..., -0.1239,  0.7309, -0.4783],\n",
      "         [-0.4073,  0.1227,  0.4143,  ...,  0.3392,  0.1903,  0.5902],\n",
      "         [-0.2325, -0.0753,  0.5208,  ..., -0.3401,  0.0299,  0.4585]],\n",
      "\n",
      "        [[ 0.5610,  0.3537,  0.1751,  ..., -0.2953,  0.3454, -0.1724],\n",
      "         [ 0.2670, -0.4065,  0.4135,  ..., -0.1448,  0.1347,  0.1086],\n",
      "         [ 0.4760,  0.0855, -0.0594,  ...,  0.3747, -0.0725, -0.0804],\n",
      "         [ 0.1654,  0.3308,  0.3205,  ...,  0.1625, -0.0040,  0.2050],\n",
      "         [ 0.7878,  0.9674, -0.0126,  ...,  0.1034,  1.1930, -0.0941],\n",
      "         [-0.0317,  0.1398,  0.2168,  ..., -0.1702,  0.2962,  0.1754]]],\n",
      "       grad_fn=<NativeLayerNormBackward0>), pooler_output=tensor([[-0.7205,  0.4750,  0.9999,  ...,  1.0000, -0.8995,  0.9951],\n",
      "        [-0.6566,  0.5355,  1.0000,  ...,  1.0000, -0.6874,  0.9952],\n",
      "        [-0.6742,  0.4997,  0.9999,  ...,  1.0000, -0.9465,  0.9969]],\n",
      "       grad_fn=<TanhBackward0>), hidden_states=None, past_key_values=None, attentions=None, cross_attentions=None)\n"
     ]
    }
   ],
   "source": [
    "print(outputs)"
   ]
  },
  {
   "cell_type": "markdown",
   "id": "2185cda0-6f6d-465b-bd1b-5a13a7955019",
   "metadata": {},
   "source": [
    "With attention masks"
   ]
  },
  {
   "cell_type": "code",
   "execution_count": 34,
   "id": "8c78b8ab-8133-4b44-8dd5-1818bf95aeb5",
   "metadata": {},
   "outputs": [],
   "source": [
    "outputs = model(**inputs)"
   ]
  },
  {
   "cell_type": "code",
   "execution_count": 35,
   "id": "8ab54db9-12db-4e53-a9b2-04d9633ef157",
   "metadata": {},
   "outputs": [
    {
     "name": "stdout",
     "output_type": "stream",
     "text": [
      "BaseModelOutputWithPoolingAndCrossAttentions(last_hidden_state=tensor([[[ 0.6236,  0.3565,  0.5802,  ..., -0.3294,  0.5388, -0.2190],\n",
      "         [ 0.6428, -0.4094,  0.7732,  ..., -0.3426,  0.3734, -0.1282],\n",
      "         [ 0.6879,  0.2467,  1.0143,  ...,  0.1481, -0.2785, -0.0918],\n",
      "         [ 0.7638, -0.3586,  0.2692,  ..., -0.2426,  0.5224,  0.2166],\n",
      "         [ 0.6864, -0.1121,  0.6731,  ...,  0.1787,  0.3986,  0.0682],\n",
      "         [ 1.1965,  0.3015, -0.1025,  ...,  0.4769,  1.0894, -0.0892]],\n",
      "\n",
      "        [[ 0.3128,  0.1718,  0.2099,  ..., -0.0721,  0.4919, -0.1383],\n",
      "         [ 0.1545, -0.3757,  0.7187,  ..., -0.3130,  0.2822,  0.1883],\n",
      "         [ 0.4123,  0.3721,  0.5484,  ...,  0.0788,  0.5681, -0.2757],\n",
      "         [ 0.8356,  0.3964, -0.4121,  ...,  0.1838,  1.6365, -0.4806],\n",
      "         [-0.0193,  0.1555, -0.0885,  ...,  0.0891,  0.4179,  0.2057],\n",
      "         [-0.2468,  0.0290,  0.3317,  ..., -0.1685,  0.3317,  0.2554]],\n",
      "\n",
      "        [[ 0.5204,  0.2707,  0.1696,  ..., -0.1170,  0.3442, -0.0916],\n",
      "         [ 0.1861, -0.3755,  0.3963,  ..., -0.0951,  0.1462,  0.1943],\n",
      "         [ 0.5292,  0.0889,  0.0394,  ...,  0.4628,  0.0853, -0.1047],\n",
      "         [ 0.2123,  0.1074,  0.3686,  ...,  0.3332,  0.0787,  0.0990],\n",
      "         [ 0.7789,  0.8926,  0.2920,  ...,  0.5356,  1.3835, -0.0162],\n",
      "         [-0.0719, -0.2019,  0.1849,  ...,  0.0186,  0.3656,  0.2589]]],\n",
      "       grad_fn=<NativeLayerNormBackward0>), pooler_output=tensor([[-0.7205,  0.4750,  0.9999,  ...,  1.0000, -0.8995,  0.9951],\n",
      "        [-0.7731,  0.5619,  1.0000,  ...,  1.0000, -0.8397,  0.9944],\n",
      "        [-0.7335,  0.5352,  0.9999,  ...,  1.0000, -0.9288,  0.9970]],\n",
      "       grad_fn=<TanhBackward0>), hidden_states=None, past_key_values=None, attentions=None, cross_attentions=None)\n"
     ]
    }
   ],
   "source": [
    "print(outputs)"
   ]
  },
  {
   "cell_type": "code",
   "execution_count": null,
   "id": "9c23943f-646f-40ca-a33d-7d25775bd6dd",
   "metadata": {},
   "outputs": [],
   "source": []
  }
 ],
 "metadata": {
  "kernelspec": {
   "display_name": "Python 3 (ipykernel)",
   "language": "python",
   "name": "python3"
  },
  "language_info": {
   "codemirror_mode": {
    "name": "ipython",
    "version": 3
   },
   "file_extension": ".py",
   "mimetype": "text/x-python",
   "name": "python",
   "nbconvert_exporter": "python",
   "pygments_lexer": "ipython3",
   "version": "3.10.12"
  }
 },
 "nbformat": 4,
 "nbformat_minor": 5
}
