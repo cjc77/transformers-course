{
 "cells": [
  {
   "cell_type": "code",
   "execution_count": 71,
   "id": "723f956c-303a-4607-9346-7471c9087305",
   "metadata": {},
   "outputs": [],
   "source": [
    "from datasets import load_dataset\n",
    "from transformers import AutoTokenizer"
   ]
  },
  {
   "cell_type": "code",
   "execution_count": 2,
   "id": "55dd3acd-be3f-4624-93ef-7cbfb440ad84",
   "metadata": {},
   "outputs": [],
   "source": [
    "raw_datasets = load_dataset(\"conll2003\")"
   ]
  },
  {
   "cell_type": "code",
   "execution_count": 3,
   "id": "a9425514-fba4-49cb-992c-01caa6a8f093",
   "metadata": {},
   "outputs": [
    {
     "data": {
      "text/plain": [
       "DatasetDict({\n",
       "    train: Dataset({\n",
       "        features: ['id', 'tokens', 'pos_tags', 'chunk_tags', 'ner_tags'],\n",
       "        num_rows: 14041\n",
       "    })\n",
       "    validation: Dataset({\n",
       "        features: ['id', 'tokens', 'pos_tags', 'chunk_tags', 'ner_tags'],\n",
       "        num_rows: 3250\n",
       "    })\n",
       "    test: Dataset({\n",
       "        features: ['id', 'tokens', 'pos_tags', 'chunk_tags', 'ner_tags'],\n",
       "        num_rows: 3453\n",
       "    })\n",
       "})"
      ]
     },
     "execution_count": 3,
     "metadata": {},
     "output_type": "execute_result"
    }
   ],
   "source": [
    "raw_datasets"
   ]
  },
  {
   "cell_type": "markdown",
   "id": "c0083515-38fa-4173-9b36-0969de44f374",
   "metadata": {},
   "source": [
    "# Investigate data"
   ]
  },
  {
   "cell_type": "code",
   "execution_count": 5,
   "id": "7709cc0c-ed8b-4fc7-9daf-60a6a25e5276",
   "metadata": {},
   "outputs": [
    {
     "data": {
      "text/plain": [
       "['EU', 'rejects', 'German', 'call', 'to', 'boycott', 'British', 'lamb', '.']"
      ]
     },
     "execution_count": 5,
     "metadata": {},
     "output_type": "execute_result"
    }
   ],
   "source": [
    "raw_datasets[\"train\"][0][\"tokens\"]"
   ]
  },
  {
   "cell_type": "code",
   "execution_count": 6,
   "id": "da5dd311-426e-4b35-8d66-d8d3335562b7",
   "metadata": {},
   "outputs": [
    {
     "data": {
      "text/plain": [
       "[3, 0, 7, 0, 0, 0, 7, 0, 0]"
      ]
     },
     "execution_count": 6,
     "metadata": {},
     "output_type": "execute_result"
    }
   ],
   "source": [
    "raw_datasets[\"train\"][0][\"ner_tags\"]"
   ]
  },
  {
   "cell_type": "markdown",
   "id": "beb3f120-7a2f-4f62-95a2-df275cf62f97",
   "metadata": {},
   "source": [
    "## Label meanings"
   ]
  },
  {
   "cell_type": "code",
   "execution_count": 28,
   "id": "90710cf6-8e3a-434b-8415-f3f12857947f",
   "metadata": {},
   "outputs": [
    {
     "data": {
      "text/plain": [
       "['O', 'B-PER', 'I-PER', 'B-ORG', 'I-ORG', 'B-LOC', 'I-LOC', 'B-MISC', 'I-MISC']"
      ]
     },
     "execution_count": 28,
     "metadata": {},
     "output_type": "execute_result"
    }
   ],
   "source": [
    "raw_datasets[\"train\"].features[\"ner_tags\"].feature.names"
   ]
  },
  {
   "cell_type": "markdown",
   "id": "d935987a-09b3-4be2-b0fe-a9e55610da53",
   "metadata": {},
   "source": [
    "## Match labels to text"
   ]
  },
  {
   "cell_type": "code",
   "execution_count": 55,
   "id": "52f8bc8a-7be5-4187-a79f-013ba06e06c9",
   "metadata": {},
   "outputs": [],
   "source": [
    "def pp_words_and_labels(words, labels, label_names, max_line=80):\n",
    "    line1 = \"\"\n",
    "    line2 = \"\"\n",
    "    \n",
    "    for word, label in zip(words, labels):\n",
    "        full_label = label_names[label]\n",
    "        max_length = max(len(word), len(full_label))\n",
    "        line1 += word + \" \" * (max_length - len(word) + 1)\n",
    "        line2 += full_label + \" \" * (max_length - len(full_label) + 1)\n",
    "        if len(line1) > max_line:\n",
    "            print(line1)\n",
    "            print(line2)\n",
    "            line1 = \"\"\n",
    "            line2 = \"\"\n",
    "    print(line1)\n",
    "    print(line2)"
   ]
  },
  {
   "cell_type": "markdown",
   "id": "759a4bfe-b788-4b62-b035-9157305d2ec6",
   "metadata": {},
   "source": [
    "### NER labels"
   ]
  },
  {
   "cell_type": "code",
   "execution_count": 56,
   "id": "893b5afe-7ac2-4d12-9427-18161db9bd30",
   "metadata": {},
   "outputs": [
    {
     "name": "stdout",
     "output_type": "stream",
     "text": [
      "EU    rejects German call to boycott British lamb . \n",
      "B-ORG O       B-MISC O    O  O       B-MISC  O    O \n"
     ]
    }
   ],
   "source": [
    "pp_words_and_labels(\n",
    "    words=raw_datasets[\"train\"][0][\"tokens\"],\n",
    "    labels=raw_datasets[\"train\"][0][\"ner_tags\"],\n",
    "    label_names=raw_datasets[\"train\"].features[\"ner_tags\"].feature.names\n",
    ")"
   ]
  },
  {
   "cell_type": "code",
   "execution_count": 57,
   "id": "de069f0a-c372-4b15-939d-aca28e0859a7",
   "metadata": {},
   "outputs": [
    {
     "name": "stdout",
     "output_type": "stream",
     "text": [
      "Germany 's representative to the European Union 's veterinary committee Werner Zwingmann said on Wednesday consumers \n",
      "B-LOC   O  O              O  O   B-ORG    I-ORG O  O          O         B-PER  I-PER     O    O  O         O         \n",
      "should buy sheepmeat from countries other than Britain until the scientific advice was clearer . \n",
      "O      O   O         O    O         O     O    B-LOC   O     O   O          O      O   O       O \n"
     ]
    }
   ],
   "source": [
    "pp_words_and_labels(\n",
    "    words=raw_datasets[\"train\"][4][\"tokens\"],\n",
    "    labels=raw_datasets[\"train\"][4][\"ner_tags\"],\n",
    "    label_names=raw_datasets[\"train\"].features[\"ner_tags\"].feature.names,\n",
    "    max_line=110\n",
    ")"
   ]
  },
  {
   "cell_type": "markdown",
   "id": "4ce96d13-7184-4330-8d14-90b41336cb22",
   "metadata": {},
   "source": [
    "### POS labels"
   ]
  },
  {
   "cell_type": "code",
   "execution_count": 65,
   "id": "e249c5d2-828b-4537-8152-4ac694c72b88",
   "metadata": {},
   "outputs": [
    {
     "name": "stdout",
     "output_type": "stream",
     "text": [
      "EU  rejects German call to boycott British lamb . \n",
      "NNP VBZ     JJ     NN   TO VB      JJ      NN   . \n"
     ]
    }
   ],
   "source": [
    "pp_words_and_labels(\n",
    "    raw_datasets[\"train\"][0][\"tokens\"],\n",
    "    raw_datasets[\"train\"][0][\"pos_tags\"],\n",
    "    raw_datasets[\"train\"].features[\"pos_tags\"].feature.names,\n",
    ")"
   ]
  },
  {
   "cell_type": "code",
   "execution_count": 67,
   "id": "d121c535-3b95-4211-859e-833d13627255",
   "metadata": {},
   "outputs": [
    {
     "name": "stdout",
     "output_type": "stream",
     "text": [
      "Germany 's  representative to the European Union 's  veterinary committee Werner Zwingmann said on Wednesday consumers \n",
      "NNP     POS NN             TO DT  NNP      NNP   POS JJ         NN        NNP    NNP       VBD  IN NNP       NNS       \n",
      "should buy sheepmeat from countries other than Britain until the scientific advice was clearer . \n",
      "MD     VB  NN        IN   NNS       JJ    IN   NNP     IN    DT  JJ         NN     VBD JJR     . \n"
     ]
    }
   ],
   "source": [
    "pp_words_and_labels(\n",
    "    raw_datasets[\"train\"][4][\"tokens\"],\n",
    "    raw_datasets[\"train\"][4][\"pos_tags\"],\n",
    "    raw_datasets[\"train\"].features[\"pos_tags\"].feature.names,\n",
    "    max_line=110\n",
    ")"
   ]
  },
  {
   "cell_type": "markdown",
   "id": "618ea266-d6a8-4865-a2b9-17a6f7519433",
   "metadata": {},
   "source": [
    "### Chunking labels"
   ]
  },
  {
   "cell_type": "code",
   "execution_count": 68,
   "id": "0b75a8f0-c5c8-4cdb-be97-7dfdf2b7bfcd",
   "metadata": {},
   "outputs": [
    {
     "name": "stdout",
     "output_type": "stream",
     "text": [
      "EU   rejects German call to   boycott British lamb . \n",
      "B-NP B-VP    B-NP   I-NP B-VP I-VP    B-NP    I-NP O \n"
     ]
    }
   ],
   "source": [
    "pp_words_and_labels(\n",
    "    raw_datasets[\"train\"][0][\"tokens\"],\n",
    "    raw_datasets[\"train\"][0][\"chunk_tags\"],\n",
    "    raw_datasets[\"train\"].features[\"chunk_tags\"].feature.names,\n",
    ")"
   ]
  },
  {
   "cell_type": "code",
   "execution_count": 70,
   "id": "e4302c8b-ddb7-4a67-aba6-fd002c29fcde",
   "metadata": {},
   "outputs": [
    {
     "name": "stdout",
     "output_type": "stream",
     "text": [
      "Germany 's   representative to   the  European Union 's   veterinary committee Werner Zwingmann said on   Wednesday \n",
      "B-NP    B-NP I-NP           B-PP B-NP I-NP     I-NP  B-NP I-NP       I-NP      I-NP   I-NP      B-VP B-PP B-NP      \n",
      "consumers should buy  sheepmeat from countries other  than Britain until  the  scientific advice was  clearer . \n",
      "I-NP      B-VP   I-VP B-NP      B-PP B-NP      B-ADJP B-PP B-NP    B-SBAR B-NP I-NP       I-NP   B-VP B-ADJP  O \n"
     ]
    }
   ],
   "source": [
    "pp_words_and_labels(\n",
    "    raw_datasets[\"train\"][4][\"tokens\"],\n",
    "    raw_datasets[\"train\"][4][\"chunk_tags\"],\n",
    "    raw_datasets[\"train\"].features[\"chunk_tags\"].feature.names,\n",
    "    max_line=115\n",
    ")"
   ]
  },
  {
   "cell_type": "markdown",
   "id": "5df3c72a-877b-4082-90d7-7c71d34fd6e7",
   "metadata": {},
   "source": [
    "# Define tokenizer"
   ]
  },
  {
   "cell_type": "code",
   "execution_count": 72,
   "id": "750fc531-3e92-4489-adeb-7c26a89d8510",
   "metadata": {},
   "outputs": [],
   "source": [
    "model_checkpoint = \"bert-base-cased\""
   ]
  },
  {
   "cell_type": "code",
   "execution_count": 73,
   "id": "50eb2a3a-e803-4564-af6f-beac1ffc5bc2",
   "metadata": {},
   "outputs": [
    {
     "name": "stderr",
     "output_type": "stream",
     "text": [
      "'(ReadTimeoutError(\"HTTPSConnectionPool(host='huggingface.co', port=443): Read timed out. (read timeout=10)\"), '(Request ID: 9d0a3653-f952-4a05-b940-35c98af5052c)')' thrown while requesting HEAD https://huggingface.co/bert-base-cased/resolve/main/tokenizer_config.json\n"
     ]
    }
   ],
   "source": [
    "tokenizer = AutoTokenizer.from_pretrained(model_checkpoint)"
   ]
  },
  {
   "cell_type": "code",
   "execution_count": 74,
   "id": "06f8f574-60fd-4eac-b25c-d3b877eb638e",
   "metadata": {},
   "outputs": [
    {
     "data": {
      "text/plain": [
       "True"
      ]
     },
     "execution_count": 74,
     "metadata": {},
     "output_type": "execute_result"
    }
   ],
   "source": [
    "tokenizer.is_fast"
   ]
  },
  {
   "cell_type": "markdown",
   "id": "1246b6df-529f-4e9e-a8af-57714cdd2c60",
   "metadata": {},
   "source": [
    "## Text is pre-tokenized, need to tell our tokenizer to handle this"
   ]
  },
  {
   "cell_type": "code",
   "execution_count": 75,
   "id": "1a0491fe-dd6f-40f1-98a2-9f21afcb6d4a",
   "metadata": {},
   "outputs": [],
   "source": [
    "inputs = tokenizer(raw_datasets[\"train\"][0][\"tokens\"], is_split_into_words=True)"
   ]
  },
  {
   "cell_type": "code",
   "execution_count": 76,
   "id": "8a8d28b3-3e19-4db7-a51b-2622050a405a",
   "metadata": {},
   "outputs": [
    {
     "data": {
      "text/plain": [
       "['[CLS]',\n",
       " 'EU',\n",
       " 'rejects',\n",
       " 'German',\n",
       " 'call',\n",
       " 'to',\n",
       " 'boycott',\n",
       " 'British',\n",
       " 'la',\n",
       " '##mb',\n",
       " '.',\n",
       " '[SEP]']"
      ]
     },
     "execution_count": 76,
     "metadata": {},
     "output_type": "execute_result"
    }
   ],
   "source": [
    "inputs.tokens()"
   ]
  },
  {
   "cell_type": "code",
   "execution_count": 83,
   "id": "848f06c9-8cba-4a31-9650-ef49751ddaa8",
   "metadata": {},
   "outputs": [],
   "source": [
    "labels = raw_datasets[\"train\"][0][\"ner_tags\"]"
   ]
  },
  {
   "cell_type": "markdown",
   "id": "288c3f57-0889-4139-9df2-7ff5b4f6554c",
   "metadata": {},
   "source": [
    "### Label and token mismatch\n",
    "\n",
    "Length of labels & tokens no longer match, since words were split up and special tokens were added"
   ]
  },
  {
   "cell_type": "code",
   "execution_count": 89,
   "id": "aecc657b-a440-44af-998d-e4ea1ed1912d",
   "metadata": {},
   "outputs": [
    {
     "name": "stdout",
     "output_type": "stream",
     "text": [
      "9 12\n"
     ]
    }
   ],
   "source": [
    "print(len(labels), len(inputs.tokens()))"
   ]
  },
  {
   "cell_type": "markdown",
   "id": "d99b06d9-27c0-45ea-b6f4-3302e5260a22",
   "metadata": {},
   "source": [
    "### Solution\n",
    "Match tokens to corresponding word and then expanding the label list to match the tokens"
   ]
  },
  {
   "cell_type": "code",
   "execution_count": 88,
   "id": "583c9ee0-625e-4c23-9464-7c776f0a3433",
   "metadata": {},
   "outputs": [
    {
     "data": {
      "text/plain": [
       "[None, 0, 1, 2, 3, 4, 5, 6, 7, 7, 8, None]"
      ]
     },
     "execution_count": 88,
     "metadata": {},
     "output_type": "execute_result"
    }
   ],
   "source": [
    "inputs.word_ids()"
   ]
  },
  {
   "cell_type": "code",
   "execution_count": 90,
   "id": "47b28737-9940-49c8-9ce0-59bd801b242a",
   "metadata": {},
   "outputs": [],
   "source": [
    "def align_labels_with_tokens(labels, word_ids):\n",
    "    new_labels = []\n",
    "    current_word = None\n",
    "    for word_id in word_ids:\n",
    "        if word_id != current_word:\n",
    "            # Start of a new word\n",
    "            current_word = word_id\n",
    "            label = -100 if word_id is None else labels[word_id]\n",
    "            new_labels.append(label)\n",
    "        elif word_id is None:\n",
    "            # Special token\n",
    "            new_labels.append(-100)\n",
    "        else:\n",
    "            # Same word as previous token\n",
    "            label = labels[word_id]\n",
    "            # If label is B-XXX, change it to I-XXX since we're continuing the same word\n",
    "            if label % 2 == 1:\n",
    "                label += 1\n",
    "            new_labels.append(label)\n",
    "    return new_labels"
   ]
  },
  {
   "cell_type": "code",
   "execution_count": 91,
   "id": "6bc98710-560e-4550-9090-e65a573af69b",
   "metadata": {},
   "outputs": [],
   "source": [
    "labels = raw_datasets[\"train\"][0][\"ner_tags\"]\n",
    "word_ids = inputs.word_ids()"
   ]
  },
  {
   "cell_type": "code",
   "execution_count": 94,
   "id": "2419a11c-72de-4aa8-a0ce-e05cf257dd81",
   "metadata": {},
   "outputs": [
    {
     "name": "stdout",
     "output_type": "stream",
     "text": [
      "[3, 0, 7, 0, 0, 0, 7, 0, 0]\n",
      "[-100, 3, 0, 7, 0, 0, 0, 7, 0, 0, 0, -100]\n"
     ]
    }
   ],
   "source": [
    "print(labels)\n",
    "print(align_labels_with_tokens(labels, word_ids))"
   ]
  }
 ],
 "metadata": {
  "kernelspec": {
   "display_name": "Python 3 (ipykernel)",
   "language": "python",
   "name": "python3"
  },
  "language_info": {
   "codemirror_mode": {
    "name": "ipython",
    "version": 3
   },
   "file_extension": ".py",
   "mimetype": "text/x-python",
   "name": "python",
   "nbconvert_exporter": "python",
   "pygments_lexer": "ipython3",
   "version": "3.10.12"
  }
 },
 "nbformat": 4,
 "nbformat_minor": 5
}
